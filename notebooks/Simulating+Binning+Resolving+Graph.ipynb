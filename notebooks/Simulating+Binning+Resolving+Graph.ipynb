{
 "cells": [
  {
   "cell_type": "markdown",
   "metadata": {},
   "source": [
    "# Example Usage of Nucleotides code"
   ]
  },
  {
   "cell_type": "code",
   "execution_count": 1,
   "metadata": {
    "collapsed": false
   },
   "outputs": [
    {
     "data": {
      "text/plain": [
       "Nucleotides.FastqSequence(\"Example\",Union{Nucleotides.DNANucCombo,Nucleotides.DNANucleotide}[DNA_G,DNA_A,DNA_T,DNA_A,DNA_A,DNA_C,DNA_A,DNA_G,DNA_G,DNA_A  …  DNA_A,DNA_T,DNA_G,DNA_A,DNA_T,DNA_C,DNA_C,DNA_A,DNA_T,DNA_G],Int8[30,30,30,30,30,30,30,30,30,30  …  30,30,30,30,30,30,30,30,30,30])"
      ]
     },
     "execution_count": 1,
     "metadata": {},
     "output_type": "execute_result"
    }
   ],
   "source": [
    "using HMMIDMethods\n",
    "using HMMIDConfig\n",
    "using Nucleotides\n",
    "quality = Int8(log10(0.001)*-10)\n",
    "symbols = Array{DNASymbol,1}(Array{Char,1}(\"GATAACAGGATACCTAGATAGATGATGATCCATG\"))\n",
    "example_observed_sequence = FastqSequence(\"Example\", symbols, fill(quality, length(symbols)))"
   ]
  },
  {
   "cell_type": "code",
   "execution_count": 2,
   "metadata": {
    "collapsed": false
   },
   "outputs": [
    {
     "data": {
      "text/plain": [
       "HMMIDConfig.Template(\"Example\",States.AbstractState[States.StartingState(),States.RepeatingAnyState(DNA_N),States.ObservableState(DNA_G),States.ObservableState(DNA_A),States.ObservableState(DNA_T),States.ObservableState(DNA_T),States.ObservableState(DNA_A),States.ObservableState(DNA_C),States.ObservableState(DNA_A),States.BarcodeState(DNA_N)  …  States.BarcodeState(DNA_N),States.BarcodeState(DNA_N),States.BarcodeState(DNA_N),States.ObservableState(DNA_A),States.ObservableState(DNA_C),States.ObservableState(DNA_C),States.ObservableState(DNA_T),States.ObservableState(DNA_A),States.ObservableState(DNA_G),States.RepeatingAnyState(DNA_N)])"
      ]
     },
     "execution_count": 2,
     "metadata": {},
     "output_type": "execute_result"
    }
   ],
   "source": [
    "using States\n",
    "example_template = Template(\"Example\", string_to_state_array(\"*GATTACAnnnnnACCTAG*\"))"
   ]
  },
  {
   "cell_type": "code",
   "execution_count": 3,
   "metadata": {
    "collapsed": false
   },
   "outputs": [
    {
     "data": {
      "text/plain": [
       "(-18.168721202120896,Union{Nucleotides.DNANucCombo,Nucleotides.DNANucleotide}[DNA_G,DNA_G,DNA_A,DNA_T],2)"
      ]
     },
     "execution_count": 3,
     "metadata": {},
     "output_type": "execute_result"
    }
   ],
   "source": [
    "using Observations\n",
    "using NeedlemanWunsch\n",
    "observations = sequence_to_observations(example_observed_sequence.seq, example_observed_sequence.quality)\n",
    "score, tag, errors = NeedlemanWunsch.extract_tag(observations, example_template.reference)"
   ]
  },
  {
   "cell_type": "markdown",
   "metadata": {},
   "source": [
    "# Making a simulated dataset"
   ]
  },
  {
   "cell_type": "code",
   "execution_count": 4,
   "metadata": {
    "collapsed": false
   },
   "outputs": [
    {
     "name": "stderr",
     "output_type": "stream",
     "text": [
      "\u001b[1m\u001b[34mINFO: Recompiling stale cache file /Users/robert/.julia/lib/v0.5/Bio.ji for module Bio.\n",
      "\u001b[0m\u001b[1m\u001b[31mERROR: LoadError: LoadError: Unable to load \n",
      "\n",
      "libRmath (/Users/robert/.julia/v0.5/Rmath/deps/usr/lib/libRmath-julia.dylib)\n",
      "\n",
      "Please re-run Pkg.build(package), and restart Julia.\n",
      " in include_from_node1(::String) at ./loading.jl:488\n",
      " in include_from_node1(::String) at /Applications/Julia-0.5.app/Contents/Resources/julia/lib/julia/sys.dylib:?\n",
      " in include_from_node1(::String) at ./loading.jl:488\n",
      " in include_from_node1(::String) at /Applications/Julia-0.5.app/Contents/Resources/julia/lib/julia/sys.dylib:?\n",
      " in macro expansion; at ./none:2 [inlined]\n",
      " in anonymous at ./<missing>:?\n",
      " in eval(::Module, ::Any) at ./boot.jl:234\n",
      " in eval(::Module, ::Any) at /Applications/Julia-0.5.app/Contents/Resources/julia/lib/julia/sys.dylib:?\n",
      " in process_options(::Base.JLOptions) at ./client.jl:242\n",
      " in _start() at ./client.jl:321\n",
      " in _start() at /Applications/Julia-0.5.app/Contents/Resources/julia/lib/julia/sys.dylib:?\n",
      "while loading /Users/robert/.julia/v0.5/Rmath/src/../deps/deps.jl, in expression starting on line 12\n",
      "while loading /Users/robert/.julia/v0.5/Rmath/src/Rmath.jl, in expression starting on line 15\n",
      "\u001b[0m\u001b[1m\u001b[31mERROR: LoadError: LoadError: Failed to precompile Rmath to /Users/robert/.julia/lib/v0.5/Rmath.ji.\n",
      " in compilecache(::String) at ./loading.jl:593\n",
      " in require(::Symbol) at ./loading.jl:393\n",
      " in require(::Symbol) at /Applications/Julia-0.5.app/Contents/Resources/julia/lib/julia/sys.dylib:?\n",
      " in include_from_node1(::String) at ./loading.jl:488\n",
      " in include_from_node1(::String) at /Applications/Julia-0.5.app/Contents/Resources/julia/lib/julia/sys.dylib:?\n",
      " in include_from_node1(::String) at ./loading.jl:488\n",
      " in include_from_node1(::String) at /Applications/Julia-0.5.app/Contents/Resources/julia/lib/julia/sys.dylib:?\n",
      " in macro expansion; at ./none:2 [inlined]\n",
      " in anonymous at ./<missing>:?\n",
      " in eval(::Module, ::Any) at ./boot.jl:234\n",
      " in eval(::Module, ::Any) at /Applications/Julia-0.5.app/Contents/Resources/julia/lib/julia/sys.dylib:?\n",
      " in process_options(::Base.JLOptions) at ./client.jl:242\n",
      " in _start() at ./client.jl:321\n",
      " in _start() at /Applications/Julia-0.5.app/Contents/Resources/julia/lib/julia/sys.dylib:?\n",
      "while loading /Users/robert/.julia/v0.5/StatsFuns/src/rmath.jl, in expression starting on line 6\n",
      "while loading /Users/robert/.julia/v0.5/StatsFuns/src/StatsFuns.jl, in expression starting on line 228\n",
      "\u001b[0m\u001b[1m\u001b[31mERROR: LoadError: Failed to precompile StatsFuns to /Users/robert/.julia/lib/v0.5/StatsFuns.ji.\n",
      " in compilecache(::String) at ./loading.jl:593\n",
      " in require(::Symbol) at ./loading.jl:393\n",
      " in require(::Symbol) at /Applications/Julia-0.5.app/Contents/Resources/julia/lib/julia/sys.dylib:?\n",
      " in include_from_node1(::String) at ./loading.jl:488\n",
      " in include_from_node1(::String) at /Applications/Julia-0.5.app/Contents/Resources/julia/lib/julia/sys.dylib:?\n",
      " in macro expansion; at ./none:2 [inlined]\n",
      " in anonymous at ./<missing>:?\n",
      " in eval(::Module, ::Any) at ./boot.jl:234\n",
      " in eval(::Module, ::Any) at /Applications/Julia-0.5.app/Contents/Resources/julia/lib/julia/sys.dylib:?\n",
      " in process_options(::Base.JLOptions) at ./client.jl:242\n",
      " in _start() at ./client.jl:321\n",
      " in _start() at /Applications/Julia-0.5.app/Contents/Resources/julia/lib/julia/sys.dylib:?\n",
      "while loading /Users/robert/.julia/v0.5/Distributions/src/Distributions.jl, in expression starting on line 6\n",
      "\u001b[0m\u001b[1m\u001b[31mERROR: LoadError: Failed to precompile Distributions to /Users/robert/.julia/lib/v0.5/Distributions.ji.\n",
      " in compilecache(::String) at ./loading.jl:593\n",
      " in require(::Symbol) at ./loading.jl:393\n",
      " in require(::Symbol) at /Applications/Julia-0.5.app/Contents/Resources/julia/lib/julia/sys.dylib:?\n",
      " in include_from_node1(::String) at ./loading.jl:488\n",
      " in include_from_node1(::String) at /Applications/Julia-0.5.app/Contents/Resources/julia/lib/julia/sys.dylib:?\n",
      " in macro expansion; at ./none:2 [inlined]\n",
      " in anonymous at ./<missing>:?\n",
      " in eval(::Module, ::Any) at ./boot.jl:234\n",
      " in eval(::Module, ::Any) at /Applications/Julia-0.5.app/Contents/Resources/julia/lib/julia/sys.dylib:?\n",
      " in process_options(::Base.JLOptions) at ./client.jl:242\n",
      " in _start() at ./client.jl:321\n",
      " in _start() at /Applications/Julia-0.5.app/Contents/Resources/julia/lib/julia/sys.dylib:?\n",
      "while loading /Users/robert/.julia/v0.5/LightGraphs/src/LightGraphs.jl, in expression starting on line 5\n",
      "\u001b[0m\u001b[1m\u001b[31mERROR: LoadError: LoadError: Failed to precompile LightGraphs to /Users/robert/.julia/lib/v0.5/LightGraphs.ji.\n",
      " in compilecache(::String) at ./loading.jl:593\n",
      " in require(::Symbol) at ./loading.jl:393\n",
      " in require(::Symbol) at /Applications/Julia-0.5.app/Contents/Resources/julia/lib/julia/sys.dylib:?\n",
      " in include_from_node1(::String) at ./loading.jl:488\n",
      " in include_from_node1(::String) at /Applications/Julia-0.5.app/Contents/Resources/julia/lib/julia/sys.dylib:?\n",
      " in include_from_node1(::String) at ./loading.jl:488\n",
      " in include_from_node1(::String) at /Applications/Julia-0.5.app/Contents/Resources/julia/lib/julia/sys.dylib:?\n",
      " in macro expansion; at ./none:2 [inlined]\n",
      " in anonymous at ./<missing>:?\n",
      " in eval(::Module, ::Any) at ./boot.jl:234\n",
      " in eval(::Module, ::Any) at /Applications/Julia-0.5.app/Contents/Resources/julia/lib/julia/sys.dylib:?\n",
      " in process_options(::Base.JLOptions) at ./client.jl:242\n",
      " in _start() at ./client.jl:321\n",
      " in _start() at /Applications/Julia-0.5.app/Contents/Resources/julia/lib/julia/sys.dylib:?\n",
      "while loading /Users/robert/.julia/v0.5/Bio/src/phylo/Phylo.jl, in expression starting on line 14\n",
      "while loading /Users/robert/.julia/v0.5/Bio/src/Bio.jl, in expression starting on line 15\n",
      "\u001b[0m"
     ]
    },
    {
     "ename": "LoadError",
     "evalue": "LoadError: LoadError: Failed to precompile Bio to /Users/robert/.julia/lib/v0.5/Bio.ji.\nwhile loading /Users/robert/bio/quiver2.jl/src/QIO.jl, in expression starting on line 3\nwhile loading /Users/robert/bio/quiver2.jl/src/Quiver2.jl, in expression starting on line 6",
     "output_type": "error",
     "traceback": [
      "LoadError: LoadError: Failed to precompile Bio to /Users/robert/.julia/lib/v0.5/Bio.ji.\nwhile loading /Users/robert/bio/quiver2.jl/src/QIO.jl, in expression starting on line 3\nwhile loading /Users/robert/bio/quiver2.jl/src/Quiver2.jl, in expression starting on line 6",
      "",
      " in compilecache(::String) at ./loading.jl:593",
      " in require(::Symbol) at ./loading.jl:393",
      " in require(::Symbol) at /Applications/Julia-0.5.app/Contents/Resources/julia/lib/julia/sys.dylib:?",
      " in include_from_node1(::String) at ./loading.jl:488",
      " in include_from_node1(::String) at /Applications/Julia-0.5.app/Contents/Resources/julia/lib/julia/sys.dylib:?",
      " in include_from_node1(::String) at ./loading.jl:488",
      " in include_from_node1(::String) at /Applications/Julia-0.5.app/Contents/Resources/julia/lib/julia/sys.dylib:?"
     ]
    }
   ],
   "source": [
    "include(\"/Users/robert/bio/quiver2.jl/src/Quiver2.jl\")\n",
    "using Quiver2\n",
    "using Distributions"
   ]
  },
  {
   "cell_type": "code",
   "execution_count": 5,
   "metadata": {
    "collapsed": false
   },
   "outputs": [
    {
     "ename": "LoadError",
     "evalue": "UndefVarError: Model not defined",
     "output_type": "error",
     "traceback": [
      "UndefVarError: Model not defined",
      ""
     ]
    }
   ],
   "source": [
    "errors = Quiver2.Model.ErrorModel(1.0, 2.0, 2.0, 0., 0.);\n",
    "#Quiver2.sample.sample_from_template()\n",
    "\n",
    "template_before_pid = \"GATTACA\"\n",
    "pid_length = 8\n",
    "template_after_pid = \"ACGTACGTGGAAGACTTA\"\n",
    "error_rate = 0.005\n",
    "std = 0.0001\n",
    "alpha = 1.0  # alpha parameter of Beta distribution of template error rates\n",
    "actual_std = 2.0  # std dev of sequence per-base actual phreds\n",
    "reported_std = 0.00001  # std dev of sequence per-base reported phreds\n",
    "number_of_pids = 100\n",
    "copy_distribution1 = Poisson(5)\n",
    "copy_distribution2 = Poisson(500)\n",
    "\n",
    "function generate_sequence(scale, templ)\n",
    "  len = length(templ)\n",
    "  const MIN_PROB = 1e-10\n",
    "  const MAX_PROB = 0.3\n",
    "  beta = alpha * (error_rate - MAX_PROB) / (MIN_PROB - error_rate)\n",
    "  error_dist = Beta(alpha, beta)\n",
    "  template_error_p = rand(error_dist, len) * (MAX_PROB - MIN_PROB) + MIN_PROB\n",
    "  sample = Quiver2.Sample.sample_from_template(templ, template_error_p, errors, scale, actual_std, reported_std)\n",
    "  (read, actual_error_p, phreds, _, _) = sample\n",
    "  return (read, phreds)\n",
    "end"
   ]
  },
  {
   "cell_type": "code",
   "execution_count": 6,
   "metadata": {
    "collapsed": false
   },
   "outputs": [
    {
     "ename": "LoadError",
     "evalue": "UndefVarError: number_of_pids not defined",
     "output_type": "error",
     "traceback": [
      "UndefVarError: number_of_pids not defined",
      "",
      " in anonymous at ./<missing>:?"
     ]
    }
   ],
   "source": [
    "sequences = []\n",
    "pid_count = []\n",
    "for i in 1:number_of_pids\n",
    "  pid = join(sample([\"A\", \"C\", \"G\", \"T\"], pid_length))\n",
    "  template = DNASequence(\"$(template_before_pid)$(pid)$(template_after_pid)\")\n",
    "  if rand() > .5\n",
    "    copies_of_pid_i = rand(copy_distribution1) + 2\n",
    "  else\n",
    "    copies_of_pid_i = rand(copy_distribution2) + 2\n",
    "  end\n",
    "  push!(pid_count, copies_of_pid_i)\n",
    "  for j in 1:copies_of_pid_i\n",
    "    label = \"PID_$(i)_$(pid)_$(j)_of_$(copies_of_pid_i)\"\n",
    "    scale = rand(Normal(1.0, 0.1))\n",
    "    sequence, quality = generate_sequence(scale, template)\n",
    "    push!(sequences, (label, sequence, quality))\n",
    "  end\n",
    "end\n",
    "\n",
    "shuffle!(sequences)"
   ]
  },
  {
   "cell_type": "markdown",
   "metadata": {},
   "source": [
    "# Running HMMIDS on Simulation Data"
   ]
  },
  {
   "cell_type": "code",
   "execution_count": 7,
   "metadata": {
    "collapsed": false
   },
   "outputs": [
    {
     "data": {
      "text/plain": [
       "HMMIDConfig.Configuration(String[\"data/SimulatorOutput.fastq\"],fastq::HMMIDConfig.FileType = 1,0,-1,4,false,HMMIDConfig.Template[HMMIDConfig.Template(\"InputTemplate\",States.AbstractState[States.StartingState(),States.RepeatingAnyState(DNA_N),States.ObservableState(DNA_G),States.ObservableState(DNA_A),States.ObservableState(DNA_T),States.ObservableState(DNA_T),States.ObservableState(DNA_A),States.ObservableState(DNA_C),States.ObservableState(DNA_A),States.BarcodeState(DNA_N)  …  States.ObservableState(DNA_G),States.ObservableState(DNA_A),States.ObservableState(DNA_A),States.ObservableState(DNA_G),States.ObservableState(DNA_A),States.ObservableState(DNA_C),States.ObservableState(DNA_T),States.ObservableState(DNA_T),States.ObservableState(DNA_A),States.RepeatingAnyState(DNA_N)])])"
      ]
     },
     "execution_count": 7,
     "metadata": {},
     "output_type": "execute_result"
    }
   ],
   "source": [
    "cfg = read_from_json(\"data/Simulation.json\") "
   ]
  },
  {
   "cell_type": "code",
   "execution_count": 8,
   "metadata": {
    "collapsed": false
   },
   "outputs": [],
   "source": [
    "dir_dict = Dict()\n",
    "my_output_func(source_file_name, template, tag, output_sequence, score) = HMMIDMethods.write_to_dictionary(dir_dict, source_file_name, template, tag, output_sequence, score)\n",
    "\n",
    "# This is the slow bit\n",
    "process_file(cfg.files[1], cfg, my_output_func)"
   ]
  },
  {
   "cell_type": "code",
   "execution_count": 9,
   "metadata": {
    "collapsed": false
   },
   "outputs": [
    {
     "data": {
      "text/plain": [
       "1-element Array{Any,1}:\n",
       " \"data/SimulatorOutput.fastq/InputTemplate\""
      ]
     },
     "execution_count": 9,
     "metadata": {},
     "output_type": "execute_result"
    }
   ],
   "source": [
    "directories = collect(keys(dir_dict))"
   ]
  },
  {
   "cell_type": "code",
   "execution_count": 10,
   "metadata": {
    "collapsed": false
   },
   "outputs": [
    {
     "data": {
      "text/plain": [
       "Dict{Any,Any} with 874 entries:\n",
       "  \"TACGCAATG\" => Any[(-15.8347,Nucleotides.FastqSequence(\"PID_15_TCGCAATG_379_o…\n",
       "  \"GCAAGGAT\"  => Any[(-11.2168,Nucleotides.FastqSequence(\"PID_52_GCAAGGAC_135_o…\n",
       "  \"GGCGTCAC\"  => Any[(-15.8421,Nucleotides.FastqSequence(\"PID_46_GCGTCACA_184_o…\n",
       "  \"GGTCTTAA\"  => Any[(-11.1964,Nucleotides.FastqSequence(\"PID_20_GGTCTTAC_179_o…\n",
       "  \"GTTAAGTCG\" => Any[(-15.8893,Nucleotides.FastqSequence(\"PID_75_GTTAAGTC_190_o…\n",
       "  \"GGCCCGGG\"  => Any[(-11.2417,Nucleotides.FastqSequence(\"PID_26_GGCCCGGG_5_of_…\n",
       "  \"TATTTGTTC\" => Any[(-15.8457,Nucleotides.FastqSequence(\"PID_30_TTTTGTTC_454_o…\n",
       "  \"CAGCTAG\"   => Any[(-14.3743,Nucleotides.FastqSequence(\"PID_23_CAGACTAG_237_o…\n",
       "  \"CAGCTTAA\"  => Any[(-11.1621,Nucleotides.FastqSequence(\"PID_10_CAGCTCAA_295_o…\n",
       "  \"CGTGCCA\"   => Any[(-14.4059,Nucleotides.FastqSequence(\"PID_37_CGTTGCCA_12_of…\n",
       "  \"CTCGACC\"   => Any[(-14.4958,Nucleotides.FastqSequence(\"PID_5_CATCGACC_143_of…\n",
       "  \"GTCCCATC\"  => Any[(-11.1855,Nucleotides.FastqSequence(\"PID_65_GTCCCATC_2_of_…\n",
       "  \"CGATTCATT\" => Any[(-15.7991,Nucleotides.FastqSequence(\"PID_96_CGATCATT_340_o…\n",
       "  \"AGGAATATC\" => Any[(-20.4663,Nucleotides.FastqSequence(\"PID_70_AGGAAATC_115_o…\n",
       "  \"CCATCATT\"  => Any[(-11.2219,Nucleotides.FastqSequence(\"PID_96_CGATCATT_29_of…\n",
       "  \"TGGGTGCA\"  => Any[(-11.2322,Nucleotides.FastqSequence(\"PID_34_TGGGTGCA_9_of_…\n",
       "  \"CTCGTTTTT\" => Any[(-15.8583,Nucleotides.FastqSequence(\"PID_7_CTCGTTTT_340_of…\n",
       "  \"GGCATCGTT\" => Any[(-20.3549,Nucleotides.FastqSequence(\"PID_64_GGCATCGT_172_o…\n",
       "  \"CGTCTATCA\" => Any[(-15.8055,Nucleotides.FastqSequence(\"PID_73_CGCTATCA_300_o…\n",
       "  \"ACATAGTGT\" => Any[(-20.4747,Nucleotides.FastqSequence(\"PID_54_ACTAGTGT_305_o…\n",
       "  \"CAGTAGCG\"  => Any[(-15.7756,Nucleotides.FastqSequence(\"PID_16_CAGTGCGA_480_o…\n",
       "  \"CGTACAG\"   => Any[(-14.422,Nucleotides.FastqSequence(\"PID_47_CCGTACAG_45_of_…\n",
       "  \"TCGCTGGT\"  => Any[(-15.8444,Nucleotides.FastqSequence(\"PID_2_TCGCTGGG_243_of…\n",
       "  \"CGTTCGCCA\" => Any[(-20.4377,Nucleotides.FastqSequence(\"PID_37_CGTTGCCA_477_o…\n",
       "  \"TTTCCATG\"  => Any[(-15.7428,Nucleotides.FastqSequence(\"PID_84_TTTCCATG_3_of_…\n",
       "  ⋮           => ⋮"
      ]
     },
     "execution_count": 10,
     "metadata": {},
     "output_type": "execute_result"
    }
   ],
   "source": [
    "# This particular example only has one input directory, so we'll use that\n",
    "tag_dict = dir_dict[directories[1]]"
   ]
  },
  {
   "cell_type": "code",
   "execution_count": 11,
   "metadata": {
    "collapsed": false
   },
   "outputs": [],
   "source": [
    "real_tags = Set()\n",
    "observed_tags = Set()\n",
    "for observed_label in keys(tag_dict)\n",
    "    for (score, sequence) in tag_dict[observed_label]\n",
    "        real_label = split(sequence.label, \"_\")[3]\n",
    "        push!(real_tags, real_label)\n",
    "        push!(observed_tags, observed_label)\n",
    "    end\n",
    "end\n",
    "#split(tag_dict[\"CTCGTTTTT\"][1][2].label, \"_\")[3]"
   ]
  },
  {
   "cell_type": "code",
   "execution_count": 12,
   "metadata": {
    "collapsed": false
   },
   "outputs": [],
   "source": [
    "tag_counts = Dict() \n",
    "tags = []\n",
    "index = 1\n",
    "for tag in keys(tag_dict)\n",
    "    push!(tags, tag)\n",
    "    tag_counts[tag] = length(tag_dict[tag])\n",
    "end"
   ]
  },
  {
   "cell_type": "markdown",
   "metadata": {},
   "source": [
    "# Resolving which tags are real"
   ]
  },
  {
   "cell_type": "code",
   "execution_count": 13,
   "metadata": {
    "collapsed": false
   },
   "outputs": [
    {
     "ename": "LoadError",
     "evalue": "MethodError: no method matching prob_observed_tags_given_reals(::Dict{String,Int32})\u001b[0m\nClosest candidates are:\n  prob_observed_tags_given_reals(::Dict{String,Int32}, \u001b[1m\u001b[31m::Resolving.ErrorModel\u001b[0m) at /Users/robert/bio/hmmids/Resolving.jl:110\n  prob_observed_tags_given_reals(::Dict{String,Int32}, \u001b[1m\u001b[31m::Resolving.ErrorModel\u001b[0m, \u001b[1m\u001b[31m::Any\u001b[0m) at /Users/robert/bio/hmmids/Resolving.jl:110\u001b[0m",
     "output_type": "error",
     "traceback": [
      "MethodError: no method matching prob_observed_tags_given_reals(::Dict{String,Int32})\u001b[0m\nClosest candidates are:\n  prob_observed_tags_given_reals(::Dict{String,Int32}, \u001b[1m\u001b[31m::Resolving.ErrorModel\u001b[0m) at /Users/robert/bio/hmmids/Resolving.jl:110\n  prob_observed_tags_given_reals(::Dict{String,Int32}, \u001b[1m\u001b[31m::Resolving.ErrorModel\u001b[0m, \u001b[1m\u001b[31m::Any\u001b[0m) at /Users/robert/bio/hmmids/Resolving.jl:110\u001b[0m",
      ""
     ]
    }
   ],
   "source": [
    "using Resolving\n",
    "tag_to_index, index_to_tag = tag_index_mapping(tags)\n",
    "probabilities_array = prob_observed_tags_given_reals(tag_to_index)\n",
    "indexed_counts = index_counts(tag_counts, tag_to_index)"
   ]
  },
  {
   "cell_type": "code",
   "execution_count": 14,
   "metadata": {
    "collapsed": false
   },
   "outputs": [
    {
     "ename": "LoadError",
     "evalue": "UndefVarError: probabilities_array not defined",
     "output_type": "error",
     "traceback": [
      "UndefVarError: probabilities_array not defined",
      ""
     ]
    }
   ],
   "source": [
    "using CustomLDA\n",
    "most_likely_real_for_each_obs = CustomLDA.LDA(probabilities_array, indexed_counts)"
   ]
  },
  {
   "cell_type": "code",
   "execution_count": 15,
   "metadata": {
    "collapsed": false
   },
   "outputs": [
    {
     "ename": "LoadError",
     "evalue": "UndefVarError: most_likely_real_for_each_obs not defined",
     "output_type": "error",
     "traceback": [
      "UndefVarError: most_likely_real_for_each_obs not defined",
      "",
      " in anonymous at ./<missing>:?"
     ]
    }
   ],
   "source": [
    "likely_real = []\n",
    "for (observed_index, tuple) in enumerate(most_likely_real_for_each_obs)\n",
    "    prob = tuple[2]\n",
    "    if tag_counts[index_to_tag[observed_index]] == 1\n",
    "        prob = 0\n",
    "    end\n",
    "    if observed_index != tuple[1]\n",
    "        prob = 0\n",
    "    end\n",
    "    push!(likely_real, (prob, index_to_tag[observed_index]))\n",
    "end\n",
    "sort!(likely_real)\n",
    "likely_real[1:20]"
   ]
  },
  {
   "cell_type": "code",
   "execution_count": 16,
   "metadata": {
    "collapsed": false
   },
   "outputs": [
    {
     "data": {
      "text/plain": [
       "false_pos_neg_graph (generic function with 1 method)"
      ]
     },
     "execution_count": 16,
     "metadata": {},
     "output_type": "execute_result"
    }
   ],
   "source": [
    "function false_pos_neg_graph(pairs, real_tags)\n",
    "    false_positive_count = 0\n",
    "    true_positive_count = 0\n",
    "    for (value, tag) in pairs\n",
    "        if (tag in real_tags)\n",
    "            true_positive_count += 1\n",
    "        else\n",
    "            false_positive_count += 1\n",
    "        end\n",
    "    end\n",
    "    x_values = [false_positive_count]\n",
    "    y_values = [true_positive_count]\n",
    "    for (value, tag) in pairs\n",
    "        if tag in real_tags\n",
    "            true_positive_count -= 1\n",
    "        else\n",
    "            false_positive_count -= 1\n",
    "        end\n",
    "        push!(x_values, false_positive_count)\n",
    "        push!(y_values, true_positive_count)\n",
    "    end\n",
    "    return x_values, y_values\n",
    "end"
   ]
  },
  {
   "cell_type": "code",
   "execution_count": 17,
   "metadata": {
    "collapsed": false
   },
   "outputs": [
    {
     "data": {
      "text/plain": [
       "874-element Array{Any,1}:\n",
       " (1,\"AAACAGTC\")  \n",
       " (1,\"AAACGGGC\")  \n",
       " (1,\"AAACGGTAC\") \n",
       " (1,\"AAACGGTCC\") \n",
       " (1,\"AAACGGTCG\") \n",
       " (1,\"AAACTGGTC\") \n",
       " (1,\"AAAGATCT\")  \n",
       " (1,\"AACACGGTC\") \n",
       " (1,\"AACCGGTC\")  \n",
       " (1,\"AACGGATC\")  \n",
       " (1,\"AACGGCTC\")  \n",
       " (1,\"AACGGGTC\")  \n",
       " (1,\"AACGTGTC\")  \n",
       " ⋮               \n",
       " (483,\"CCCCATAT\")\n",
       " (485,\"TAAGCCAT\")\n",
       " (490,\"GTTAAGTC\")\n",
       " (492,\"ACAGTTAC\")\n",
       " (495,\"GTATCCTC\")\n",
       " (496,\"CGATCATT\")\n",
       " (497,\"GGCATCGT\")\n",
       " (499,\"GCGTCACA\")\n",
       " (500,\"GCAAGGAC\")\n",
       " (507,\"GATACGAC\")\n",
       " (537,\"CCGAGAAA\")\n",
       " (960,\"CAGTGCGA\")"
      ]
     },
     "execution_count": 17,
     "metadata": {},
     "output_type": "execute_result"
    }
   ],
   "source": [
    "count_tag = []\n",
    "for tag in keys(tag_counts)\n",
    "    push!(count_tag, (tag_counts[tag], tag))\n",
    "end\n",
    "sort!(count_tag)"
   ]
  },
  {
   "cell_type": "code",
   "execution_count": 18,
   "metadata": {
    "collapsed": false
   },
   "outputs": [
    {
     "name": "stderr",
     "output_type": "stream",
     "text": [
      "\u001b[1m\u001b[34mINFO: Recompiling stale cache file /Users/robert/.julia/lib/v0.5/PyPlot.ji for module PyPlot.\n",
      "\u001b[0m"
     ]
    },
    {
     "data": {
      "image/png": "[encoded data removed]",
      "text/plain": [
       "PyPlot.Figure(PyObject <matplotlib.figure.Figure object at 0x313c751d0>)"
      ]
     },
     "metadata": {},
     "output_type": "display_data"
    }
   ],
   "source": [
    "using PyPlot\n",
    "fig, ax = subplots()\n",
    "x_ron, y_ron = false_pos_neg_graph(count_tag, real_tags)\n",
    "ax[:plot](x_ron, y_ron, linewidth=2, color=\"r\", label=\"Universal Threshold\")\n",
    "x_us, y_us = false_pos_neg_graph(likely_real, real_tags) \n",
    "ax[:plot](x_us, y_us, linewidth=2, color=\"b\", label=\"LDA\")\n",
    "ax[:legend]();"
   ]
  },
  {
   "cell_type": "code",
   "execution_count": null,
   "metadata": {
    "collapsed": true
   },
   "outputs": [],
   "source": []
  }
 ],
 "metadata": {
  "kernelspec": {
   "display_name": "Julia 0.5.0",
   "language": "julia",
   "name": "julia-0.5"
  },
  "language_info": {
   "file_extension": ".jl",
   "mimetype": "application/julia",
   "name": "julia",
   "version": "0.5.2"
  }
 },
 "nbformat": 4,
 "nbformat_minor": 0
}
