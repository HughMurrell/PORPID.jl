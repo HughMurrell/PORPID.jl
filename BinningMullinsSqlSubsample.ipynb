{
 "cells": [
  {
   "cell_type": "markdown",
   "metadata": {},
   "source": [
    "# Mullins Sql 1"
   ]
  },
  {
   "cell_type": "code",
   "execution_count": 1,
   "metadata": {
    "collapsed": false
   },
   "outputs": [],
   "source": [
    "#push!(LOAD_PATH, \"/Users/robert/bio/hmmids/\")\n",
    "include(\"/Users/robert/bio/BeNGS/NGSutilsFuncs.jl\")\n",
    "using HMMIDMethods\n",
    "using HMMIDConfig\n",
    "using States\n",
    "using Observations\n",
    "using NeedlemanWunsch\n",
    "using Resolving\n",
    "using CustomLDA\n",
    "using PyPlot \n",
    "using Distributions"
   ]
  },
  {
   "cell_type": "markdown",
   "metadata": {},
   "source": [
    "# Running HMMIDS on MullinsSql1 Data"
   ]
  },
  {
   "cell_type": "code",
   "execution_count": 2,
   "metadata": {
    "collapsed": false
   },
   "outputs": [
    {
     "data": {
      "text/plain": [
       "\"m54086_170411_231755.ccs.fastq\""
      ]
     },
     "execution_count": 2,
     "metadata": {},
     "output_type": "execute_result"
    }
   ],
   "source": [
    "data_dir = \"data/MullinsSql1\" \n",
    "original_data_file = \"m54086_170411_231755.ccs.fastq\""
   ]
  },
  {
   "cell_type": "code",
   "execution_count": 3,
   "metadata": {
    "collapsed": false
   },
   "outputs": [
    {
     "name": "stderr",
     "output_type": "stream",
     "text": [
      "WARNING: redefining constant usearch\n",
      "Reading fastq file"
     ]
    },
    {
     "name": "stdout",
     "output_type": "stream",
     "text": [
      "vsearch v1.11.1_osx_x86_64, 8.0GB RAM, 4 cores\n",
      "https://github.com/torognes/vsearch\n",
      "\n"
     ]
    },
    {
     "name": "stderr",
     "output_type": "stream",
     "text": [
      " 100%\n",
      "39660 sequences kept (of which 0 truncated), 49216 sequences discarded.\n"
     ]
    }
   ],
   "source": [
    "# Filtering the data like ben likes it\n",
    "usearch = \"/Users/robert/bio/vsearch/vsearch-1.11.1-osx-x86_64/bin/vsearch\"\n",
    "filtered_data_file = \"notebook_temp.fastq\"\n",
    "usearch_filter(\"$(data_dir)/$(original_data_file)\", \"$(data_dir)/$(filtered_data_file)\", errorRate=0.001, minLength=2500)"
   ]
  },
  {
   "cell_type": "code",
   "execution_count": 7,
   "metadata": {
    "collapsed": false
   },
   "outputs": [
    {
     "name": "stdout",
     "output_type": "stream",
     "text": [
      "64"
     ]
    }
   ],
   "source": [
    "templates = Dict()\n",
    "#CCCGCGTGGCCTCCTGAATTATCCGCTCCGTCCGACGACTCACTATAACAGTGnnnnnnnnGTCATTGGTCTTAAAGGTACCTG\n",
    "templates[\"10205509\"] = \"*CCGCTCCGTCCGACGACTCACTATAACAGTGnnnnnnnnGTCATTGGTCTTAAAGGTACCTG*\"\n",
    "#CCCGCGTGGCCTCCTGAATTATCCGCTCCGTCCGACGACTCACTATACAGATCNNNNNNNNGTCATTGGTCTTAAAGGTACCTG\n",
    "templates[\"60101054\"] = \"*CCGCTCCGTCCGACGACTCACTATACAGATCnnnnnnnnGTCATTGGTCTTAAAGGTACCTG*\"\n",
    "#CCCGCGTGGCCTCCTGAATTATCCGCTCCGTCCGACGACTCACTATACTCAGANNNNNNNNGTCATTGGTCTTAAAGGTACCTG\n",
    "templates[\"60406846\"] = \"*CCGCTCCGTCCGACGACTCACTATACTCAGAnnnnnnnnGTCATTGGTCTTAAAGGTACCTG*\"\n",
    "#universal_template = \"*CCGCTCCGTCCGACGACTCACTATAnnnnnnnnnnnnnnGTCATTGGTCTTAAAGGTACCTGAGGT*\"\n",
    "print(length(first(values(templates))))"
   ]
  },
  {
   "cell_type": "code",
   "execution_count": 8,
   "metadata": {
    "collapsed": false
   },
   "outputs": [
    {
     "data": {
      "text/plain": [
       "HMMIDConfig.Configuration(String[\"data/MullinsSql1/notebook_temp2.fastq\"],fastq::HMMIDConfig.FileType = 1,0,69,4,true,HMMIDConfig.Template[HMMIDConfig.Template(\"60101054\",States.AbstractState[States.StartingState(),States.RepeatingAnyState(DNA_N),States.ObservableState(DNA_C),States.ObservableState(DNA_C),States.ObservableState(DNA_G),States.ObservableState(DNA_C),States.ObservableState(DNA_T),States.ObservableState(DNA_C),States.ObservableState(DNA_C),States.ObservableState(DNA_G)  …  States.ObservableState(DNA_A),States.ObservableState(DNA_G),States.ObservableState(DNA_G),States.ObservableState(DNA_T),States.ObservableState(DNA_A),States.ObservableState(DNA_C),States.ObservableState(DNA_C),States.ObservableState(DNA_T),States.ObservableState(DNA_G),States.RepeatingAnyState(DNA_N)]),HMMIDConfig.Template(\"60406846\",States.AbstractState[States.StartingState(),States.RepeatingAnyState(DNA_N),States.ObservableState(DNA_C),States.ObservableState(DNA_C),States.ObservableState(DNA_G),States.ObservableState(DNA_C),States.ObservableState(DNA_T),States.ObservableState(DNA_C),States.ObservableState(DNA_C),States.ObservableState(DNA_G)  …  States.ObservableState(DNA_A),States.ObservableState(DNA_G),States.ObservableState(DNA_G),States.ObservableState(DNA_T),States.ObservableState(DNA_A),States.ObservableState(DNA_C),States.ObservableState(DNA_C),States.ObservableState(DNA_T),States.ObservableState(DNA_G),States.RepeatingAnyState(DNA_N)]),HMMIDConfig.Template(\"10205509\",States.AbstractState[States.StartingState(),States.RepeatingAnyState(DNA_N),States.ObservableState(DNA_C),States.ObservableState(DNA_C),States.ObservableState(DNA_G),States.ObservableState(DNA_C),States.ObservableState(DNA_T),States.ObservableState(DNA_C),States.ObservableState(DNA_C),States.ObservableState(DNA_G)  …  States.ObservableState(DNA_A),States.ObservableState(DNA_G),States.ObservableState(DNA_G),States.ObservableState(DNA_T),States.ObservableState(DNA_A),States.ObservableState(DNA_C),States.ObservableState(DNA_C),States.ObservableState(DNA_T),States.ObservableState(DNA_G),States.RepeatingAnyState(DNA_N)])])"
      ]
     },
     "execution_count": 8,
     "metadata": {},
     "output_type": "execute_result"
    }
   ],
   "source": [
    "cfg = Configuration()\n",
    "cfg.files = [\"$(data_dir)/$(filtered_data_file)\"]\n",
    "cfg.filetype = fastq\n",
    "cfg.start_inclusive = 0\n",
    "cfg.end_inclusive = 69 \n",
    "cfg.try_reverse = true\n",
    "for (name, template) in templates\n",
    "    push!(cfg.templates, Template(name, template))\n",
    "end\n",
    "cfg"
   ]
  },
  {
   "cell_type": "code",
   "execution_count": 9,
   "metadata": {
    "collapsed": false
   },
   "outputs": [
    {
     "name": "stdout",
     "output_type": "stream",
     "text": [
      "output/notebook_temp2.fastq/"
     ]
    }
   ],
   "source": [
    "print(\"output/$(filtered_data_file)/\")\n",
    "if isdir(\"output/$(filtered_data_file)/\")\n",
    "    println(\"The directory already existed, DELETING! :P\")\n",
    "    rm(\"output/$(filtered_data_file)/\", recursive=true)\n",
    "end"
   ]
  },
  {
   "cell_type": "code",
   "execution_count": 10,
   "metadata": {
    "collapsed": false
   },
   "outputs": [],
   "source": [
    "dir_dict = Dict()\n",
    "my_output_func(source_file_name, template, tag, output_sequence, score) = HMMIDMethods.write_to_file_count_to_dict(dir_dict, source_file_name, template, tag, output_sequence, score)\n",
    "\n",
    "function say(words)\n",
    "    try\n",
    "        run(`say $(words)`)\n",
    "    end\n",
    "end\n",
    "say_print_func(count) = say(\"Processed $(count) sequences\")\n",
    "\n",
    "# This is the slow bit\n",
    "process_file(cfg.files[1], cfg, my_output_func, print_every=1000, print_callback=say_print_func)\n",
    "run(`say Done with HMMIDs`)"
   ]
  },
  {
   "cell_type": "code",
   "execution_count": 11,
   "metadata": {
    "collapsed": false
   },
   "outputs": [
    {
     "data": {
      "text/plain": [
       "3-element Array{Any,1}:\n",
       " \"data/MullinsSql1/notebook_temp2.fastq/60101054\"\n",
       " \"data/MullinsSql1/notebook_temp2.fastq/60406846\"\n",
       " \"data/MullinsSql1/notebook_temp2.fastq/10205509\""
      ]
     },
     "execution_count": 11,
     "metadata": {},
     "output_type": "execute_result"
    }
   ],
   "source": [
    "directories = collect(keys(dir_dict))"
   ]
  },
  {
   "cell_type": "code",
   "execution_count": 12,
   "metadata": {
    "collapsed": false
   },
   "outputs": [
    {
     "data": {
      "text/plain": [
       "\"60101054\""
      ]
     },
     "execution_count": 12,
     "metadata": {},
     "output_type": "execute_result"
    }
   ],
   "source": [
    "# Which template to analyse\n",
    "analysing_template = 1;\n",
    "template_name = basename(directories[analysing_template])"
   ]
  },
  {
   "cell_type": "code",
   "execution_count": 13,
   "metadata": {
    "collapsed": false
   },
   "outputs": [
    {
     "data": {
      "text/plain": [
       "818-element Array{Any,1}:\n",
       " \"AGAGGCAA\"  \n",
       " \"AAGTTGGACT\"\n",
       " \"ATTTGACT\"  \n",
       " \"GCTGAATC\"  \n",
       " \"GTTTGACG\"  \n",
       " \"CACGGTTT\"  \n",
       " \"ATACAAT\"   \n",
       " \"CAGCTTAA\"  \n",
       " \"AGAGCTTTAT\"\n",
       " \"TAACTTCG\"  \n",
       " \"AATTCGA\"   \n",
       " \"ACACGGTT\"  \n",
       " \"ATTTCGGAC\" \n",
       " ⋮           \n",
       " \"AGCACAGG\"  \n",
       " \"CTTTGAAT\"  \n",
       " \"CAGAGCA\"   \n",
       " \"AGATTAT\"   \n",
       " \"CGAATATG\"  \n",
       " \"ACTTTATGC\" \n",
       " \"ATTCGATA\"  \n",
       " \"GCATGACTAG\"\n",
       " \"ATTAGGG\"   \n",
       " \"TTTAACCT\"  \n",
       " \"CTATGGTA\"  \n",
       " \"AAGCTTAAT\" "
      ]
     },
     "execution_count": 13,
     "metadata": {},
     "output_type": "execute_result"
    }
   ],
   "source": [
    "tag_dict = dir_dict[directories[analysing_template]]\n",
    "delete!(tag_dict, \"REJECTS\")\n",
    "tag_counts = tag_dict\n",
    "tags = collect(keys(tag_dict))"
   ]
  },
  {
   "cell_type": "markdown",
   "metadata": {},
   "source": [
    "# Resolving which tags are real"
   ]
  },
  {
   "cell_type": "code",
   "execution_count": 14,
   "metadata": {
    "collapsed": false
   },
   "outputs": [
    {
     "data": {
      "text/plain": [
       "818-element Array{Int32,1}:\n",
       "  6\n",
       "  1\n",
       "  6\n",
       "  1\n",
       "  1\n",
       "  4\n",
       "  3\n",
       "  1\n",
       "  1\n",
       "  1\n",
       "  1\n",
       "  1\n",
       "  2\n",
       "  ⋮\n",
       " 10\n",
       " 63\n",
       "  6\n",
       "  1\n",
       "  1\n",
       "  1\n",
       "  1\n",
       "  1\n",
       "  1\n",
       "  1\n",
       "  1\n",
       "  1"
      ]
     },
     "execution_count": 14,
     "metadata": {},
     "output_type": "execute_result"
    }
   ],
   "source": [
    "tag_to_index, index_to_tag = tag_index_mapping(tags)\n",
    "pacbio_error_rate = 0.005\n",
    "recurse = 1\n",
    "probabilities_array = prob_observed_tags_given_reals(tag_to_index, Resolving.PacBioErrorModel(pacbio_error_rate), recurse)\n",
    "indexed_counts = index_counts(tag_counts, tag_to_index)"
   ]
  },
  {
   "cell_type": "code",
   "execution_count": 15,
   "metadata": {
    "collapsed": false
   },
   "outputs": [
    {
     "data": {
      "text/plain": [
       "818-element Array{Tuple{Int32,Float32},1}:\n",
       " (1,0.996758)  \n",
       " (2,0.999987)  \n",
       " (3,0.976486)  \n",
       " (4,0.999659)  \n",
       " (5,0.999039)  \n",
       " (6,0.997234)  \n",
       " (7,0.994839)  \n",
       " (8,0.99219)   \n",
       " (9,0.955534)  \n",
       " (10,0.995215) \n",
       " (11,0.993792) \n",
       " (12,0.983317) \n",
       " (705,0.896101)\n",
       " ⋮             \n",
       " (807,0.999999)\n",
       " (808,0.99155) \n",
       " (809,0.882452)\n",
       " (810,0.993923)\n",
       " (811,0.995037)\n",
       " (249,0.825994)\n",
       " (813,0.99757) \n",
       " (814,1.0)     \n",
       " (815,0.999992)\n",
       " (816,0.999921)\n",
       " (817,0.999982)\n",
       " (818,0.961552)"
      ]
     },
     "execution_count": 15,
     "metadata": {},
     "output_type": "execute_result"
    }
   ],
   "source": [
    "most_likely_real_for_each_obs = CustomLDA.LDA(probabilities_array, indexed_counts)"
   ]
  },
  {
   "cell_type": "code",
   "execution_count": 16,
   "metadata": {
    "collapsed": false
   },
   "outputs": [
    {
     "data": {
      "image/png": "[encoded data removed]",
      "text/plain": [
       "PyPlot.Figure(PyObject <matplotlib.figure.Figure object at 0x31c51ee50>)"
      ]
     },
     "metadata": {},
     "output_type": "display_data"
    }
   ],
   "source": [
    "likely_real = []\n",
    "probs = []\n",
    "bin_sizes = []\n",
    "for (observed_index, tuple) in enumerate(most_likely_real_for_each_obs)\n",
    "    prob = tuple[2]\n",
    "    if tag_counts[index_to_tag[observed_index]] <= 10\n",
    "        prob = 0\n",
    "    end\n",
    "    if observed_index != tuple[1]\n",
    "        prob = 0\n",
    "    end\n",
    "    if prob < .999\n",
    "        continue\n",
    "    end\n",
    "    push!(likely_real, (prob, index_to_tag[observed_index]))\n",
    "    push!(probs, log(1-prob))\n",
    "    push!(bin_sizes, log(tag_counts[index_to_tag[observed_index]]))\n",
    "end\n",
    "scatter(probs, bin_sizes, alpha=0.3);"
   ]
  },
  {
   "cell_type": "code",
   "execution_count": 17,
   "metadata": {
    "collapsed": false
   },
   "outputs": [
    {
     "name": "stdout",
     "output_type": "stream",
     "text": [
      "9\n",
      "GTTCTTAT   \t23\n",
      "CAATTTAT   \t51\n",
      "CCAAGGGT   \t677\n",
      "TACACTTG   \t722\n",
      "CAGAGCAA   \t760\n",
      "ACTTTATG   \t1567\n",
      "TTTGGACT   \t2452\n",
      "ATTTCGGA   \t3051\n",
      "GCGAATAG   \t3563\n"
     ]
    }
   ],
   "source": [
    "sort!(likely_real, by=x->tag_counts[x[2]])\n",
    "println(length(likely_real))\n",
    "for k in ([j[2] for j in likely_real])\n",
    "    println(\"$(k)   \\t$(tag_counts[k])\")\n",
    "end"
   ]
  },
  {
   "cell_type": "markdown",
   "metadata": {},
   "source": [
    "# Getting Consensus Sequences"
   ]
  },
  {
   "cell_type": "code",
   "execution_count": 18,
   "metadata": {
    "collapsed": false
   },
   "outputs": [
    {
     "data": {
      "text/plain": [
       "consensusScoreAndViz (generic function with 1 method)"
      ]
     },
     "execution_count": 18,
     "metadata": {},
     "output_type": "execute_result"
    }
   ],
   "source": [
    "function consensusScoreAndViz(candidateRef,reads ; thresh = 0.7,shift = 3, intitle = \"Consensus agreement.\")\n",
    "    #Need to add in code to handle deletions at the start and end of the candidate!\n",
    "    alignments = [kmerSeededAlign(candidateRef,i) for i in reads];\n",
    "    maps = [coords(i...) for i in alignments];\n",
    "    matches = [freq([(alignments[i][2])[maps[i][k]:maps[i][k+shift]] for i in 1:length(maps)],candidateRef[k:k+shift]) for k in 1:length(candidateRef)-shift];\n",
    "    frontStrCol = freq([degapString((alignments[j][2])[1:maps[j][1]-1]) for j in 1:length(maps)],\"\")\n",
    "    endStrCol = freq([degapString((alignments[j][2])[maps[j][end]+1:end]) for j in 1:length(maps)],\"\")\n",
    "    w, h = plt[:figaspect](0.1)\n",
    "    figure(figsize=(w,h))\n",
    "    plot(1:length(matches)+2,vcat([frontStrCol],matches,[endStrCol]))\n",
    "    ax = gca()\n",
    "    ax[:set_xlim]([-10,length(matches)+12])\n",
    "    ax[:set_ylim]([0,1])\n",
    "    mean_score = mean(vcat([frontStrCol],matches,[endStrCol]))\n",
    "    title(\"$(intitle) - $(mean_score)\")\n",
    "    xlabel(\"Consensus Position\")\n",
    "    ylabel(\"Agreement\")\n",
    "    return mean_score\n",
    "end"
   ]
  },
  {
   "cell_type": "code",
   "execution_count": 20,
   "metadata": {
    "collapsed": false
   },
   "outputs": [
    {
     "name": "stdout",
     "output_type": "stream",
     "text": [
      "GTTCTTAT - 23\n",
      "Notice: Word matching produced inconsistent ordering. Consider a larger word size. Returning full DP alignment for now.\n",
      "Notice: Word matching produced inconsistent ordering. Consider a larger word size. Returning full DP alignment for now.\n",
      "Notice: Word matching produced inconsistent ordering. Consider a larger word size. Returning full DP alignment for now.\n",
      "Notice: Word matching produced inconsistent ordering. Consider a larger word size. Returning full DP alignment for now.\n",
      "Notice: Word matching produced inconsistent ordering. Consider a larger word size. Returning full DP alignment for now.\n",
      "Notice: Word matching produced inconsistent ordering. Consider a larger word size. Returning full DP alignment for now.\n",
      "Notice: Word matching produced inconsistent ordering. Consider a larger word size. Returning full DP alignment for now.\n",
      "Notice: Word matching produced inconsistent ordering. Consider a larger word size. Returning full DP alignment for now.\n",
      "Notice: Word matching produced inconsistent ordering. Consider a larger word size. Returning full DP alignment for now.\n",
      "Notice: Word matching produced inconsistent ordering. Consider a larger word size. Returning full DP alignment for now.\n",
      "Notice: Word matching produced inconsistent ordering. Consider a larger word size. Returning full DP alignment for now.\n",
      "Notice: Word matching produced inconsistent ordering. Consider a larger word size. Returning full DP alignment for now.\n",
      "Notice: Word matching produced inconsistent ordering. Consider a larger word size. Returning full DP alignment for now.\n",
      "Notice: Word matching produced inconsistent ordering. Consider a larger word size. Returning full DP alignment for now.\n",
      "Notice: Word matching produced inconsistent ordering. Consider a larger word size. Returning full DP alignment for now.\n",
      "Notice: Word matching produced inconsistent ordering. Consider a larger word size. Returning full DP alignment for now.\n",
      "Notice: Word matching produced inconsistent ordering. Consider a larger word size. Returning full DP alignment for now.\n",
      "Notice: Word matching produced inconsistent ordering. Consider a larger word size. Returning full DP alignment for now.\n",
      "Notice: Word matching produced inconsistent ordering. Consider a larger word size. Returning full DP alignment for now.\n",
      "Notice: Word matching produced inconsistent ordering. Consider a larger word size. Returning full DP alignment for now.\n",
      "Notice: Word matching produced inconsistent ordering. Consider a larger word size. Returning full DP alignment for now.\n",
      "Notice: Word matching produced inconsistent ordering. Consider a larger word size. Returning full DP alignment for now.\n",
      "0.9619294830196843\n",
      "CAATTTAT - 51\n",
      "0.9817117172841795\n",
      "CCAAGGGT - 677\n",
      "0.9878281175763068\n",
      "TACACTTG - 722\n",
      "0.9889769528697494\n",
      "CAGAGCAA - 760\n"
     ]
    },
    {
     "ename": "LoadError",
     "evalue": "LoadError: InterruptException:\nwhile loading In[20], in expression starting on line 5",
     "output_type": "error",
     "traceback": [
      "LoadError: InterruptException:\nwhile loading In[20], in expression starting on line 5",
      "",
      " in next(::String, ::Int64) at /usr/local/Cellar/julia/0.5.0/lib/julia/sys.dylib:?",
      " in next(::Nucleotides.FastqIterator, ::Void) at /Users/robert/bio/hmmids/Nucleotides.jl:215",
      " in macro expansion; at ./In[20]:9 [inlined]",
      " in anonymous at ./<missing>:?"
     ]
    }
   ],
   "source": [
    "directory = \"$(pwd())/output/$(filtered_data_file)/$(template_name)/\"\n",
    "consensuses = Dict()\n",
    "consensus_scores = Dict()\n",
    "\n",
    "for (prob, tag) in likely_real\n",
    "    filename = \"$(directory)$(tag).fastq\"\n",
    "    println(\"$(tag) - $(tag_counts[tag])\")\n",
    "    seqs = []\n",
    "    for sequence in Nucleotides.FastqIterator(filename)\n",
    "        push!(seqs, join(map(string, sequence.seq)))\n",
    "    end\n",
    "    strings = Array{String}(seqs)\n",
    "    consensuses[tag] = consensusSeq(strings)\n",
    "    consensus_scores[tag] = consensusScoreAndViz(consensuses[tag], seqs, intitle=\"$(tag) - $(tag_counts[tag])\")\n",
    "    println(consensus_scores[tag])\n",
    "end\n",
    "run(`say Done`)"
   ]
  },
  {
   "cell_type": "code",
   "execution_count": 21,
   "metadata": {
    "collapsed": false
   },
   "outputs": [
    {
     "ename": "LoadError",
     "evalue": "LoadError: KeyError: key \"CAGAGCAA\" not found\nwhile loading In[21], in expression starting on line 2",
     "output_type": "error",
     "traceback": [
      "LoadError: KeyError: key \"CAGAGCAA\" not found\nwhile loading In[21], in expression starting on line 2",
      "",
      " in getindex(::Dict{Any,Any}, ::String) at ./dict.jl:688",
      " in getindex(::Dict{Any,Any}, ::String) at /usr/local/Cellar/julia/0.5.0/lib/julia/sys.dylib:?",
      " in collect_to!(::Array{Float64,1}, ::Base.Generator{Array{Any,1},##210#211}, ::Int64, ::Int64) at ./array.jl:340",
      " in collect(::Base.Generator{Array{Any,1},##210#211}) at ./array.jl:308"
     ]
    }
   ],
   "source": [
    "x = [log(tag_counts[x[2]]) for x in likely_real]\n",
    "y = [consensus_scores[x[2]] for x in likely_real]\n",
    "scatter(x, y);"
   ]
  },
  {
   "cell_type": "code",
   "execution_count": 22,
   "metadata": {
    "collapsed": false
   },
   "outputs": [
    {
     "ename": "LoadError",
     "evalue": "LoadError: KeyError: key \"CAGAGCAA\" not found\nwhile loading In[22], in expression starting on line 3",
     "output_type": "error",
     "traceback": [
      "LoadError: KeyError: key \"CAGAGCAA\" not found\nwhile loading In[22], in expression starting on line 3",
      "",
      " in getindex(::Dict{Any,Any}, ::String) at ./dict.jl:688",
      " in getindex(::Dict{Any,Any}, ::String) at /usr/local/Cellar/julia/0.5.0/lib/julia/sys.dylib:?",
      " in macro expansion; at ./In[22]:5 [inlined]",
      " in anonymous at ./<missing>:?"
     ]
    }
   ],
   "source": [
    "names = []\n",
    "seqs = []\n",
    "for (resolving_score, tag) in likely_real\n",
    "    #if (consensus_scores[tag] > .97)\n",
    "    push!(names, \"$(tag)_$(tag_counts[tag])_$(round(consensus_scores[tag],4))\")\n",
    "    push!(seqs, consensuses[tag])\n",
    "    #end\n",
    "end\n",
    "filename = \"$(data_dir)/$(template_name)_consensus.fasta\"\n",
    "println(\"Writing to $(filename)\")\n",
    "write_fasta_with_names(filename, names, Array{DNASequence}(seqs))"
   ]
  },
  {
   "cell_type": "code",
   "execution_count": null,
   "metadata": {
    "collapsed": true
   },
   "outputs": [],
   "source": []
  }
 ],
 "metadata": {
  "kernelspec": {
   "display_name": "Julia 0.5.0",
   "language": "julia",
   "name": "julia-0.5"
  },
  "language_info": {
   "file_extension": ".jl",
   "mimetype": "application/julia",
   "name": "julia",
   "version": "0.5.0"
  }
 },
 "nbformat": 4,
 "nbformat_minor": 0
}
