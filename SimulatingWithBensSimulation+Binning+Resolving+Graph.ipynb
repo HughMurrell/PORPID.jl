{
 "cells": [
  {
   "cell_type": "code",
   "execution_count": 1,
   "metadata": {
    "collapsed": false
   },
   "outputs": [
    {
     "name": "stderr",
     "output_type": "stream",
     "text": [
      "WARNING: requiring \"NGSutilsFuncs\" in module \"Main\" did not define a corresponding module.\n"
     ]
    }
   ],
   "source": [
    "# Importing stuff\n",
    "push!(LOAD_PATH, \"/Users/robert/bio/BeNGS\")\n",
    "using NGSutilsFuncs\n",
    "using Distributions\n",
    "using HMMIDMethods\n",
    "using HMMIDConfig\n",
    "using Nucleotides\n",
    "using States\n",
    "using Observations\n",
    "using NeedlemanWunsch\n",
    "using PyPlot\n",
    "using StatsBase"
   ]
  },
  {
   "cell_type": "code",
   "execution_count": 2,
   "metadata": {
    "collapsed": false
   },
   "outputs": [
    {
     "data": {
      "text/plain": [
       "\"./\""
      ]
     },
     "execution_count": 2,
     "metadata": {},
     "output_type": "execute_result"
    }
   ],
   "source": [
    "# Where is the HMMIDs directory relative to where you're running your julia notebook?\n",
    "path_to_hmmids = \"./\""
   ]
  },
  {
   "cell_type": "markdown",
   "metadata": {},
   "source": [
    "# Making a simulated dataset"
   ]
  },
  {
   "cell_type": "code",
   "execution_count": 3,
   "metadata": {
    "collapsed": false
   },
   "outputs": [
    {
     "data": {
      "text/html": [
       "1000"
      ],
      "text/plain": [
       "1000"
      ]
     },
     "execution_count": 3,
     "metadata": {},
     "output_type": "execute_result"
    }
   ],
   "source": [
    "srand(1234)\n",
    "sample_size = 1000"
   ]
  },
  {
   "cell_type": "code",
   "execution_count": 4,
   "metadata": {
    "collapsed": true
   },
   "outputs": [],
   "source": [
    "sequences_in_fasta = []\n",
    "for sequence in Nucleotides.FastaIterator(\"$(path_to_hmmids)data/P018_HQCS_short.fasta\")\n",
    "    push!(sequences_in_fasta, (sequence.label, replace(join(map(string, sequence.seq)), \"-\", \"\")))\n",
    "end"
   ]
  },
  {
   "cell_type": "code",
   "execution_count": 52,
   "metadata": {
    "collapsed": false
   },
   "outputs": [],
   "source": [
    "number_of_reads = 100000\n",
    "original_templates = sample_size\n",
    "pcr_cycles = 35\n",
    "double = log(2)\n",
    "pcr_efficiency = 0.7\n",
    "dist = Binomial(pcr_cycles, pcr_efficiency)\n",
    "molecules = e.^(rand(dist, (original_templates)) * double)\n",
    "template_count = zeros(Int64, original_templates)\n",
    "for molecule in wsample(1:original_templates, molecules, number_of_reads)\n",
    "    template_count[molecule] += 1\n",
    "end;\n",
    "#bar(1:original_templates, template_count);\n",
    "\n",
    "#g = Geometric(1/51)\n",
    "#template_count = rand(g, sample_size)"
   ]
  },
  {
   "cell_type": "code",
   "execution_count": 53,
   "metadata": {
    "collapsed": false
   },
   "outputs": [
    {
     "name": "stdout",
     "output_type": "stream",
     "text": [
      " 74.580726 seconds (128.26 M allocations: 3.213 GB, 8.19% gc time)\n"
     ]
    }
   ],
   "source": [
    "# Generating our dataset using our samples as seeds\n",
    "primer_before_pid = \"GATTACA\"\n",
    "pid_length = 8\n",
    "primer_after_pid = \"ACGTACGTGGAAGACTTA\"\n",
    "i = 1\n",
    "true_sequences = Array{String,1}()\n",
    "generated_sequences = Array{Tuple{String, String, Array{Float64}}}(sum(template_count))\n",
    "generated_tag_counts = Dict()\n",
    "tag_to_original_sequence = Dict()\n",
    "generated_index = 1\n",
    "@time for k in template_count\n",
    "    sequence = sample(sequences_in_fasta)\n",
    "    pid = join(rand([\"A\", \"C\", \"G\", \"T\"], pid_length))\n",
    "    template = (\"$(primer_before_pid)$(pid)$(primer_after_pid)$(sequence[2])\")\n",
    "    push!(true_sequences, template)\n",
    "    generated = envPBseqSim(template, k, withQVs=true)\n",
    "    for j in 1:length(generated)\n",
    "        label = \"PID_$(i)_$(pid)_$(j)_of_$(k)\"\n",
    "        generated_sequences[generated_index] = (label, generated[j][1], generated[j][2])\n",
    "        generated_index += 1\n",
    "        if generated_index % 50000 == 0\n",
    "            try\n",
    "                run(`say -r 600 Generated $(generated_index) sequences`)\n",
    "            end\n",
    "        end\n",
    "    end\n",
    "    generated_tag_counts[pid] = k\n",
    "    tag_to_original_sequence[pid] = template\n",
    "    i += 1\n",
    "end\n",
    "shuffle!(generated_sequences);"
   ]
  },
  {
   "cell_type": "code",
   "execution_count": 54,
   "metadata": {
    "collapsed": false
   },
   "outputs": [
    {
     "name": "stdout",
     "output_type": "stream",
     "text": [
      "0 duplicates\n"
     ]
    }
   ],
   "source": [
    "println(\"$(length(Set(generated_tag_counts)) - length(generated_tag_counts)) duplicates\")"
   ]
  },
  {
   "cell_type": "code",
   "execution_count": 55,
   "metadata": {
    "collapsed": false
   },
   "outputs": [
    {
     "data": {
      "image/png": "[encoded data removed]",
      "text/plain": [
       "PyPlot.Figure(PyObject <matplotlib.figure.Figure object at 0x31eb18dd0>)"
      ]
     },
     "metadata": {},
     "output_type": "display_data"
    }
   ],
   "source": [
    "fig, ax = subplots()\n",
    "ax[:hist](collect(values(generated_tag_counts)), 50);"
   ]
  },
  {
   "cell_type": "markdown",
   "metadata": {},
   "source": [
    "# Running HMMIDS on Simulation Data"
   ]
  },
  {
   "cell_type": "code",
   "execution_count": 56,
   "metadata": {
    "collapsed": false
   },
   "outputs": [
    {
     "data": {
      "text/plain": [
       "1-element Array{HMMIDConfig.Template,1}:\n",
       " HMMIDConfig.Template(\"Reference\",States.AbstractState[States.StartingState(),States.ObservableState(DNA_G),States.ObservableState(DNA_A),States.ObservableState(DNA_T),States.ObservableState(DNA_T),States.ObservableState(DNA_A),States.ObservableState(DNA_C),States.ObservableState(DNA_A),States.BarcodeState(DNA_N),States.BarcodeState(DNA_N)  …  States.ObservableState(DNA_G),States.ObservableState(DNA_A),States.ObservableState(DNA_A),States.ObservableState(DNA_G),States.ObservableState(DNA_A),States.ObservableState(DNA_C),States.ObservableState(DNA_T),States.ObservableState(DNA_T),States.ObservableState(DNA_A),States.RepeatingAnyState(DNA_N)])"
      ]
     },
     "execution_count": 56,
     "metadata": {},
     "output_type": "execute_result"
    }
   ],
   "source": [
    "cfg = Configuration()\n",
    "cfg.start_inclusive = 0\n",
    "cfg.end_inclusive = length(primer_before_pid) + pid_length + length(primer_after_pid) + 5\n",
    "cfg.try_reverse = false\n",
    "push!(cfg.templates, Template(\"Reference\", \"$(primer_before_pid)$(repeat(\"n\", pid_length))$(primer_after_pid)*\"))"
   ]
  },
  {
   "cell_type": "code",
   "execution_count": 57,
   "metadata": {
    "collapsed": false
   },
   "outputs": [
    {
     "name": "stdout",
     "output_type": "stream",
     "text": [
      "138.336184 seconds (2.13 G allocations: 34.036 GB, 14.28% gc time)\n"
     ]
    }
   ],
   "source": [
    "tag_dict = Dict()\n",
    "\n",
    "# This is the slow bit\n",
    "@time for sequence in generated_sequences\n",
    "    start_i = HMMIDMethods.py_index_to_julia(cfg.start_inclusive, length(sequence[2]), true)\n",
    "    end_i = HMMIDMethods.py_index_to_julia(cfg.end_inclusive, length(sequence[2]), true)\n",
    "\n",
    "    seq = map(DNASymbol, collect(sequence[2])[start_i:end_i])\n",
    "    prob  = 1 - sequence[3][start_i:end_i]\n",
    "    observations = map(Observations.Observation, seq, prob)\n",
    "    \n",
    "    score, tag, errors = NeedlemanWunsch.extract_tag(observations, cfg.templates[1].reference)\n",
    "    \n",
    "    tag = length(tag) > 0 ? join(map(string, tag), \"\") : \"NO_TAG\"\n",
    "    tag = errors <= cfg.max_allowed_errors ? tag : \"REJECTS\"\n",
    "    if !haskey(tag_dict, tag)\n",
    "        tag_dict[tag] = []\n",
    "    end\n",
    "    push!(tag_dict[tag], (score, sequence))\n",
    "end"
   ]
  },
  {
   "cell_type": "code",
   "execution_count": 58,
   "metadata": {
    "collapsed": true
   },
   "outputs": [],
   "source": [
    "real_tags = Set()\n",
    "observed_tags = Set()\n",
    "for observed_label in keys(tag_dict)\n",
    "    for (score, sequence) in tag_dict[observed_label]\n",
    "        real_label = split(sequence[1], \"_\")[3]\n",
    "        push!(real_tags, real_label)\n",
    "        push!(observed_tags, observed_label)\n",
    "    end\n",
    "end"
   ]
  },
  {
   "cell_type": "code",
   "execution_count": 59,
   "metadata": {
    "collapsed": true
   },
   "outputs": [],
   "source": [
    "tag_counts = Dict() \n",
    "tags = []\n",
    "index = 1\n",
    "for tag in keys(tag_dict)\n",
    "    push!(tags, tag)\n",
    "    tag_counts[tag] = length(tag_dict[tag])\n",
    "end"
   ]
  },
  {
   "cell_type": "markdown",
   "metadata": {},
   "source": [
    "# Resolving which tags are real"
   ]
  },
  {
   "cell_type": "code",
   "execution_count": 60,
   "metadata": {
    "collapsed": false
   },
   "outputs": [
    {
     "name": "stdout",
     "output_type": "stream",
     "text": [
      " 10.735850 seconds (72.00 M allocations: 3.215 GB, 26.97% gc time)\n"
     ]
    }
   ],
   "source": [
    "using Resolving\n",
    "recurse = 1\n",
    "pacbio_error_rate = 0.005\n",
    "tag_to_index, index_to_tag = tag_index_mapping(tags)\n",
    "@time probabilities_array = prob_observed_tags_given_reals(tag_to_index, Resolving.PacBioErrorModel(pacbio_error_rate), recurse)\n",
    "indexed_counts = index_counts(tag_counts, tag_to_index);"
   ]
  },
  {
   "cell_type": "code",
   "execution_count": 61,
   "metadata": {
    "collapsed": false
   },
   "outputs": [],
   "source": [
    "using CustomLDA\n",
    "dirichlet_concentration = 0.5\n",
    "most_likely_real_for_each_obs = CustomLDA.LDA(probabilities_array, indexed_counts, concentration=dirichlet_concentration);"
   ]
  },
  {
   "cell_type": "code",
   "execution_count": 62,
   "metadata": {
    "collapsed": false
   },
   "outputs": [
    {
     "data": {
      "text/plain": [
       "2657-element Array{Any,1}:\n",
       " (0,\"AAAAAATTT\")      \n",
       " (0,\"AAAAACG\")        \n",
       " (0,\"AAAAATTTT\")      \n",
       " (0,\"AAAACACA\")       \n",
       " (0,\"AAAACTACA\")      \n",
       " (0,\"AAAACTG\")        \n",
       " (0,\"AAAATACA\")       \n",
       " (0,\"AAACAACA\")       \n",
       " (0,\"AAACACATC\")      \n",
       " (0,\"AAACACC\")        \n",
       " (0,\"AAACCAC\")        \n",
       " (0,\"AAACCCCAT\")      \n",
       " (0,\"AAACCGA\")        \n",
       " ⋮                    \n",
       " (0.999998,\"TCCTGCGA\")\n",
       " (0.999998,\"TCGGTAAT\")\n",
       " (0.999998,\"CTTGTGTA\")\n",
       " (0.999998,\"GTCATCGG\")\n",
       " (0.999998,\"ATTTAAAG\")\n",
       " (0.999999,\"CATAGGGA\")\n",
       " (0.999999,\"CGCTTGGT\")\n",
       " (0.999999,\"CATCCGTC\")\n",
       " (0.999999,\"TGAGCAAG\")\n",
       " (0.999999,\"CCTTTATC\")\n",
       " (1.0,\"CTATGACG\")     \n",
       " (1.0,\"CACTGGCA\")     "
      ]
     },
     "execution_count": 62,
     "metadata": {},
     "output_type": "execute_result"
    }
   ],
   "source": [
    "minimum_bin_size = 1\n",
    "likely_real = []\n",
    "tag_to_prob = Dict()\n",
    "for (observed_index, tuple) in enumerate(most_likely_real_for_each_obs)\n",
    "    prob = tuple[2]\n",
    "    if tag_counts[index_to_tag[observed_index]] <= minimum_bin_size\n",
    "        prob = 0\n",
    "    end\n",
    "    if observed_index != tuple[1]\n",
    "        prob = 0\n",
    "    end\n",
    "    tag_to_prob[index_to_tag[observed_index]] = prob\n",
    "    push!(likely_real, (prob, index_to_tag[observed_index]))\n",
    "end\n",
    "sort!(likely_real)"
   ]
  },
  {
   "cell_type": "code",
   "execution_count": 63,
   "metadata": {
    "collapsed": false
   },
   "outputs": [
    {
     "data": {
      "text/plain": [
       "2657-element Array{Any,1}:\n",
       " (1,\"AAAAACG\")    \n",
       " (1,\"AAAAATTTT\")  \n",
       " (1,\"AAAACACA\")   \n",
       " (1,\"AAAACTG\")    \n",
       " (1,\"AAACACATC\")  \n",
       " (1,\"AAACACC\")    \n",
       " (1,\"AAACCAC\")    \n",
       " (1,\"AAACCCCAT\")  \n",
       " (1,\"AAACCGA\")    \n",
       " (1,\"AAACGAAAC\")  \n",
       " (1,\"AAACGAAT\")   \n",
       " (1,\"AAACGGGAGA\") \n",
       " (1,\"AAACTAAA\")   \n",
       " ⋮                \n",
       " (1419,\"AATCGCTA\")\n",
       " (1426,\"ACCGTTTA\")\n",
       " (1427,\"TAGGTAGA\")\n",
       " (1437,\"GATGCGTT\")\n",
       " (1449,\"GTGGCACT\")\n",
       " (1500,\"TGCTATCT\")\n",
       " (1521,\"GTCTGATT\")\n",
       " (2806,\"TCACAATA\")\n",
       " (2809,\"TTTTACAT\")\n",
       " (2916,\"GGGCTCCC\")\n",
       " (5768,\"AACGGAGA\")\n",
       " (5808,\"AAACTACA\")"
      ]
     },
     "execution_count": 63,
     "metadata": {},
     "output_type": "execute_result"
    }
   ],
   "source": [
    "count_tag = []\n",
    "for tag in keys(tag_counts)\n",
    "    push!(count_tag, (tag_counts[tag], tag))\n",
    "end\n",
    "sort!(count_tag)"
   ]
  },
  {
   "cell_type": "code",
   "execution_count": 64,
   "metadata": {
    "collapsed": false
   },
   "outputs": [
    {
     "name": "stderr",
     "output_type": "stream",
     "text": [
      "WARNING: Method definition false_pos_neg_graph(Any, Any) in module Main at In[17]:2 overwritten at In[64]:2.\n"
     ]
    },
    {
     "data": {
      "text/plain": [
       "false_pos_neg_graph (generic function with 1 method)"
      ]
     },
     "execution_count": 64,
     "metadata": {},
     "output_type": "execute_result"
    }
   ],
   "source": [
    "function false_pos_neg_graph(pairs, real_tags)\n",
    "    false_positive_count = 0\n",
    "    true_positive_count = 0\n",
    "    for (value, tag) in pairs\n",
    "        if (tag in real_tags)\n",
    "            true_positive_count += 1\n",
    "        else\n",
    "            false_positive_count += 1\n",
    "        end\n",
    "    end\n",
    "    x_values = [false_positive_count]\n",
    "    y_values = [true_positive_count]\n",
    "    for (value, tag) in pairs\n",
    "        if tag in real_tags\n",
    "            true_positive_count -= 1\n",
    "        else\n",
    "            false_positive_count -= 1\n",
    "        end\n",
    "        push!(x_values, false_positive_count)\n",
    "        push!(y_values, true_positive_count)\n",
    "    end\n",
    "    return x_values, y_values\n",
    "end"
   ]
  },
  {
   "cell_type": "code",
   "execution_count": 65,
   "metadata": {
    "collapsed": false
   },
   "outputs": [
    {
     "name": "stderr",
     "output_type": "stream",
     "text": [
      "WARNING: Method definition filter_out_same_values(Any, Any) in module Main at In[18]:2 overwritten at In[65]:2.\n"
     ]
    },
    {
     "data": {
      "text/plain": [
       "filter_out_same_values (generic function with 1 method)"
      ]
     },
     "execution_count": 65,
     "metadata": {},
     "output_type": "execute_result"
    }
   ],
   "source": [
    "function filter_out_same_values(sorted_values, dependant_variable)\n",
    "    out = [dependant_variable[1]]\n",
    "    last_value = 0\n",
    "    for i in 1:length(sorted_values)\n",
    "        if sorted_values[i] > last_value\n",
    "            push!(out, dependant_variable[i+1])\n",
    "            last_value = sorted_values[i]\n",
    "        end\n",
    "    end\n",
    "    return out\n",
    "end"
   ]
  },
  {
   "cell_type": "code",
   "execution_count": 66,
   "metadata": {
    "collapsed": false
   },
   "outputs": [],
   "source": [
    "x_us, y_us = false_pos_neg_graph(likely_real, real_tags) \n",
    "x_us = filter_out_same_values([x[1] for x in likely_real], x_us)\n",
    "y_us = filter_out_same_values([x[1] for x in likely_real], y_us)\n",
    "short_likely_real = vcat([0.], [x[1] for x in likely_real])\n",
    "short_likely_real = filter_out_same_values([x[1] for x in likely_real], short_likely_real)\n",
    "\n",
    "x_ron, y_ron = false_pos_neg_graph(count_tag, real_tags)\n",
    "x_ron = filter_out_same_values([x[1] for x in count_tag], x_ron)\n",
    "y_ron = filter_out_same_values([x[1] for x in count_tag], y_ron)\n",
    "short_count_tag = vcat([0], [x[1] for x in count_tag]) \n",
    "short_count_tag = filter_out_same_values([x[1] for x in count_tag], short_count_tag);"
   ]
  },
  {
   "cell_type": "code",
   "execution_count": 87,
   "metadata": {
    "collapsed": false
   },
   "outputs": [
    {
     "name": "stderr",
     "output_type": "stream",
     "text": [
      "WARNING: Method definition (::Type{Main.GraphVariables})(Any, Any, Any, Any, Any, Any, Any, Any) in module Main at In[78]:2 overwritten at In[87]:2.\n",
      "WARNING: Method definition (::Type{Main.GraphVariables})() in module Main at In[78]:11 overwritten at In[87]:11.\n"
     ]
    },
    {
     "ename": "LoadError",
     "evalue": "LoadError: syntax: invalid iteration specification\nwhile loading In[87], in expression starting on line 14",
     "output_type": "error",
     "traceback": [
      "LoadError: syntax: invalid iteration specification\nwhile loading In[87], in expression starting on line 14",
      ""
     ]
    }
   ],
   "source": [
    "type GraphVariables \n",
    "    sample_size\n",
    "    number_of_reads\n",
    "    recurse\n",
    "    pacbio_error_rate\n",
    "    dirichlet_concentration\n",
    "    pcr_cycles\n",
    "    pcr_efficiency\n",
    "    minimum_bin_size\n",
    "end\n",
    "GraphVariables() = GraphVariables(1000,100000,1,0.005,0.5,45,0.7,1)\n",
    "function GraphVariables(symbols::Array{Symbol}, values::Array{Any})\n",
    "    gv = GraphVariables()\n",
    "    for symbol, value in zip(symbols, values)\n",
    "        setfield!(gv, symbol, value)\n",
    "    end\n",
    "    return gv\n",
    "end"
   ]
  },
  {
   "cell_type": "code",
   "execution_count": 67,
   "metadata": {
    "collapsed": false
   },
   "outputs": [
    {
     "name": "stderr",
     "output_type": "stream",
     "text": [
      "INFO: Symbol[:sample_size,:number_of_reads,:recurse,:pacbio_error_rate,:dirichlet_concentration,:pcr_cycles,:pcr_efficiency,:minimum_bin_size]\n",
      "INFO: Reading 3 existing plots from file\n"
     ]
    }
   ],
   "source": [
    "# Read from file\n",
    "filename = \"BensTempOutput.csv\"\n",
    "plots = []\n",
    "if isfile(filename)\n",
    "    file = open(filename)\n",
    "    variables = map(Symbol, split(strip(readline(file)), \",\"))\n",
    "    info(variables)\n",
    "    number_of_plots = parse(strip(readline(file)))\n",
    "    info(\"Reading $(number_of_plots) existing plots from file\")\n",
    "    for i in 1:number_of_plots\n",
    "        parameters = map(parse, split(strip(readline(file)),\",\"))\n",
    "        our_threshold = map(parse, split(strip(readline(file)),\",\"))\n",
    "        our_x = map(parse, split(strip(readline(file)),\",\"))\n",
    "        our_y = map(parse, split(strip(readline(file)),\",\"))\n",
    "        rons_threshold = map(parse, split(strip(readline(file)),\",\"))\n",
    "        rons_x = map(parse, split(strip(readline(file)),\",\"))\n",
    "        rons_y = map(parse, split(strip(readline(file)),\",\"))\n",
    "        push!(plots, (parameters, our_threshold, our_x, our_y, rons_threshold, rons_x, rons_y))\n",
    "    end\n",
    "end"
   ]
  },
  {
   "cell_type": "code",
   "execution_count": 68,
   "metadata": {
    "collapsed": false
   },
   "outputs": [
    {
     "data": {
      "text/plain": [
       "4-element Array{Any,1}:\n",
       " (Real[1000,100000,1,0.005,0.5,45,0.7,1],[0.0,0.499761,0.514866,0.515676,0.515714,0.516331,0.519383,0.529552,0.530804,0.531473  …  0.999999,0.999999,0.999999,0.999999,1.0,1.0,1.0,1.0,1.0,1.0],[1628,296,295,294,293,292,291,290,289,288  …  0,0,0,0,0,0,0,0,0,0],[878,802,802,802,802,802,802,802,802,802  …  15,14,13,11,9,6,4,3,2,1],[0,1,2,3,4,5,6,7,8,9  …  1805,1822,1832,1838,1845,3561,3590,3667,7240,7250],[1628,1627,424,195,108,80,55,35,27,26  …  0,0,0,0,0,0,0,0,0,0],[878,878,802,747,708,674,640,612,582,561  …  9,8,7,6,5,4,3,2,1,0])                           \n",
       " (Real[1000,100000,1,0.025,0.5,45,0.7,1],[0.0,0.372689,0.497593,0.506031,0.509927,0.514882,0.547755,0.553626,0.554887,0.565439  …  0.999986,0.999988,0.999988,0.999988,0.999988,0.999993,0.999993,0.999997,0.999998,0.999998],[1628,122,121,120,119,118,117,116,115,114  …  0,0,0,0,0,0,0,0,0,0],[878,801,801,801,801,801,801,801,801,801  …  10,9,8,6,5,4,3,2,1,0],[0,1,2,3,4,5,6,7,8,9  …  1805,1822,1832,1838,1845,3561,3590,3667,7240,7250],[1628,1627,424,195,108,80,55,35,27,26  …  0,0,0,0,0,0,0,0,0,0],[878,878,802,747,708,674,640,612,582,561  …  9,8,7,6,5,4,3,2,1,0])\n",
       " (Real[1000,100000,1,0.005,0.5,45,0.9,1],[0.0,0.503042,0.503271,0.504071,0.506137,0.506196,0.512228,0.518223,0.522063,0.524791  …  0.999998,0.999998,0.999998,0.999998,0.999999,0.999999,0.999999,0.999999,0.999999,0.999999],[2242,305,304,303,302,301,300,299,298,297  …  0,0,0,0,0,0,0,0,0,0],[983,967,967,967,967,967,967,967,967,967  …  10,8,7,6,5,4,3,2,1,0],[0,1,2,3,4,5,6,7,8,9  …  510,513,521,954,973,974,988,992,996,1015],[2242,2241,382,123,44,23,12,5,3,0  …  0,0,0,0,0,0,0,0,0,0],[983,983,967,951,930,918,902,890,873,850  …  10,9,8,7,6,5,3,2,1,0])            \n",
       " (Real[1000,100000,1,0.005,0.5,35,0.7,1],[0.0,0.496779,0.499787,0.502972,0.50793,0.510149,0.511072,0.512803,0.513954,0.516377  …  0.999998,0.999998,0.999998,0.999999,0.999999,0.999999,0.999999,0.999999,1.0,1.0],[1728,266,265,264,263,262,261,260,259,258  …  0,0,0,0,0,0,0,0,0,0],[929,876,876,876,876,876,876,876,876,876  …  9,8,7,6,5,4,3,2,1,0],[0,1,2,3,4,5,6,7,8,9  …  1427,1437,1449,1500,1521,2806,2809,2916,5768,5808],[1728,1727,374,162,92,65,46,31,25,21  …  0,0,0,0,0,0,0,0,0,0],[929,929,876,825,792,760,738,712,685,666  …  9,8,7,6,5,4,3,2,1,0])             "
      ]
     },
     "execution_count": 68,
     "metadata": {},
     "output_type": "execute_result"
    }
   ],
   "source": [
    "push!(plots, (map(eval, variables), short_likely_real, x_us, y_us, short_count_tag, x_ron, y_ron))"
   ]
  },
  {
   "cell_type": "code",
   "execution_count": 69,
   "metadata": {
    "collapsed": false
   },
   "outputs": [
    {
     "data": {
      "text/html": [
       "1198"
      ],
      "text/plain": [
       "1198"
      ]
     },
     "execution_count": 69,
     "metadata": {},
     "output_type": "execute_result"
    }
   ],
   "source": [
    "length(plots[3][4])"
   ]
  },
  {
   "cell_type": "code",
   "execution_count": 70,
   "metadata": {
    "collapsed": false
   },
   "outputs": [],
   "source": [
    "# Write to file\n",
    "parameters = \n",
    "file = open(filename, \"w\")\n",
    "write(file, \"$(join(variables, \",\"))\\n\")\n",
    "write(file, \"$(length(plots))\\n\")\n",
    "for plot in plots\n",
    "    write(file, \"$(join(plot[1], \",\"))\\n\") # The values of the parameters for the plot\n",
    "    write(file, \"$(join(plot[2], \",\"))\\n\") # Our threshold values\n",
    "    write(file, \"$(join(plot[3], \",\"))\\n\") # Our x values\n",
    "    write(file, \"$(join(plot[4], \",\"))\\n\") # Our y values\n",
    "    write(file, \"$(join(plot[5], \",\"))\\n\") # Ron's threshold values\n",
    "    write(file, \"$(join(plot[6], \",\"))\\n\") # Ron's x values\n",
    "    write(file, \"$(join(plot[7], \",\"))\\n\") # Ron's y values\n",
    "end\n",
    "close(file)"
   ]
  },
  {
   "cell_type": "code",
   "execution_count": 71,
   "metadata": {
    "collapsed": false
   },
   "outputs": [
    {
     "data": {
      "image/png": "[encoded data removed]",
      "text/plain": [
       "PyPlot.Figure(PyObject <matplotlib.figure.Figure object at 0x318a18fd0>)"
      ]
     },
     "metadata": {},
     "output_type": "display_data"
    },
    {
     "name": "stdout",
     "output_type": "stream",
     "text": [
      "0.9 - 92 false positive, 876 true positive (out of 990)\n",
      "0.95 - 55 false positive, 872 true positive (out of 990)\n",
      "0.99 - 13 false positive, 854 true positive (out of 990)\n",
      "0.995 - 7 false positive, 837 true positive (out of 990)\n"
     ]
    }
   ],
   "source": [
    "fig, ax = subplots()\n",
    "\n",
    "# Printing points for the different special thresholds\n",
    "# Ben's threshold points\n",
    "threshold = [.9, .95, .99, .995, 100]\n",
    "threshold_i = 1\n",
    "for i in 1:length(short_likely_real)\n",
    "    if short_likely_real[i][1] > threshold[threshold_i]\n",
    "        ax[:plot](x_us[i], y_us[i], \".\", color=\"black\", )\n",
    "        println(\"$(threshold[threshold_i]) - $(x_us[i]) false positive, $(y_us[i]) true positive (out of $(length(generated_tag_counts)))\")\n",
    "        threshold_i += 1\n",
    "    end\n",
    "end\n",
    "# Ron's \n",
    "threshold = [1, 2, 3, 4, 5, 10, 15, 20, 10000000]\n",
    "threshold_i = 1\n",
    "for i in 1:length(short_count_tag)\n",
    "    if short_count_tag[i][1] > threshold[threshold_i]\n",
    "        ax[:plot](x_ron[i+1], y_ron[i+1], \".\", color=\"black\")\n",
    "        threshold_i += 1\n",
    "    end\n",
    "end\n",
    "\n",
    "# Plotting the plots from the save file, as well as our new plots\n",
    "for plot in plots\n",
    "    parms = ax[:plot](plot[3], plot[4], linewidth=2, label=\"$(join(plot[1],\",\"))\", alpha=0.4)\n",
    "    chosen_color = parms[1][:get_color]()\n",
    "    ax[:plot](plot[6], plot[7], linestyle=\"--\", linewidth=2, color=chosen_color, alpha=0.4)\n",
    "end\n",
    "\n",
    "ax[:legend](loc=4)\n",
    "xlim([0,300])\n",
    "#ylim([1500,2000])\n",
    "#ylim([700,900])\n",
    "xlabel(\"false positives\")\n",
    "ylabel(\"true positives\");\n"
   ]
  },
  {
   "cell_type": "code",
   "execution_count": 72,
   "metadata": {
    "collapsed": true
   },
   "outputs": [],
   "source": [
    "threshold = 0.95\n",
    "included = Set()\n",
    "excluded = Set()\n",
    "for (prob, tag) in likely_real\n",
    "    if prob >= threshold\n",
    "        push!(included, tag)\n",
    "    else\n",
    "        push!(excluded, tag)\n",
    "    end\n",
    "end"
   ]
  },
  {
   "cell_type": "code",
   "execution_count": 73,
   "metadata": {
    "collapsed": false
   },
   "outputs": [
    {
     "name": "stdout",
     "output_type": "stream",
     "text": [
      "Of the 990 original tags, 873 were recovered\n"
     ]
    }
   ],
   "source": [
    "# Of the initial number of tags, how many are recovered?\n",
    "recovered_tags = 0\n",
    "for generated_tag in keys(generated_tag_counts)\n",
    "    if generated_tag in included\n",
    "        recovered_tags += 1\n",
    "    end\n",
    "end\n",
    "println(\"Of the $(length(generated_tag_counts)) original tags, $(recovered_tags) were recovered\")"
   ]
  },
  {
   "cell_type": "code",
   "execution_count": 74,
   "metadata": {
    "collapsed": false
   },
   "outputs": [
    {
     "data": {
      "image/png": "[encoded data removed]",
      "text/plain": [
       "PyPlot.Figure(PyObject <matplotlib.figure.Figure object at 0x318998850>)"
      ]
     },
     "metadata": {},
     "output_type": "display_data"
    },
    {
     "name": "stdout",
     "output_type": "stream",
     "text": [
      "CTCTGATT - 11 generated copies - 10 seen copies - 0.94928896 probability of being real\n",
      "\tCTCTGATT - 10 seen copies - 0.96069306 chance of indel\n",
      "\tCTCTGAT - 1 seen copies - 0.0038780828 chance of indel\n",
      "\tCTCGATT - 1 seen copies - 0.0019410417 chance of indel\n",
      "\tTCTGATT - 1 seen copies - 0.0019397084 chance of indel\n",
      "\tCTATGATT - 4 seen copies - 0.0003243422 chance of indel\n",
      "\tGTCTGATT - 1521 seen copies - 0.00032434214 chance of indel\n",
      "\tACTCTGAT - 189 seen copies - 4.0f-6 chance of indel\n",
      "\tGTCTGAT - 7 seen copies - 2.6666667f-6 chance of indel\n",
      "\tGCTGATT - 3 seen copies - 2.6666667f-6 chance of indel\n",
      "\tCTGTGAT - 2 seen copies - 2.6666667f-6 chance of indel\n",
      "\tCTCTACTT - 16 seen copies - 2.2222223f-6 chance of indel\n",
      "\tACTCGATT - 19 seen copies - 2.0f-6 chance of indel\n",
      "\tGTCTATT - 3 seen copies - 1.3333333f-6 chance of indel\n",
      "\tGTCGATT - 2 seen copies - 1.3333333f-6 chance of indel\n",
      "\tGTTGATT - 2 seen copies - 1.3333333f-6 chance of indel\n",
      "\tCTCTACT - 1 seen copies - 1.3333333f-6 chance of indel\n",
      "\tGTCTGTT - 4 seen copies - 1.3333333f-6 chance of indel\n",
      "\tGTCTGATTT - 5 seen copies - 1.0f-6 chance of indel\n",
      "\tGTTCTGATT - 3 seen copies - 1.0f-6 chance of indel\n",
      "\tAGTCTGATT - 2 seen copies - 6.6666666f-7 chance of indel\n",
      "\tGGTCTGATT - 1 seen copies - 6.6666666f-7 chance of indel\n",
      "\tGTCTTGATT - 2 seen copies - 6.6666666f-7 chance of indel\n",
      "\tGTCTGAATT - 2 seen copies - 6.6666666f-7 chance of indel\n",
      "\tGTCCTGATT - 1 seen copies - 6.6666666f-7 chance of indel\n",
      "\tGTCTGGATT - 1 seen copies - 6.6666666f-7 chance of indel\n",
      "\tCTGTCGATT - 1 seen copies - 3.3333333f-7 chance of indel\n",
      "\tGTCTGATTA - 1 seen copies - 3.3333333f-7 chance of indel\n",
      "\tGTCTGGTT - 2 seen copies - 2.2222223f-7 chance of indel\n",
      "\tGTCTGAGT - 2 seen copies - 2.2222223f-7 chance of indel\n",
      "\tCTCTGCTG - 1 seen copies - 2.2222223f-7 chance of indel\n",
      "\tGTCTGATG - 2 seen copies - 2.2222223f-7 chance of indel\n",
      "\tCTCTTACT - 155 seen copies - 2.2222223f-7 chance of indel\n",
      "\tGTCTGCTT - 1 seen copies - 2.2222223f-7 chance of indel\n"
     ]
    }
   ],
   "source": [
    "# Of the unrecovered tags, how many copies were generated\n",
    "unrecovered_copy_count = []\n",
    "but = \"None\"\n",
    "buts = 0\n",
    "for generated_tag in keys(generated_tag_counts)\n",
    "    if !(generated_tag in included)\n",
    "        push!(unrecovered_copy_count, generated_tag_counts[generated_tag])\n",
    "        if generated_tag_counts[generated_tag] > buts\n",
    "            buts = generated_tag_counts[generated_tag]\n",
    "            but = generated_tag\n",
    "        end\n",
    "    end\n",
    "end\n",
    "fig, ax = subplots()\n",
    "ax[:hist](unrecovered_copy_count, 50);\n",
    "println(\"$(but) - $(buts) generated copies - $(tag_counts[but]) seen copies - $(tag_to_prob[but]) probability of being real\")\n",
    "for (index, prob) in sort!(probabilities_array[tag_to_index[but]], by=x->-x[2])\n",
    "    println(\"\\t$(index_to_tag[index]) - $(tag_counts[index_to_tag[index]]) seen copies - $(prob) chance of indel\")\n",
    "end\n"
   ]
  },
  {
   "cell_type": "code",
   "execution_count": 75,
   "metadata": {
    "collapsed": false
   },
   "outputs": [
    {
     "name": "stdout",
     "output_type": "stream",
     "text": [
      "Of the 928 recovered tags, 873 were valid, with a false positive rate of 5.9267%\n"
     ]
    }
   ],
   "source": [
    "# Of the recovered tags, how many are valid?\n",
    "valid_tags = 0\n",
    "for recovered_tag in included\n",
    "    if recovered_tag in keys(generated_tag_counts)\n",
    "        valid_tags += 1\n",
    "    end\n",
    "end\n",
    "println(\"Of the $(length(included)) recovered tags, $(valid_tags) were valid, with a false positive rate of $(round((length(included)-valid_tags)/length(included)*100,4))%\")"
   ]
  },
  {
   "cell_type": "code",
   "execution_count": 76,
   "metadata": {
    "collapsed": false
   },
   "outputs": [
    {
     "data": {
      "image/png": "[encoded data removed]",
      "text/plain": [
       "PyPlot.Figure(PyObject <matplotlib.figure.Figure object at 0x318ffd150>)"
      ]
     },
     "metadata": {},
     "output_type": "display_data"
    }
   ],
   "source": [
    "# Of the validly recovered tags, how many of the original sequences are recovered\n",
    "recovered = []\n",
    "out_of = []\n",
    "for recovered_tag in included\n",
    "    if recovered_tag in keys(generated_tag_counts)\n",
    "        matching = 0\n",
    "        for sequence in tag_dict[recovered_tag]\n",
    "            real_label = split(sequence[2][1], \"_\")[3]\n",
    "            if real_label == recovered_tag\n",
    "                matching += 1\n",
    "            end\n",
    "        end\n",
    "        push!(recovered, matching)\n",
    "        push!(out_of, generated_tag_counts[recovered_tag])\n",
    "    end\n",
    "end\n",
    "scatter(recovered, out_of, alpha=0.5);"
   ]
  },
  {
   "cell_type": "code",
   "execution_count": 77,
   "metadata": {
    "collapsed": false
   },
   "outputs": [
    {
     "name": "stdout",
     "output_type": "stream",
     "text": [
      "1 out of 87 mismatched tags for CCCAGGAC\n",
      "1 out of 10 mismatched tags for AGGGGGCG\n",
      "1 out of 168 mismatched tags for CATGAAAC\n",
      "1 out of 10 mismatched tags for AGTCGGCC\n",
      "1 out of 14 mismatched tags for CCCATTGG\n",
      "1 out of 3 mismatched tags for TCCCGCTA\n",
      "1 out of 58 mismatched tags for TTTTCCAT\n"
     ]
    }
   ],
   "source": [
    "# Of the validly recovered tags, how many mismatched sequences are included\n",
    "for recovered_tag in included\n",
    "    if recovered_tag in keys(generated_tag_counts)\n",
    "        non_matching = 0\n",
    "        for sequence in tag_dict[recovered_tag]\n",
    "            real_label = split(sequence[2][1], \"_\")[3]\n",
    "            if real_label != recovered_tag\n",
    "                non_matching += 1\n",
    "            end\n",
    "        end\n",
    "        if non_matching > 0\n",
    "            println(\"$(non_matching) out of $(length(tag_dict[recovered_tag])) mismatched tags for $(recovered_tag)\")\n",
    "        end\n",
    "    end\n",
    "end"
   ]
  },
  {
   "cell_type": "markdown",
   "metadata": {},
   "source": [
    "# Getting consensuses"
   ]
  },
  {
   "cell_type": "markdown",
   "metadata": {
    "collapsed": false
   },
   "source": [
    "edit_distances = []\n",
    "number_of_copies = []\n",
    "consensuses = []\n",
    "for recovered_tag in included\n",
    "    if !(recovered_tag in keys(tag_to_original_sequence))\n",
    "        println(\"$(recovered_tag) not actually an original tag\")\n",
    "        continue\n",
    "    end\n",
    "    sequences = map(x -> x[2][2], tag_dict[recovered_tag])\n",
    "    consensus_seq = consensusSeq(sequences)\n",
    "    push!(consensuses, consensus_seq)\n",
    "    original = tag_to_original_sequence[recovered_tag]\n",
    "    distance = kmerSeededEditDist(consensus_seq, original)\n",
    "    push!(edit_distances, distance)\n",
    "    push!(number_of_copies, generated_tag_counts[recovered_tag])\n",
    "    #println(\"$(recovered_tag) recovered with $((length(original) - distance) / length(original) * 100)% accuracy\")\n",
    "end"
   ]
  },
  {
   "cell_type": "markdown",
   "metadata": {},
   "source": [
    "sum(edit_distances)"
   ]
  },
  {
   "cell_type": "markdown",
   "metadata": {
    "collapsed": false
   },
   "source": [
    "scatter(log(Array{Float64}(number_of_copies))+randn(length(edit_distances))*0.1, edit_distances+randn(length(edit_distances))*0.1, alpha = 0.1);"
   ]
  },
  {
   "cell_type": "code",
   "execution_count": null,
   "metadata": {
    "collapsed": true
   },
   "outputs": [],
   "source": []
  }
 ],
 "metadata": {
  "kernelspec": {
   "display_name": "Julia 0.5.0",
   "language": "julia",
   "name": "julia-0.5"
  },
  "language_info": {
   "file_extension": ".jl",
   "mimetype": "application/julia",
   "name": "julia",
   "version": "0.5.0"
  }
 },
 "nbformat": 4,
 "nbformat_minor": 0
}
