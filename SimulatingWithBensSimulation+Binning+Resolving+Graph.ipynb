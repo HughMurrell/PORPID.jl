{
 "cells": [
  {
   "cell_type": "code",
   "execution_count": 1,
   "metadata": {
    "collapsed": false
   },
   "outputs": [
    {
     "name": "stderr",
     "output_type": "stream",
     "text": [
      "WARNING: requiring \"NGSutilsFuncs\" in module \"Main\" did not define a corresponding module.\n"
     ]
    }
   ],
   "source": [
    "# Importing stuff\n",
    "push!(LOAD_PATH, \"/Users/robert/bio/BeNGS\")\n",
    "using NGSutilsFuncs\n",
    "using Distributions\n",
    "using HMMIDMethods\n",
    "using HMMIDConfig\n",
    "using Nucleotides\n",
    "using States\n",
    "using Observations\n",
    "using NeedlemanWunsch\n",
    "using PyPlot\n",
    "using StatsBase"
   ]
  },
  {
   "cell_type": "markdown",
   "metadata": {},
   "source": [
    "# Making a simulated dataset"
   ]
  },
  {
   "cell_type": "code",
   "execution_count": 2,
   "metadata": {
    "collapsed": false
   },
   "outputs": [
    {
     "data": {
      "text/html": [
       "1000"
      ],
      "text/plain": [
       "1000"
      ]
     },
     "execution_count": 2,
     "metadata": {},
     "output_type": "execute_result"
    }
   ],
   "source": [
    "srand(1234)\n",
    "sample_size = 1000"
   ]
  },
  {
   "cell_type": "code",
   "execution_count": null,
   "metadata": {
    "collapsed": true
   },
   "outputs": [],
   "source": [
    "# Getting samples from fasta\n",
    "samples = []\n",
    "index = 0\n",
    "for sequence in Nucleotides.FastaIterator(\"/Users/robert/bio/BeNGS/P018_HQCS_short.fasta\")\n",
    "    if index < sample_size\n",
    "        push!(samples, (sequence.label, replace(join(map(string, sequence.seq)), \"-\", \"\")))\n",
    "    else\n",
    "       if rand() < sample_size / (index + 1)\n",
    "            samples[rand(1:sample_size)] = (sequence.label, replace(join(map(string, sequence.seq)), \"-\", \"\"))\n",
    "       end\n",
    "    end\n",
    "    index += 1\n",
    "end"
   ]
  },
  {
   "cell_type": "code",
   "execution_count": 3,
   "metadata": {
    "collapsed": true
   },
   "outputs": [],
   "source": [
    "sequences_in_fasta = []\n",
    "for sequence in Nucleotides.FastaIterator(\"/Users/robert/bio/BeNGS/P018_HQCS_short.fasta\")\n",
    "    push!(sequences_in_fasta, (sequence.label, replace(join(map(string, sequence.seq)), \"-\", \"\")))\n",
    "end"
   ]
  },
  {
   "cell_type": "code",
   "execution_count": 4,
   "metadata": {
    "collapsed": false
   },
   "outputs": [],
   "source": [
    "number_of_reads = 100000\n",
    "original_templates = sample_size\n",
    "cycles = 45\n",
    "double = log(2)\n",
    "efficiency = 0.7\n",
    "dist = Binomial(cycles, efficiency)\n",
    "molecules = e.^(rand(dist, (original_templates)) * double)\n",
    "template_count = zeros(Int64, original_templates)\n",
    "for molecule in wsample(1:original_templates, molecules, number_of_reads)\n",
    "    template_count[molecule] += 1\n",
    "end;\n",
    "#bar(1:original_templates, template_count);\n",
    "\n",
    "#g = Geometric(1/51)\n",
    "#template_count = rand(g, sample_size)"
   ]
  },
  {
   "cell_type": "code",
   "execution_count": 5,
   "metadata": {
    "collapsed": false
   },
   "outputs": [
    {
     "name": "stdout",
     "output_type": "stream",
     "text": [
      " 77.885796 seconds (130.24 M allocations: 3.276 GB, 3.04% gc time)\n"
     ]
    }
   ],
   "source": [
    "# Generating our dataset using our samples as seeds\n",
    "primer_before_pid = \"GATTACA\"\n",
    "pid_length = 8\n",
    "primer_after_pid = \"ACGTACGTGGAAGACTTA\"\n",
    "i = 1\n",
    "true_sequences = Array{String,1}()\n",
    "generated_sequences = Array{Tuple{String, String, Array{Float64}}}(sum(template_count))\n",
    "generated_tag_counts = Dict()\n",
    "tag_to_original_sequence = Dict()\n",
    "generated_index = 1\n",
    "@time for k in template_count\n",
    "    sequence = sample(sequences_in_fasta)\n",
    "    pid = join(rand([\"A\", \"C\", \"G\", \"T\"], pid_length))\n",
    "    template = (\"$(primer_before_pid)$(pid)$(primer_after_pid)$(sequence[2])\")\n",
    "    push!(true_sequences, template)\n",
    "    generated = envPBseqSim(template, k, withQVs=true)\n",
    "    for j in 1:length(generated)\n",
    "        label = \"PID_$(i)_$(pid)_$(j)_of_$(k)\"\n",
    "        generated_sequences[generated_index] = (label, generated[j][1], generated[j][2])\n",
    "        generated_index += 1\n",
    "        if generated_index % 50000 == 0\n",
    "            try\n",
    "                run(`say -r 600 Generated $(generated_index) sequences`)\n",
    "            end\n",
    "        end\n",
    "    end\n",
    "    generated_tag_counts[pid] = k\n",
    "    tag_to_original_sequence[pid] = template\n",
    "    i += 1\n",
    "end\n",
    "shuffle!(generated_sequences);"
   ]
  },
  {
   "cell_type": "code",
   "execution_count": 6,
   "metadata": {
    "collapsed": false
   },
   "outputs": [
    {
     "name": "stdout",
     "output_type": "stream",
     "text": [
      "0 duplicates\n"
     ]
    }
   ],
   "source": [
    "println(\"$(length(Set(generated_tag_counts)) - length(generated_tag_counts)) duplicates\")"
   ]
  },
  {
   "cell_type": "code",
   "execution_count": 7,
   "metadata": {
    "collapsed": false
   },
   "outputs": [
    {
     "data": {
      "image/png": "[encoded data removed]",
      "text/plain": [
       "PyPlot.Figure(PyObject <matplotlib.figure.Figure object at 0x320953e50>)"
      ]
     },
     "metadata": {},
     "output_type": "display_data"
    }
   ],
   "source": [
    "fig, ax = subplots()\n",
    "ax[:hist](collect(values(generated_tag_counts)), 50);"
   ]
  },
  {
   "cell_type": "markdown",
   "metadata": {},
   "source": [
    "# Running HMMIDS on Simulation Data"
   ]
  },
  {
   "cell_type": "code",
   "execution_count": 8,
   "metadata": {
    "collapsed": false
   },
   "outputs": [
    {
     "data": {
      "text/plain": [
       "1-element Array{HMMIDConfig.Template,1}:\n",
       " HMMIDConfig.Template(\"Reference\",States.AbstractState[States.StartingState(),States.ObservableState(DNA_G),States.ObservableState(DNA_A),States.ObservableState(DNA_T),States.ObservableState(DNA_T),States.ObservableState(DNA_A),States.ObservableState(DNA_C),States.ObservableState(DNA_A),States.BarcodeState(DNA_N),States.BarcodeState(DNA_N)  …  States.ObservableState(DNA_G),States.ObservableState(DNA_A),States.ObservableState(DNA_A),States.ObservableState(DNA_G),States.ObservableState(DNA_A),States.ObservableState(DNA_C),States.ObservableState(DNA_T),States.ObservableState(DNA_T),States.ObservableState(DNA_A),States.RepeatingAnyState(DNA_N)])"
      ]
     },
     "execution_count": 8,
     "metadata": {},
     "output_type": "execute_result"
    }
   ],
   "source": [
    "cfg = Configuration()\n",
    "cfg.start_inclusive = 0\n",
    "cfg.end_inclusive = length(primer_before_pid) + pid_length + length(primer_after_pid) + 5\n",
    "cfg.try_reverse = false\n",
    "push!(cfg.templates, Template(\"Reference\", \"$(primer_before_pid)$(repeat(\"n\", pid_length))$(primer_after_pid)*\"))"
   ]
  },
  {
   "cell_type": "code",
   "execution_count": 9,
   "metadata": {
    "collapsed": false
   },
   "outputs": [
    {
     "name": "stdout",
     "output_type": "stream",
     "text": [
      "155.354105 seconds (2.07 G allocations: 33.150 GB, 11.36% gc time)\n"
     ]
    }
   ],
   "source": [
    "tag_dict = Dict()\n",
    "\n",
    "# This is the slow bit\n",
    "@time for sequence in generated_sequences\n",
    "    start_i = HMMIDMethods.py_index_to_julia(cfg.start_inclusive, length(sequence[2]), true)\n",
    "    end_i = HMMIDMethods.py_index_to_julia(cfg.end_inclusive, length(sequence[2]), true)\n",
    "\n",
    "    seq = map(DNASymbol, collect(sequence[2])[start_i:end_i])\n",
    "    prob  = 1 - sequence[3][start_i:end_i]\n",
    "    observations = map(Observations.Observation, seq, prob)\n",
    "    \n",
    "    score, tag, errors = NeedlemanWunsch.extract_tag(observations, cfg.templates[1].reference)\n",
    "    \n",
    "    tag = length(tag) > 0 ? join(map(string, tag), \"\") : \"NO_TAG\"\n",
    "    tag = errors <= cfg.max_allowed_errors ? tag : \"REJECTS\"\n",
    "    if !haskey(tag_dict, tag)\n",
    "        tag_dict[tag] = []\n",
    "    end\n",
    "    push!(tag_dict[tag], (score, sequence))\n",
    "end"
   ]
  },
  {
   "cell_type": "code",
   "execution_count": 10,
   "metadata": {
    "collapsed": true
   },
   "outputs": [],
   "source": [
    "real_tags = Set()\n",
    "observed_tags = Set()\n",
    "for observed_label in keys(tag_dict)\n",
    "    for (score, sequence) in tag_dict[observed_label]\n",
    "        real_label = split(sequence[1], \"_\")[3]\n",
    "        push!(real_tags, real_label)\n",
    "        push!(observed_tags, observed_label)\n",
    "    end\n",
    "end"
   ]
  },
  {
   "cell_type": "code",
   "execution_count": 11,
   "metadata": {
    "collapsed": true
   },
   "outputs": [],
   "source": [
    "tag_counts = Dict() \n",
    "tags = []\n",
    "index = 1\n",
    "for tag in keys(tag_dict)\n",
    "    push!(tags, tag)\n",
    "    tag_counts[tag] = length(tag_dict[tag])\n",
    "end"
   ]
  },
  {
   "cell_type": "markdown",
   "metadata": {},
   "source": [
    "# Resolving which tags are real"
   ]
  },
  {
   "cell_type": "code",
   "execution_count": 75,
   "metadata": {
    "collapsed": false
   },
   "outputs": [
    {
     "name": "stdout",
     "output_type": "stream",
     "text": [
      " 14.971524 seconds (71.78 M allocations: 3.205 GB, 38.95% gc time)\n"
     ]
    }
   ],
   "source": [
    "using Resolving\n",
    "recurse = 1\n",
    "pacbio_error_rate = 0.005\n",
    "tag_to_index, index_to_tag = tag_index_mapping(tags)\n",
    "@time probabilities_array = prob_observed_tags_given_reals(tag_to_index, Resolving.PacBioErrorModel(pacbio_error_rate), recurse)\n",
    "indexed_counts = index_counts(tag_counts, tag_to_index);"
   ]
  },
  {
   "cell_type": "code",
   "execution_count": 76,
   "metadata": {
    "collapsed": false
   },
   "outputs": [],
   "source": [
    "using CustomLDA\n",
    "dirichlet_concentration = 0.5\n",
    "most_likely_real_for_each_obs = CustomLDA.LDA(probabilities_array, indexed_counts, concentration=dirichlet_concentration);"
   ]
  },
  {
   "cell_type": "code",
   "execution_count": 77,
   "metadata": {
    "collapsed": false
   },
   "outputs": [
    {
     "data": {
      "text/plain": [
       "2610-element Array{Any,1}:\n",
       " (0,\"AAAAGCTG\")       \n",
       " (0,\"AAAAGCTTG\")      \n",
       " (0,\"AAAAGGAGC\")      \n",
       " (0,\"AAAAGTAAG\")      \n",
       " (0,\"AAAATTGG\")       \n",
       " (0,\"AAACAGGGG\")      \n",
       " (0,\"AAACAGTTC\")      \n",
       " (0,\"AAACCCA\")        \n",
       " (0,\"AAACGTCGG\")      \n",
       " (0,\"AAACTGTCA\")      \n",
       " (0,\"AAAGAAA\")        \n",
       " (0,\"AAAGAAAC\")       \n",
       " (0,\"AAAGAACT\")       \n",
       " ⋮                    \n",
       " (0.999999,\"GTACACAA\")\n",
       " (0.999999,\"ACACATAG\")\n",
       " (0.999999,\"CATCGTAG\")\n",
       " (0.999999,\"TTTTTGAC\")\n",
       " (0.999999,\"ATTAGGTT\")\n",
       " (1.0,\"TACCGCTA\")     \n",
       " (1.0,\"TTGTCCGG\")     \n",
       " (1.0,\"CATGCGCT\")     \n",
       " (1.0,\"CTACACTG\")     \n",
       " (1.0,\"GATATCAA\")     \n",
       " (1.0,\"TTGATGGA\")     \n",
       " (1.0,\"GCATCGGC\")     "
      ]
     },
     "execution_count": 77,
     "metadata": {},
     "output_type": "execute_result"
    }
   ],
   "source": [
    "likely_real = []\n",
    "tag_to_prob = Dict()\n",
    "for (observed_index, tuple) in enumerate(most_likely_real_for_each_obs)\n",
    "    prob = tuple[2]\n",
    "    if tag_counts[index_to_tag[observed_index]] == 1\n",
    "        prob = 0\n",
    "    end\n",
    "    if observed_index != tuple[1]\n",
    "        prob = 0\n",
    "    end\n",
    "    tag_to_prob[index_to_tag[observed_index]] = prob\n",
    "    push!(likely_real, (prob, index_to_tag[observed_index]))\n",
    "end\n",
    "sort!(likely_real)"
   ]
  },
  {
   "cell_type": "code",
   "execution_count": 78,
   "metadata": {
    "collapsed": false
   },
   "outputs": [
    {
     "data": {
      "text/plain": [
       "2610-element Array{Any,1}:\n",
       " (1,\"AAAAGCTG\")   \n",
       " (1,\"AAAAGGAGC\")  \n",
       " (1,\"AAAAGTAAG\")  \n",
       " (1,\"AAAATTGG\")   \n",
       " (1,\"AAACAGGGG\")  \n",
       " (1,\"AAACAGTTC\")  \n",
       " (1,\"AAACCCA\")    \n",
       " (1,\"AAACGTCGG\")  \n",
       " (1,\"AAACTGTCA\")  \n",
       " (1,\"AAAGAAA\")    \n",
       " (1,\"AAAGAAAC\")   \n",
       " (1,\"AAAGAACT\")   \n",
       " (1,\"AAAGAAG\")    \n",
       " ⋮                \n",
       " (1189,\"CGGATGGT\")\n",
       " (1191,\"AGAAGTGT\")\n",
       " (1216,\"TGTTATGT\")\n",
       " (1242,\"AGATAAGG\")\n",
       " (2274,\"AGATCCCG\")\n",
       " (2320,\"GTCGCGCT\")\n",
       " (2354,\"TCGATCAA\")\n",
       " (2360,\"TTTGCTTA\")\n",
       " (2406,\"GTGGATGT\")\n",
       " (2406,\"GTTTCCGC\")\n",
       " (4731,\"ACTCCTCG\")\n",
       " (4736,\"GTAGTCCT\")"
      ]
     },
     "execution_count": 78,
     "metadata": {},
     "output_type": "execute_result"
    }
   ],
   "source": [
    "count_tag = []\n",
    "for tag in keys(tag_counts)\n",
    "    push!(count_tag, (tag_counts[tag], tag))\n",
    "end\n",
    "sort!(count_tag)"
   ]
  },
  {
   "cell_type": "code",
   "execution_count": 79,
   "metadata": {
    "collapsed": false
   },
   "outputs": [
    {
     "name": "stderr",
     "output_type": "stream",
     "text": [
      "WARNING: Method definition false_pos_neg_graph(Any, Any) in module Main at In[46]:2 overwritten at In[79]:2.\n"
     ]
    },
    {
     "data": {
      "text/plain": [
       "false_pos_neg_graph (generic function with 1 method)"
      ]
     },
     "execution_count": 79,
     "metadata": {},
     "output_type": "execute_result"
    }
   ],
   "source": [
    "function false_pos_neg_graph(pairs, real_tags)\n",
    "    false_positive_count = 0\n",
    "    true_positive_count = 0\n",
    "    for (value, tag) in pairs\n",
    "        if (tag in real_tags)\n",
    "            true_positive_count += 1\n",
    "        else\n",
    "            false_positive_count += 1\n",
    "        end\n",
    "    end\n",
    "    x_values = [false_positive_count]\n",
    "    y_values = [true_positive_count]\n",
    "    for (value, tag) in pairs\n",
    "        if tag in real_tags\n",
    "            true_positive_count -= 1\n",
    "        else\n",
    "            false_positive_count -= 1\n",
    "        end\n",
    "        push!(x_values, false_positive_count)\n",
    "        push!(y_values, true_positive_count)\n",
    "    end\n",
    "    return x_values, y_values\n",
    "end"
   ]
  },
  {
   "cell_type": "code",
   "execution_count": 80,
   "metadata": {
    "collapsed": false
   },
   "outputs": [
    {
     "name": "stderr",
     "output_type": "stream",
     "text": [
      "WARNING: Method definition filter_out_same_values(Any, Any) in module Main at In[47]:2 overwritten at In[80]:2.\n"
     ]
    },
    {
     "data": {
      "text/plain": [
       "filter_out_same_values (generic function with 1 method)"
      ]
     },
     "execution_count": 80,
     "metadata": {},
     "output_type": "execute_result"
    }
   ],
   "source": [
    "function filter_out_same_values(sorted_values, dependant_variable)\n",
    "    out = [dependant_variable[1]]\n",
    "    last_value = 0\n",
    "    for i in 1:length(sorted_values)\n",
    "        if sorted_values[i] > last_value\n",
    "            push!(out, dependant_variable[i+1])\n",
    "            last_value = sorted_values[i]\n",
    "        end\n",
    "    end\n",
    "    return out\n",
    "end"
   ]
  },
  {
   "cell_type": "code",
   "execution_count": 81,
   "metadata": {
    "collapsed": false
   },
   "outputs": [],
   "source": [
    "if !isdefined(:x_us_recurse)\n",
    "    x_us_recurse = Dict{Int64, Array{Int64,1}}()\n",
    "    y_us_recurse =  Dict{Int64, Array{Int64,1}}()\n",
    "end"
   ]
  },
  {
   "cell_type": "code",
   "execution_count": 83,
   "metadata": {
    "collapsed": false
   },
   "outputs": [],
   "source": [
    "x_us, y_us = false_pos_neg_graph(likely_real, real_tags) \n",
    "x_us = filter_out_same_values([x[1] for x in likely_real], x_us)\n",
    "y_us = filter_out_same_values([x[1] for x in likely_real], y_us)\n",
    "short_likely_real = vcat([0.], [x[1] for x in likely_real])\n",
    "short_likely_real = filter_out_same_values([x[1] for x in likely_real], short_likely_real)\n",
    "\n",
    "x_us_recurse[recurse] = x_us\n",
    "y_us_recurse[recurse] = y_us;"
   ]
  },
  {
   "cell_type": "code",
   "execution_count": 85,
   "metadata": {
    "collapsed": false
   },
   "outputs": [
    {
     "data": {
      "image/png": "[encoded data removed]",
      "text/plain": [
       "PyPlot.Figure(PyObject <matplotlib.figure.Figure object at 0x324589790>)"
      ]
     },
     "metadata": {},
     "output_type": "display_data"
    },
    {
     "name": "stdout",
     "output_type": "stream",
     "text": [
      "0.9 - 99 false positive, 814 true positive (out of 993)\n",
      "0.95 - 47 false positive, 813 true positive (out of 993)\n",
      "0.99 - 14 false positive, 798 true positive (out of 993)\n",
      "0.995 - 6 false positive, 784 true positive (out of 993)\n"
     ]
    }
   ],
   "source": [
    "fig, ax = subplots()\n",
    "\n",
    "# Ben's threshold points\n",
    "threshold = [.9, .95, .99, .995, 100]\n",
    "threshold_i = 1\n",
    "for i in 1:length(short_likely_real)\n",
    "    if short_likely_real[i][1] > threshold[threshold_i]\n",
    "        ax[:plot](x_us[i], y_us[i], \".\", color=\"black\", )\n",
    "        println(\"$(threshold[threshold_i]) - $(x_us[i]) false positive, $(y_us[i]) true positive (out of $(length(generated_tag_counts)))\")\n",
    "        threshold_i += 1\n",
    "    end\n",
    "end\n",
    "\n",
    "for recurse_level in keys(x_us_recurse)\n",
    "    ax[:plot](x_us_recurse[recurse_level], y_us_recurse[recurse_level], linewidth=2, label=\"LDA recurse=$(recurse_level)\", alpha=0.4)\n",
    "end\n",
    "\n",
    "# Ron's \n",
    "x_ron, y_ron = false_pos_neg_graph(count_tag, real_tags)\n",
    "threshold = [1, 2, 3, 4, 5, 10, 15, 20, 10000000]\n",
    "threshold_i = 1\n",
    "for i in 1:length(count_tag)\n",
    "    if count_tag[i][1] > threshold[threshold_i]\n",
    "        ax[:plot](x_ron[i+1], y_ron[i+1], \".\", color=\"black\")\n",
    "        threshold_i += 1\n",
    "    end\n",
    "end\n",
    "x_ron = filter_out_same_values([x[1] for x in count_tag], x_ron)\n",
    "y_ron = filter_out_same_values([x[1] for x in count_tag], y_ron)\n",
    "ax[:plot](x_ron, y_ron, linewidth=2, color=\"black\", label=\"Universal Threshold\", alpha=0.4)\n",
    "\n",
    "ax[:legend](loc=4)\n",
    "xlim([0,50])\n",
    "ylim([700,850])\n",
    "xlabel(\"false positives\")\n",
    "ylabel(\"true positives\");\n"
   ]
  },
  {
   "cell_type": "code",
   "execution_count": 112,
   "metadata": {
    "collapsed": true
   },
   "outputs": [],
   "source": [
    "threshold = 0.9\n",
    "included = Set()\n",
    "excluded = Set()\n",
    "for (prob, tag) in likely_real\n",
    "    if prob >= threshold\n",
    "        push!(included, tag)\n",
    "    else\n",
    "        push!(excluded, tag)\n",
    "    end\n",
    "end"
   ]
  },
  {
   "cell_type": "code",
   "execution_count": 113,
   "metadata": {
    "collapsed": false
   },
   "outputs": [
    {
     "name": "stdout",
     "output_type": "stream",
     "text": [
      "Of the 993 original tags, 814 were recovered\n"
     ]
    }
   ],
   "source": [
    "# Of the initial number of tags, how many are recovered?\n",
    "recovered_tags = 0\n",
    "for generated_tag in keys(generated_tag_counts)\n",
    "    if generated_tag in included\n",
    "        recovered_tags += 1\n",
    "    end\n",
    "end\n",
    "println(\"Of the $(length(generated_tag_counts)) original tags, $(recovered_tags) were recovered\")"
   ]
  },
  {
   "cell_type": "code",
   "execution_count": 114,
   "metadata": {
    "collapsed": false
   },
   "outputs": [
    {
     "name": "stdout",
     "output_type": "stream",
     "text": [
      "ACTCATCG - 6 generated copies - 6 seen copies - 0.75189257 probability of being real\n"
     ]
    },
    {
     "data": {
      "image/png": "[encoded data removed]",
      "text/plain": [
       "PyPlot.Figure(PyObject <matplotlib.figure.Figure object at 0x32132a790>)"
      ]
     },
     "metadata": {},
     "output_type": "display_data"
    },
    {
     "name": "stdout",
     "output_type": "stream",
     "text": [
      "\tACTCATCG - 6 seen copies - 0.96069306 chance of indel\n",
      "\tACTCTCG - 15 seen copies - 0.0019410417 chance of indel\n",
      "\tACTCACG - 1 seen copies - 0.0019410417 chance of indel\n",
      "\tACTCCTCG - 4731 seen copies - 0.00032634218 chance of indel\n",
      "\tACTCTTCG - 5 seen copies - 0.00032634215 chance of indel\n",
      "\tACTCGTCG - 2 seen copies - 0.00032434214 chance of indel\n",
      "\tACTACTCG - 1 seen copies - 4.2222223f-6 chance of indel\n",
      "\tACTTCTCG - 1 seen copies - 4.2222223f-6 chance of indel\n",
      "\tAACTCACG - 1 seen copies - 4.0f-6 chance of indel\n",
      "\tACTCCCG - 3 seen copies - 2.6666667f-6 chance of indel\n",
      "\tACCCTCG - 6 seen copies - 2.6666667f-6 chance of indel\n",
      "\tACTGCTCG - 3 seen copies - 2.2222223f-6 chance of indel\n",
      "\tACTCACGA - 160 seen copies - 2.0f-6 chance of indel\n",
      "\tGACTCATG - 1 seen copies - 2.0f-6 chance of indel\n",
      "\tCTCCTCG - 10 seen copies - 1.3333333f-6 chance of indel\n",
      "\tATCCTCG - 3 seen copies - 1.3333333f-6 chance of indel\n",
      "\tACTCTTC - 2 seen copies - 1.3333333f-6 chance of indel\n",
      "\tACTCCTTCG - 4 seen copies - 1.3333333f-6 chance of indel\n",
      "\tACTCCTC - 6 seen copies - 1.3333333f-6 chance of indel\n",
      "\tCCTCTCG - 2 seen copies - 1.3333333f-6 chance of indel\n",
      "\tACTCCTG - 7 seen copies - 1.3333333f-6 chance of indel\n",
      "\tACTCCCTCG - 8 seen copies - 1.0f-6 chance of indel\n",
      "\tACTTCCTCG - 2 seen copies - 6.6666666f-7 chance of indel\n",
      "\tACTCCTCCG - 3 seen copies - 6.6666666f-7 chance of indel\n",
      "\tACTCCTCGG - 3 seen copies - 6.6666666f-7 chance of indel\n",
      "\tAACTCCTCG - 6 seen copies - 6.6666666f-7 chance of indel\n",
      "\tACCTCCTCG - 1 seen copies - 6.6666666f-7 chance of indel\n",
      "\tACTCCTCGA - 3 seen copies - 3.3333333f-7 chance of indel\n",
      "\tACTCCTCA - 3 seen copies - 2.2222223f-7 chance of indel\n",
      "\tACTCCTGG - 1 seen copies - 2.2222223f-7 chance of indel\n",
      "\tACGCCTCG - 2 seen copies - 2.2222223f-7 chance of indel\n",
      "\tACGCATTG - 13 seen copies - 2.2222223f-7 chance of indel\n",
      "\tACTCCGCG - 1 seen copies - 2.2222223f-7 chance of indel\n",
      "\tACTCCTAG - 1 seen copies - 2.2222223f-7 chance of indel\n",
      "\tAATCCTCG - 1 seen copies - 2.2222223f-7 chance of indel\n",
      "\tACCCCTCG - 3 seen copies - 2.2222223f-7 chance of indel\n",
      "\tACTCCTTG - 2 seen copies - 2.2222223f-7 chance of indel\n",
      "\tCCTCCTCG - 2 seen copies - 2.2222223f-7 chance of indel\n",
      "\tAGTCCTCG - 3 seen copies - 2.2222223f-7 chance of indel\n",
      "\tTCTCCTCG - 1 seen copies - 2.2222223f-7 chance of indel\n",
      "\tACACATAG - 40 seen copies - 2.2222223f-7 chance of indel\n",
      "\tACTCCTCC - 1 seen copies - 2.2222223f-7 chance of indel\n"
     ]
    }
   ],
   "source": [
    "# Of the unrecovered tags, how many copies were generated\n",
    "unrecovered_copy_count = []\n",
    "but = \"None\"\n",
    "buts = 0\n",
    "for generated_tag in keys(generated_tag_counts)\n",
    "    if !(generated_tag in included)\n",
    "        push!(unrecovered_copy_count, generated_tag_counts[generated_tag])\n",
    "        if generated_tag_counts[generated_tag] > buts\n",
    "            buts = generated_tag_counts[generated_tag]\n",
    "            but = generated_tag\n",
    "        end\n",
    "    end\n",
    "end\n",
    "fig, ax = subplots()\n",
    "ax[:hist](unrecovered_copy_count, 50);\n",
    "println(\"$(but) - $(buts) generated copies - $(tag_counts[but]) seen copies - $(tag_to_prob[but]) probability of being real\")\n",
    "for (index, prob) in sort!(probabilities_array[tag_to_index[but]], by=x->-x[2])\n",
    "    println(\"\\t$(index_to_tag[index]) - $(tag_counts[index_to_tag[index]]) seen copies - $(prob) chance of indel\")\n",
    "end\n"
   ]
  },
  {
   "cell_type": "code",
   "execution_count": 115,
   "metadata": {
    "collapsed": false
   },
   "outputs": [
    {
     "name": "stdout",
     "output_type": "stream",
     "text": [
      "Of the 914 recovered tags, 814 were valid, with a false positive rate of 10.9409%\n"
     ]
    }
   ],
   "source": [
    "# Of the recovered tags, how many are valid?\n",
    "valid_tags = 0\n",
    "for recovered_tag in included\n",
    "    if recovered_tag in keys(generated_tag_counts)\n",
    "        valid_tags += 1\n",
    "    end\n",
    "end\n",
    "println(\"Of the $(length(included)) recovered tags, $(valid_tags) were valid, with a false positive rate of $(round((length(included)-valid_tags)/length(included)*100,4))%\")"
   ]
  },
  {
   "cell_type": "code",
   "execution_count": 116,
   "metadata": {
    "collapsed": false
   },
   "outputs": [
    {
     "data": {
      "image/png": "[encoded data removed]",
      "text/plain": [
       "PyPlot.Figure(PyObject <matplotlib.figure.Figure object at 0x321312c10>)"
      ]
     },
     "metadata": {},
     "output_type": "display_data"
    }
   ],
   "source": [
    "# Of the validly recovered tags, how many of the original sequences are recovered\n",
    "recovered = []\n",
    "out_of = []\n",
    "for recovered_tag in included\n",
    "    if recovered_tag in keys(generated_tag_counts)\n",
    "        matching = 0\n",
    "        for sequence in tag_dict[recovered_tag]\n",
    "            real_label = split(sequence[2][1], \"_\")[3]\n",
    "            if real_label == recovered_tag\n",
    "                matching += 1\n",
    "            end\n",
    "        end\n",
    "        push!(recovered, matching)\n",
    "        push!(out_of, generated_tag_counts[recovered_tag])\n",
    "    end\n",
    "end\n",
    "scatter(recovered, out_of, alpha=0.5);"
   ]
  },
  {
   "cell_type": "code",
   "execution_count": 117,
   "metadata": {
    "collapsed": false
   },
   "outputs": [
    {
     "name": "stdout",
     "output_type": "stream",
     "text": [
      "1 out of 45 mismatched tags for AGAGTTGA\n",
      "1 out of 82 mismatched tags for TAGTGGAC\n",
      "1 out of 20 mismatched tags for TATGGGCT\n",
      "1 out of 2 mismatched tags for GTAAGTGA\n",
      "2 out of 9 mismatched tags for AGCTAAGG\n",
      "1 out of 42 mismatched tags for ACGCTACA\n",
      "1 out of 11 mismatched tags for TAATCTTC\n",
      "1 out of 25 mismatched tags for TAATTAGT\n",
      "1 out of 4 mismatched tags for CAATGACC\n",
      "1 out of 8 mismatched tags for TTCGGGGG\n",
      "1 out of 10 mismatched tags for TCGGTCAA\n",
      "1 out of 2 mismatched tags for TAACGGAG\n"
     ]
    }
   ],
   "source": [
    "# Of the validly recovered tags, how many mismatched sequences are included\n",
    "for recovered_tag in included\n",
    "    if recovered_tag in keys(generated_tag_counts)\n",
    "        non_matching = 0\n",
    "        for sequence in tag_dict[recovered_tag]\n",
    "            real_label = split(sequence[2][1], \"_\")[3]\n",
    "            if real_label != recovered_tag\n",
    "                non_matching += 1\n",
    "            end\n",
    "        end\n",
    "        if non_matching > 0\n",
    "            println(\"$(non_matching) out of $(length(tag_dict[recovered_tag])) mismatched tags for $(recovered_tag)\")\n",
    "        end\n",
    "    end\n",
    "end"
   ]
  },
  {
   "cell_type": "markdown",
   "metadata": {},
   "source": [
    "# Getting consensuses"
   ]
  },
  {
   "cell_type": "markdown",
   "metadata": {
    "collapsed": false
   },
   "source": [
    "edit_distances = []\n",
    "number_of_copies = []\n",
    "consensuses = []\n",
    "for recovered_tag in included\n",
    "    if !(recovered_tag in keys(tag_to_original_sequence))\n",
    "        println(\"$(recovered_tag) not actually an original tag\")\n",
    "        continue\n",
    "    end\n",
    "    sequences = map(x -> x[2][2], tag_dict[recovered_tag])\n",
    "    consensus_seq = consensusSeq(sequences)\n",
    "    push!(consensuses, consensus_seq)\n",
    "    original = tag_to_original_sequence[recovered_tag]\n",
    "    distance = kmerSeededEditDist(consensus_seq, original)\n",
    "    push!(edit_distances, distance)\n",
    "    push!(number_of_copies, generated_tag_counts[recovered_tag])\n",
    "    #println(\"$(recovered_tag) recovered with $((length(original) - distance) / length(original) * 100)% accuracy\")\n",
    "end"
   ]
  },
  {
   "cell_type": "markdown",
   "metadata": {},
   "source": [
    "sum(edit_distances)"
   ]
  },
  {
   "cell_type": "markdown",
   "metadata": {
    "collapsed": false
   },
   "source": [
    "scatter(log(Array{Float64}(number_of_copies))+randn(length(edit_distances))*0.1, edit_distances+randn(length(edit_distances))*0.1, alpha = 0.1);"
   ]
  },
  {
   "cell_type": "code",
   "execution_count": null,
   "metadata": {
    "collapsed": true
   },
   "outputs": [],
   "source": []
  }
 ],
 "metadata": {
  "kernelspec": {
   "display_name": "Julia 0.5.0",
   "language": "julia",
   "name": "julia-0.5"
  },
  "language_info": {
   "file_extension": ".jl",
   "mimetype": "application/julia",
   "name": "julia",
   "version": "0.5.0"
  }
 },
 "nbformat": 4,
 "nbformat_minor": 0
}
