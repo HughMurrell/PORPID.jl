{
 "cells": [
  {
   "cell_type": "code",
   "execution_count": 1,
   "metadata": {},
   "outputs": [
    {
     "name": "stderr",
     "output_type": "stream",
     "text": [
      "WARNING: requiring \"NGSutilsFuncs\" in module \"Main\" did not define a corresponding module.\n"
     ]
    }
   ],
   "source": [
    "# Importing stuff\n",
    "push!(LOAD_PATH, \"/Users/robert/bio/BeNGS\")\n",
    "using Bio.Seq\n",
    "using NGSutilsFuncs\n",
    "using Distributions\n",
    "using HMMIDMethods\n",
    "using HMMIDConfig\n",
    "using States\n",
    "using Observations\n",
    "using NeedlemanWunsch\n",
    "using PyPlot\n",
    "using StatsBase"
   ]
  },
  {
   "cell_type": "code",
   "execution_count": 2,
   "metadata": {},
   "outputs": [
    {
     "name": "stdout",
     "output_type": "stream",
     "text": [
      "Current path: /Users/robert/bio/hmmids"
     ]
    },
    {
     "data": {
      "text/plain": [
       "\"./\""
      ]
     },
     "execution_count": 2,
     "metadata": {},
     "output_type": "execute_result"
    }
   ],
   "source": [
    "# Where is the HMMIDs directory relative to where you're running your julia notebook?\n",
    "print(\"Current path: $(pwd())\")\n",
    "path_to_hmmids = \"./\""
   ]
  },
  {
   "cell_type": "markdown",
   "metadata": {},
   "source": [
    "# Making a simulated dataset"
   ]
  },
  {
   "cell_type": "code",
   "execution_count": 3,
   "metadata": {},
   "outputs": [
    {
     "data": {
      "text/html": [
       "1000"
      ],
      "text/plain": [
       "1000"
      ]
     },
     "execution_count": 3,
     "metadata": {},
     "output_type": "execute_result"
    }
   ],
   "source": [
    "srand(1234)\n",
    "sample_size = 1000"
   ]
  },
  {
   "cell_type": "code",
   "execution_count": 4,
   "metadata": {},
   "outputs": [],
   "source": [
    "sequences_in_fasta = []\n",
    "for sequence in open(FASTAReader, \"$(path_to_hmmids)data/P018_HQCS_short.fasta\")\n",
    "    push!(sequences_in_fasta, (sequence.name, replace(string(sequence.seq), \"-\", \"\")))\n",
    "end"
   ]
  },
  {
   "cell_type": "code",
   "execution_count": 5,
   "metadata": {
    "collapsed": true
   },
   "outputs": [],
   "source": [
    "number_of_reads = 100000\n",
    "original_templates = sample_size\n",
    "pcr_cycles = 45\n",
    "double = log(2)\n",
    "pcr_efficiency = 0.7\n",
    "dist = Binomial(pcr_cycles, pcr_efficiency)\n",
    "molecules = e.^(rand(dist, (original_templates)) * double)\n",
    "template_count = zeros(Int64, original_templates)\n",
    "for molecule in wsample(1:original_templates, molecules, number_of_reads)\n",
    "    template_count[molecule] += 1\n",
    "end;\n",
    "#bar(1:original_templates, template_count);\n",
    "\n",
    "#g = Geometric(1/51)\n",
    "#template_count = rand(g, sample_size)"
   ]
  },
  {
   "cell_type": "code",
   "execution_count": 6,
   "metadata": {},
   "outputs": [
    {
     "name": "stdout",
     "output_type": "stream",
     "text": [
      " 12.629088 seconds (108.14 M allocations: 3.001 GB, 12.19% gc time)\n"
     ]
    }
   ],
   "source": [
    "# Generating our dataset using our samples as seeds\n",
    "primer_before_pid = \"GATTACA\"\n",
    "pid_length = 8\n",
    "primer_after_pid = \"ACGTACGTGGAAGACTTA\"\n",
    "i = 1\n",
    "true_sequences = Array{String,1}()\n",
    "generated_sequences = Array{Bio.Seq.SeqRecord{Bio.Seq.BioSequence{Bio.Seq.DNAAlphabet{4}},Bio.Seq.FASTQMetadata}}(sum(template_count))\n",
    "generated_tag_counts = Dict()\n",
    "tag_to_original_sequence = Dict()\n",
    "generated_index = 1\n",
    "generated_qualities = []\n",
    "@time for k in template_count\n",
    "    sequence = sample(sequences_in_fasta)\n",
    "    pid = join(rand([\"A\", \"C\", \"G\", \"T\"], pid_length))\n",
    "    template = (\"$(primer_before_pid)$(pid)$(primer_after_pid)$(sequence[2])\")\n",
    "    push!(true_sequences, template)\n",
    "    generated = envPBseqSim(template, k, withQVs=true)\n",
    "    for j in 1:length(generated)\n",
    "        label = \"PID_$(i)_$(pid)_$(j)_of_$(k)\"\n",
    "        sequence = Bio.Seq.SeqRecord(label, DNASequence(generated[j][1]), Bio.Seq.FASTQMetadata(\"\", map(prob -> Int8(round(-10*log10(prob))), generated[j][2])))\n",
    "        generated_sequences[generated_index] = sequence\n",
    "        push!(generated_qualities, generated[j][2])\n",
    "        generated_index += 1\n",
    "        if generated_index % 50000 == 0\n",
    "            try\n",
    "                run(`say -r 600 Generated $(generated_index) sequences`)\n",
    "            end\n",
    "        end\n",
    "    end\n",
    "    generated_tag_counts[pid] = k\n",
    "    tag_to_original_sequence[pid] = template\n",
    "    i += 1\n",
    "end\n",
    "#shuffle!(generated_sequences);"
   ]
  },
  {
   "cell_type": "code",
   "execution_count": 7,
   "metadata": {},
   "outputs": [
    {
     "name": "stdout",
     "output_type": "stream",
     "text": [
      "0 duplicates\n"
     ]
    }
   ],
   "source": [
    "println(\"$(length(generated_tag_counts) - length(Set(generated_tag_counts))) duplicates\")"
   ]
  },
  {
   "cell_type": "code",
   "execution_count": 8,
   "metadata": {},
   "outputs": [
    {
     "data": {
      "image/png": "[encoded data removed]",
      "text/plain": [
       "PyPlot.Figure(PyObject <matplotlib.figure.Figure object at 0x312e2fcd0>)"
      ]
     },
     "metadata": {},
     "output_type": "display_data"
    }
   ],
   "source": [
    "fig, ax = subplots()\n",
    "ax[:hist](collect(values(generated_tag_counts)), 50);"
   ]
  },
  {
   "cell_type": "markdown",
   "metadata": {},
   "source": [
    "# Running HMMIDS on Simulation Data"
   ]
  },
  {
   "cell_type": "code",
   "execution_count": 9,
   "metadata": {},
   "outputs": [
    {
     "data": {
      "text/plain": [
       "1-element Array{HMMIDConfig.Template,1}:\n",
       " HMMIDConfig.Template(\"Reference\",States.AbstractState[States.StartingState(),States.ObservableState(DNA_G),States.ObservableState(DNA_A),States.ObservableState(DNA_T),States.ObservableState(DNA_T),States.ObservableState(DNA_A),States.ObservableState(DNA_C),States.ObservableState(DNA_A),States.BarcodeState(DNA_N),States.BarcodeState(DNA_N)  …  States.ObservableState(DNA_G),States.ObservableState(DNA_A),States.ObservableState(DNA_A),States.ObservableState(DNA_G),States.ObservableState(DNA_A),States.ObservableState(DNA_C),States.ObservableState(DNA_T),States.ObservableState(DNA_T),States.ObservableState(DNA_A),States.RepeatingAnyState(DNA_N)])"
      ]
     },
     "execution_count": 9,
     "metadata": {},
     "output_type": "execute_result"
    }
   ],
   "source": [
    "cfg = Configuration()\n",
    "cfg.start_inclusive = 1\n",
    "cfg.end_inclusive = length(primer_before_pid) + pid_length + length(primer_after_pid) + 5\n",
    "cfg.try_reverse_complement = false\n",
    "push!(cfg.templates, Template(\"Reference\", \"$(primer_before_pid)$(repeat(\"n\", pid_length))$(primer_after_pid)*\"))"
   ]
  },
  {
   "cell_type": "code",
   "execution_count": 10,
   "metadata": {},
   "outputs": [
    {
     "name": "stdout",
     "output_type": "stream",
     "text": [
      " 35.410576 seconds (510.96 M allocations: 9.270 GB, 6.62% gc time)\n"
     ]
    }
   ],
   "source": [
    "tag_dict = Dict()\n",
    "\n",
    "# This is the slow bit\n",
    "@time for sequence in generated_sequences\n",
    "    seq, quality = slice_sequence(sequence, cfg.start_inclusive, -1, cfg.end_inclusive, -1, false)\n",
    "    \n",
    "    score, tag, errors = NeedlemanWunsch.extract_tag(seq, quality, cfg.templates[1].reference)\n",
    "    \n",
    "    tag = length(tag) > 0 ? string(tag) : \"NO_TAG\"\n",
    "    tag = errors <= cfg.max_allowed_errors ? tag : \"REJECTS\"\n",
    "    if !haskey(tag_dict, tag)\n",
    "        tag_dict[tag] = []\n",
    "    end\n",
    "    push!(tag_dict[tag], (score, sequence))\n",
    "end"
   ]
  },
  {
   "cell_type": "code",
   "execution_count": 11,
   "metadata": {},
   "outputs": [],
   "source": [
    "real_tags = Set()\n",
    "observed_tags = Set()\n",
    "for observed_label in keys(tag_dict)\n",
    "    for (score, sequence) in tag_dict[observed_label]\n",
    "        real_label = split(sequence.name, \"_\")[3]\n",
    "        push!(real_tags, real_label)\n",
    "        push!(observed_tags, observed_label)\n",
    "    end\n",
    "end"
   ]
  },
  {
   "cell_type": "code",
   "execution_count": 12,
   "metadata": {
    "collapsed": true
   },
   "outputs": [],
   "source": [
    "tag_counts = Dict() \n",
    "tags = []\n",
    "index = 1\n",
    "for tag in keys(tag_dict)\n",
    "    push!(tags, tag)\n",
    "    tag_counts[tag] = length(tag_dict[tag])\n",
    "end"
   ]
  },
  {
   "cell_type": "markdown",
   "metadata": {},
   "source": [
    "# Resolving which tags are real"
   ]
  },
  {
   "cell_type": "code",
   "execution_count": 13,
   "metadata": {},
   "outputs": [
    {
     "name": "stdout",
     "output_type": "stream",
     "text": [
      " 10.710648 seconds (76.20 M allocations: 3.396 GB, 24.42% gc time)\n"
     ]
    }
   ],
   "source": [
    "using Resolving\n",
    "recurse = 1\n",
    "pacbio_error_rate = 0.001\n",
    "tag_to_index, index_to_tag = tag_index_mapping(tags)\n",
    "@time probabilities_array = prob_observed_tags_given_reals(tag_to_index, Resolving.PacBioErrorModel(pacbio_error_rate), recurse)\n",
    "indexed_counts = index_counts(tag_counts, tag_to_index);"
   ]
  },
  {
   "cell_type": "code",
   "execution_count": 14,
   "metadata": {},
   "outputs": [],
   "source": [
    "using CustomLDA\n",
    "dirichlet_concentration = 0.5\n",
    "most_likely_real_for_each_obs = CustomLDA.LDA(probabilities_array, indexed_counts, concentration=dirichlet_concentration);"
   ]
  },
  {
   "cell_type": "code",
   "execution_count": 15,
   "metadata": {},
   "outputs": [
    {
     "data": {
      "text/plain": [
       "2571-element Array{Any,1}:\n",
       " (0,\"AAAACCCA\")  \n",
       " (0,\"AAAAGAAA\")  \n",
       " (0,\"AAAAGAAG\")  \n",
       " (0,\"AAAAGAGC\")  \n",
       " (0,\"AAAAGCTTG\") \n",
       " (0,\"AAAAGGGG\")  \n",
       " (0,\"AAAAGTAG\")  \n",
       " (0,\"AAAAGTGA\")  \n",
       " (0,\"AAAAGTTG\")  \n",
       " (0,\"AAAATAGG\")  \n",
       " (0,\"AAAATTGG\")  \n",
       " (0,\"AAACAGGG\")  \n",
       " (0,\"AAACAGGGG\") \n",
       " ⋮               \n",
       " (1.0,\"CATGCGCT\")\n",
       " (1.0,\"CTACACTG\")\n",
       " (1.0,\"GATATCAA\")\n",
       " (1.0,\"GCAGTGGA\")\n",
       " (1.0,\"GCATCGGC\")\n",
       " (1.0,\"GCCGACGA\")\n",
       " (1.0,\"GGGAAGCG\")\n",
       " (1.0,\"TACCGCTA\")\n",
       " (1.0,\"TCTGCAGT\")\n",
       " (1.0,\"TTGATGGA\")\n",
       " (1.0,\"TTGTCCGG\")\n",
       " (1.0,\"TTTTTGAC\")"
      ]
     },
     "execution_count": 15,
     "metadata": {},
     "output_type": "execute_result"
    }
   ],
   "source": [
    "minimum_bin_size = 1\n",
    "likely_real = []\n",
    "tag_to_prob = Dict()\n",
    "for (observed_index, tuple) in enumerate(most_likely_real_for_each_obs)\n",
    "    prob = tuple[2]\n",
    "    if tag_counts[index_to_tag[observed_index]] <= minimum_bin_size\n",
    "        prob = 0\n",
    "    end\n",
    "    if observed_index != tuple[1]\n",
    "        prob = 0\n",
    "    end\n",
    "    tag_to_prob[index_to_tag[observed_index]] = prob\n",
    "    push!(likely_real, (prob, index_to_tag[observed_index]))\n",
    "end\n",
    "sort!(likely_real)"
   ]
  },
  {
   "cell_type": "code",
   "execution_count": 16,
   "metadata": {},
   "outputs": [
    {
     "data": {
      "text/plain": [
       "2571-element Array{Any,1}:\n",
       " (1,\"AAAACCCA\")   \n",
       " (1,\"AAAAGAAA\")   \n",
       " (1,\"AAAAGAAG\")   \n",
       " (1,\"AAAAGAGC\")   \n",
       " (1,\"AAAAGCTTG\")  \n",
       " (1,\"AAAAGGGG\")   \n",
       " (1,\"AAAAGTAG\")   \n",
       " (1,\"AAAAGTGA\")   \n",
       " (1,\"AAAAGTTG\")   \n",
       " (1,\"AAAATAGG\")   \n",
       " (1,\"AAAATTGG\")   \n",
       " (1,\"AAACAGGG\")   \n",
       " (1,\"AAACAGGGG\")  \n",
       " ⋮                \n",
       " (1194,\"AGAAGTGT\")\n",
       " (1195,\"ACGGACGG\")\n",
       " (1216,\"TGTTATGT\")\n",
       " (1245,\"AGATAAGG\")\n",
       " (2283,\"AGATCCCG\")\n",
       " (2320,\"GTCGCGCT\")\n",
       " (2357,\"TCGATCAA\")\n",
       " (2363,\"TTTGCTTA\")\n",
       " (2404,\"GTGGATGT\")\n",
       " (2405,\"GTTTCCGC\")\n",
       " (4736,\"GTAGTCCT\")\n",
       " (4740,\"ACTCCTCG\")"
      ]
     },
     "execution_count": 16,
     "metadata": {},
     "output_type": "execute_result"
    }
   ],
   "source": [
    "count_tag = []\n",
    "for tag in keys(tag_counts)\n",
    "    push!(count_tag, (tag_counts[tag], tag))\n",
    "end\n",
    "sort!(count_tag)"
   ]
  },
  {
   "cell_type": "code",
   "execution_count": 17,
   "metadata": {},
   "outputs": [
    {
     "data": {
      "text/plain": [
       "false_pos_neg_graph (generic function with 1 method)"
      ]
     },
     "execution_count": 17,
     "metadata": {},
     "output_type": "execute_result"
    }
   ],
   "source": [
    "function false_pos_neg_graph(pairs, real_tags)\n",
    "    false_positive_count = 0\n",
    "    true_positive_count = 0\n",
    "    for (value, tag) in pairs\n",
    "        if (tag in real_tags)\n",
    "            true_positive_count += 1\n",
    "        else\n",
    "            false_positive_count += 1\n",
    "        end\n",
    "    end\n",
    "    x_values = [false_positive_count]\n",
    "    y_values = [true_positive_count]\n",
    "    for (value, tag) in pairs\n",
    "        if tag in real_tags\n",
    "            true_positive_count -= 1\n",
    "        else\n",
    "            false_positive_count -= 1\n",
    "        end\n",
    "        push!(x_values, false_positive_count)\n",
    "        push!(y_values, true_positive_count)\n",
    "    end\n",
    "    return x_values, y_values\n",
    "end"
   ]
  },
  {
   "cell_type": "code",
   "execution_count": 18,
   "metadata": {},
   "outputs": [
    {
     "data": {
      "text/plain": [
       "filter_out_same_values (generic function with 1 method)"
      ]
     },
     "execution_count": 18,
     "metadata": {},
     "output_type": "execute_result"
    }
   ],
   "source": [
    "function filter_out_same_values(sorted_values, dependant_variable)\n",
    "    out = [dependant_variable[1]]\n",
    "    last_value = 0\n",
    "    for i in 1:length(sorted_values)\n",
    "        if sorted_values[i] > last_value\n",
    "            push!(out, dependant_variable[i+1])\n",
    "            last_value = sorted_values[i]\n",
    "        end\n",
    "    end\n",
    "    return out\n",
    "end"
   ]
  },
  {
   "cell_type": "code",
   "execution_count": 19,
   "metadata": {
    "collapsed": true
   },
   "outputs": [],
   "source": [
    "x_us, y_us = false_pos_neg_graph(likely_real, real_tags) \n",
    "x_us = filter_out_same_values([x[1] for x in likely_real], x_us)\n",
    "y_us = filter_out_same_values([x[1] for x in likely_real], y_us)\n",
    "short_likely_real = vcat([0.], [x[1] for x in likely_real])\n",
    "short_likely_real = filter_out_same_values([x[1] for x in likely_real], short_likely_real)\n",
    "\n",
    "x_ron, y_ron = false_pos_neg_graph(count_tag, real_tags)\n",
    "x_ron = filter_out_same_values([x[1] for x in count_tag], x_ron)\n",
    "y_ron = filter_out_same_values([x[1] for x in count_tag], y_ron)\n",
    "short_count_tag = vcat([0], [x[1] for x in count_tag]) \n",
    "short_count_tag = filter_out_same_values([x[1] for x in count_tag], short_count_tag);"
   ]
  },
  {
   "cell_type": "code",
   "execution_count": 20,
   "metadata": {},
   "outputs": [
    {
     "data": {
      "text/plain": [
       "GraphVariables"
      ]
     },
     "execution_count": 20,
     "metadata": {},
     "output_type": "execute_result"
    }
   ],
   "source": [
    "type GraphVariables \n",
    "    sample_size\n",
    "    number_of_reads\n",
    "    recurse\n",
    "    pacbio_error_rate\n",
    "    dirichlet_concentration\n",
    "    pcr_cycles\n",
    "    pcr_efficiency\n",
    "    minimum_bin_size\n",
    "end\n",
    "GraphVariables() = GraphVariables(1000,100000,1,0.005,0.5,45,0.7,1)\n",
    "function GraphVariables(symbols::Array{Symbol}, values::Array{Any})\n",
    "    gv = GraphVariables()\n",
    "    for (symbol, value) in zip(symbols, values)\n",
    "        setfield!(gv, symbol, value)\n",
    "    end\n",
    "    return gv\n",
    "end"
   ]
  },
  {
   "cell_type": "code",
   "execution_count": 21,
   "metadata": {},
   "outputs": [
    {
     "name": "stderr",
     "output_type": "stream",
     "text": [
      "\u001b[1m\u001b[34mINFO: Symbol[:sample_size,:number_of_reads,:recurse,:pacbio_error_rate,:dirichlet_concentration,:pcr_cycles,:pcr_efficiency,:minimum_bin_size]\n",
      "\u001b[0m\u001b[1m\u001b[34mINFO: Reading 1 existing plots from file\n",
      "\u001b[0m"
     ]
    },
    {
     "ename": "LoadError",
     "evalue": "ParseError(\"extra token \\\"]\\\" after end of expression\")",
     "output_type": "error",
     "traceback": [
      "ParseError(\"extra token \\\"]\\\" after end of expression\")",
      "",
      " in #parse#322(::Bool, ::Bool, ::Function, ::SubString{String}, ::Int64) at ./parse.jl:184",
      " in #parse#322(::Bool, ::Bool, ::Function, ::SubString{String}, ::Int64) at /Applications/Julia-0.5.app/Contents/Resources/julia/lib/julia/sys.dylib:?",
      " in (::Base.#kw##parse)(::Array{Any,1}, ::Base.#parse, ::SubString{String}, ::Int64) at ./<missing>:0",
      " in #parse#323(::Bool, ::Function, ::SubString{String}) at ./parse.jl:194",
      " in collect_to!(::Array{Any,1}, ::Base.Generator{Array{SubString{String},1},Base.#parse}, ::Int64, ::Int64) at ./array.jl:340",
      " in collect_to!(::Array{Expr,1}, ::Base.Generator{Array{SubString{String},1},Base.#parse}, ::Int64, ::Int64) at ./array.jl:350",
      " in collect_to_with_first!(::Array{Expr,1}, ::Expr, ::Base.Generator{Array{SubString{String},1},Base.#parse}, ::Int64) at ./array.jl:327",
      " in _collect(::Array{SubString{String},1}, ::Base.Generator{Array{SubString{String},1},Base.#parse}, ::Base.EltypeUnknown, ::Base.HasShape) at ./array.jl:321",
      " in map(::Function, ::Array{SubString{String},1}) at ./abstractarray.jl:1691",
      " in map(::Function, ::Array{SubString{String},1}) at /Applications/Julia-0.5.app/Contents/Resources/julia/lib/julia/sys.dylib:?",
      " in macro expansion; at ./In[21]:13 [inlined]",
      " in anonymous at ./<missing>:?"
     ]
    }
   ],
   "source": [
    "# Read from file\n",
    "filename = \"BioSeqComparison.csv\"\n",
    "plots = Dict()\n",
    "variables = fieldnames(GraphVariables())\n",
    "if isfile(filename)\n",
    "    file = open(filename)\n",
    "    variables = map(Symbol, split(strip(readline(file)), \",\"))\n",
    "    info(variables)\n",
    "    number_of_plots = parse(strip(readline(file)))\n",
    "    info(\"Reading $(number_of_plots) existing plots from file\")\n",
    "    for i in 1:number_of_plots\n",
    "        parameters = map(parse, split(strip(readline(file)),\",\"))\n",
    "        our_threshold = map(parse, split(strip(readline(file)),\",\"))\n",
    "        our_x = map(parse, split(strip(readline(file)),\",\"))\n",
    "        our_y = map(parse, split(strip(readline(file)),\",\"))\n",
    "        rons_threshold = map(parse, split(strip(readline(file)),\",\"))\n",
    "        rons_x = map(parse, split(strip(readline(file)),\",\"))\n",
    "        rons_y = map(parse, split(strip(readline(file)),\",\"))\n",
    "        plots[parameters] = (our_threshold, our_x, our_y, rons_threshold, rons_x, rons_y)\n",
    "    end\n",
    "end;"
   ]
  },
  {
   "cell_type": "code",
   "execution_count": 22,
   "metadata": {},
   "outputs": [
    {
     "name": "stdout",
     "output_type": "stream",
     "text": [
      "1 plots\n"
     ]
    }
   ],
   "source": [
    "plots[map(eval, variables)] = (short_likely_real, x_us, y_us, short_count_tag, x_ron, y_ron);\n",
    "println(\"$(length(plots)) plots\")"
   ]
  },
  {
   "cell_type": "code",
   "execution_count": 33,
   "metadata": {},
   "outputs": [],
   "source": [
    "# Write to file\n",
    "parameters = \n",
    "file = open(filename, \"w\")\n",
    "write(file, \"$(join(variables, \",\"))\\n\")\n",
    "write(file, \"$(length(plots))\\n\")\n",
    "for (key, values) in plots\n",
    "    write(file, \"$(join(key, \",\"))\\n\") # The values of the parameters for the plot\n",
    "    write(file, \"$(join(values[1], \",\"))\\n\") # Our threshold values\n",
    "    write(file, \"$(join(values[2], \",\"))\\n\") # Our x values\n",
    "    write(file, \"$(join(values[3], \",\"))\\n\") # Our y values\n",
    "    write(file, \"$(join(values[4], \",\"))\\n\") # Ron's threshold values\n",
    "    write(file, \"$(join(values[5], \",\"))\\n\") # Ron's x values\n",
    "    write(file, \"$(join(values[6], \",\"))\\n\") # Ron's y values\n",
    "    write(file, \"\\n\")\n",
    "end\n",
    "close(file)"
   ]
  },
  {
   "cell_type": "code",
   "execution_count": 24,
   "metadata": {},
   "outputs": [
    {
     "name": "stdout",
     "output_type": "stream",
     "text": [
      "0.9 - 278 false positive, 820 true positive (out of 993)\n"
     ]
    },
    {
     "data": {
      "image/png": "[encoded data removed]",
      "text/plain": [
       "PyPlot.Figure(PyObject <matplotlib.figure.Figure object at 0x31d5e1c90>)"
      ]
     },
     "metadata": {},
     "output_type": "display_data"
    },
    {
     "name": "stdout",
     "output_type": "stream",
     "text": [
      "0.95 - 235 false positive, 818 true positive (out of 993)\n",
      "0.99 - 186 false positive, 815 true positive (out of 993)\n",
      "0.995 - 174 false positive, 810 true positive (out of 993)\n"
     ]
    }
   ],
   "source": [
    "fig, ax = subplots()\n",
    "\n",
    "# Printing points for the different special thresholds\n",
    "# Ben's threshold points\n",
    "threshold = [.9, .95, .99, .995, 100]\n",
    "threshold_i = 1\n",
    "for i in 1:length(short_likely_real)\n",
    "    if short_likely_real[i][1] > threshold[threshold_i]\n",
    "        ax[:plot](x_us[i], y_us[i], \".\", color=\"black\", )\n",
    "        println(\"$(threshold[threshold_i]) - $(x_us[i]) false positive, $(y_us[i]) true positive (out of $(length(generated_tag_counts)))\")\n",
    "        threshold_i += 1\n",
    "    end\n",
    "end\n",
    "# Ron's \n",
    "threshold = [1, 2, 3, 4, 5, 10, 15, 20, 10000000]\n",
    "threshold_i = 1\n",
    "for i in 1:length(short_count_tag)\n",
    "    if short_count_tag[i][1] > threshold[threshold_i]\n",
    "        ax[:plot](x_ron[i+1], y_ron[i+1], \".\", color=\"black\")\n",
    "        threshold_i += 1\n",
    "    end\n",
    "end\n",
    "\n",
    "# Plotting the plots from the save file, as well as our new plots\n",
    "for (parameters, values) in plots\n",
    "    parms = ax[:plot](values[2], values[3], linewidth=2, label=\"$(join(parameters,\",\"))\", alpha=0.4)\n",
    "    chosen_color = parms[1][:get_color]()\n",
    "    ax[:plot](values[5], values[6], linestyle=\"--\", linewidth=2, color=chosen_color, alpha=0.4)\n",
    "end\n",
    "\n",
    "ax[:legend](loc=4)\n",
    "xlim([0,300])\n",
    "#ylim([1500,2000])\n",
    "#ylim([700,900])\n",
    "xlabel(\"false positives\")\n",
    "ylabel(\"true positives\");\n"
   ]
  },
  {
   "cell_type": "code",
   "execution_count": 25,
   "metadata": {},
   "outputs": [
    {
     "data": {
      "image/png": "[encoded data removed]",
      "text/plain": [
       "PyPlot.Figure(PyObject <matplotlib.figure.Figure object at 0x322e70690>)"
      ]
     },
     "metadata": {},
     "output_type": "display_data"
    },
    {
     "name": "stdout",
     "output_type": "stream",
     "text": [
      "0.9 - 278 false positive, 820 true positive (out of 993)\n",
      "0.95 - 235 false positive, 818 true positive (out of 993)\n",
      "0.99 - 186 false positive, 815 true positive (out of 993)\n",
      "0.995 - 174 false positive, 810 true positive (out of 993)\n"
     ]
    }
   ],
   "source": [
    "# Printing for the proposal\n",
    "fig, ax = subplots()\n",
    "\n",
    "# Printing points for the different special thresholds\n",
    "# Ben's threshold points\n",
    "threshold = [.9, .95, .99, .995, 100]\n",
    "threshold_i = 1\n",
    "for i in 1:length(short_likely_real)\n",
    "    if short_likely_real[i][1] > threshold[threshold_i]\n",
    "        #ax[:plot](x_us[i], y_us[i], \".\", color=\"red\")\n",
    "        println(\"$(threshold[threshold_i]) - $(x_us[i]) false positive, $(y_us[i]) true positive (out of $(length(generated_tag_counts)))\")\n",
    "        threshold_i += 1\n",
    "    end\n",
    "end\n",
    "# Ron's \n",
    "threshold = [1, 2, 3, 4, 5, 10, 15, 20, 10000000]\n",
    "threshold_i = 1\n",
    "for i in 1:length(short_count_tag)\n",
    "    if short_count_tag[i][1] > threshold[threshold_i]\n",
    "        #ax[:plot](x_ron[i+1], y_ron[i+1], \".\", color=\"blue\")\n",
    "        threshold_i += 1\n",
    "    end\n",
    "end\n",
    "\n",
    "(map(eval, variables), short_likely_real, x_us, y_us, short_count_tag, x_ron, y_ron)\n",
    "ax[:plot](x_us, y_us, linewidth=2, color=\"red\", label=\"PORPID\", alpha=0.7)\n",
    "ax[:plot](x_ron, y_ron, linewidth=2, color=\"blue\", label=\"SWANSON\", alpha=0.7)\n",
    "\n",
    "ax[:legend](loc=4)\n",
    "xlim([0,800])\n",
    "#ylim([1500,2000])\n",
    "#ylim([700,900])\n",
    "xlabel(\"false positives\")\n",
    "ylabel(\"true positives\");\n"
   ]
  },
  {
   "cell_type": "code",
   "execution_count": 26,
   "metadata": {
    "collapsed": true
   },
   "outputs": [],
   "source": [
    "threshold = 0.95\n",
    "included = Set()\n",
    "excluded = Set()\n",
    "for (prob, tag) in likely_real\n",
    "    if prob >= threshold\n",
    "        push!(included, tag)\n",
    "    else\n",
    "        push!(excluded, tag)\n",
    "    end\n",
    "end"
   ]
  },
  {
   "cell_type": "code",
   "execution_count": 27,
   "metadata": {},
   "outputs": [
    {
     "name": "stdout",
     "output_type": "stream",
     "text": [
      "Of the 993 original tags, 819 were recovered\n"
     ]
    }
   ],
   "source": [
    "# Of the initial number of tags, how many are recovered?\n",
    "recovered_tags = 0\n",
    "for generated_tag in keys(generated_tag_counts)\n",
    "    if generated_tag in included\n",
    "        recovered_tags += 1\n",
    "    end\n",
    "end\n",
    "println(\"Of the $(length(generated_tag_counts)) original tags, $(recovered_tags) were recovered\")"
   ]
  },
  {
   "cell_type": "code",
   "execution_count": 28,
   "metadata": {},
   "outputs": [
    {
     "name": "stdout",
     "output_type": "stream",
     "text": [
      "ACTCTTCG - 4 generated copies - 5 seen copies - 0.9422261 probability of being real\n"
     ]
    },
    {
     "data": {
      "image/png": "[encoded data removed]",
      "text/plain": [
       "PyPlot.Figure(PyObject <matplotlib.figure.Figure object at 0x322ed01d0>)"
      ]
     },
     "metadata": {},
     "output_type": "display_data"
    },
    {
     "name": "stdout",
     "output_type": "stream",
     "text": [
      "\tACTCTTCG - 5 seen copies - 0.99202794 chance of indel\n",
      "\tACTCCTTCG - 1 seen copies - 0.00019839381 chance of indel\n",
      "\tACTCCTCG - 4740 seen copies - 6.6539644f-5 chance of indel\n",
      "\tACTCATCG - 6 seen copies - 6.637965f-5 chance of indel\n",
      "\tACTCGTCG - 2 seen copies - 6.637964f-5 chance of indel\n",
      "\tACTTCTCG - 1 seen copies - 4.088889f-7 chance of indel\n",
      "\tACCTCTCG - 1 seen copies - 4.0f-7 chance of indel\n",
      "\tAACTCTCG - 15 seen copies - 3.2f-7 chance of indel\n",
      "\tACTGCTCG - 3 seen copies - 1.6888889f-7 chance of indel\n",
      "\tACTCCTTG - 2 seen copies - 1.6888889f-7 chance of indel\n",
      "\tAACCTTCG - 33 seen copies - 1.6888889f-7 chance of indel\n",
      "\tACTACTCG - 1 seen copies - 1.6888889f-7 chance of indel\n",
      "\tCTCCTTCG - 5 seen copies - 1.6f-7 chance of indel\n",
      "\tAACTCTTC - 2 seen copies - 1.6f-7 chance of indel\n",
      "\tACCTCTTC - 598 seen copies - 1.6f-7 chance of indel\n",
      "\tAGCCTTCG - 2 seen copies - 8.888889f-8 chance of indel\n",
      "\tACTCTATC - 1 seen copies - 8.0f-8 chance of indel\n",
      "\tATCTCTTC - 1 seen copies - 8.0f-8 chance of indel\n",
      "\tTACTCTTG - 19 seen copies - 8.0f-8 chance of indel\n",
      "\tACTCCTCCG - 1 seen copies - 5.3333334f-8 chance of indel\n",
      "\tACTCCCTCG - 2 seen copies - 4.0f-8 chance of indel\n",
      "\tACTTCCTCG - 1 seen copies - 2.6666667f-8 chance of indel\n",
      "\tACTCCTCGG - 1 seen copies - 2.6666667f-8 chance of indel\n",
      "\tAACTCCTCG - 3 seen copies - 2.6666667f-8 chance of indel\n",
      "\tACTCCTCGA - 2 seen copies - 1.33333335f-8 chance of indel\n",
      "\tATTCTTAG - 6 seen copies - 8.888889f-9 chance of indel\n",
      "\tACAGTTCG - 2 seen copies - 8.888889f-9 chance of indel\n",
      "\tACCCTTCT - 1 seen copies - 8.888889f-9 chance of indel\n",
      "\tAATCTGCG - 9 seen copies - 8.888889f-9 chance of indel\n",
      "\tACTCCTCC - 1 seen copies - 8.888889f-9 chance of indel\n",
      "\tACTCCGCG - 1 seen copies - 8.888889f-9 chance of indel\n",
      "\tTCTCCTCG - 1 seen copies - 8.888889f-9 chance of indel\n",
      "\tACGCCTCG - 2 seen copies - 8.888889f-9 chance of indel\n",
      "\tCCTCTTCC - 1 seen copies - 8.888889f-9 chance of indel\n",
      "\tACCCCTCG - 3 seen copies - 8.888889f-9 chance of indel\n",
      "\tACTCCTCA - 3 seen copies - 8.888889f-9 chance of indel\n",
      "\tCCTCCTCG - 3 seen copies - 8.888889f-9 chance of indel\n",
      "\tAATCCTCG - 4 seen copies - 8.888889f-9 chance of indel\n",
      "\tAATCTTCT - 1 seen copies - 8.888889f-9 chance of indel\n",
      "\tACTCCTGG - 1 seen copies - 8.888889f-9 chance of indel\n",
      "\tACTTTTCT - 1 seen copies - 8.888889f-9 chance of indel\n",
      "\tACTCCTAG - 1 seen copies - 8.888889f-9 chance of indel\n",
      "\tACTGTTGG - 4 seen copies - 8.888889f-9 chance of indel\n",
      "\tAGTCCTCG - 3 seen copies - 8.888889f-9 chance of indel\n"
     ]
    }
   ],
   "source": [
    "# Of the unrecovered tags, how many copies were generated\n",
    "unrecovered_copy_count = []\n",
    "but = \"None\"\n",
    "buts = 0\n",
    "for generated_tag in keys(generated_tag_counts)\n",
    "    if !(generated_tag in included)\n",
    "        push!(unrecovered_copy_count, generated_tag_counts[generated_tag])\n",
    "        if generated_tag_counts[generated_tag] > buts\n",
    "            buts = generated_tag_counts[generated_tag]\n",
    "            but = generated_tag\n",
    "        end\n",
    "    end\n",
    "end\n",
    "fig, ax = subplots()\n",
    "ax[:hist](unrecovered_copy_count, 50);\n",
    "println(\"$(but) - $(buts) generated copies - $(tag_counts[but]) seen copies - $(tag_to_prob[but]) probability of being real\")\n",
    "for (index, prob) in sort!(probabilities_array[tag_to_index[but]], by=x->-x[2])\n",
    "    println(\"\\t$(index_to_tag[index]) - $(tag_counts[index_to_tag[index]]) seen copies - $(prob) chance of indel\")\n",
    "end\n"
   ]
  },
  {
   "cell_type": "code",
   "execution_count": 29,
   "metadata": {},
   "outputs": [
    {
     "name": "stdout",
     "output_type": "stream",
     "text": [
      "Of the 1054 recovered tags, 819 were valid, with a false positive rate of 22.296%\n"
     ]
    }
   ],
   "source": [
    "# Of the recovered tags, how many are valid?\n",
    "valid_tags = 0\n",
    "for recovered_tag in included\n",
    "    if recovered_tag in keys(generated_tag_counts)\n",
    "        valid_tags += 1\n",
    "    end\n",
    "end\n",
    "println(\"Of the $(length(included)) recovered tags, $(valid_tags) were valid, with a false positive rate of $(round((length(included)-valid_tags)/length(included)*100,4))%\")"
   ]
  },
  {
   "cell_type": "code",
   "execution_count": 30,
   "metadata": {},
   "outputs": [
    {
     "data": {
      "image/png": "[encoded data removed]",
      "text/plain": [
       "PyPlot.Figure(PyObject <matplotlib.figure.Figure object at 0x322d10cd0>)"
      ]
     },
     "metadata": {},
     "output_type": "display_data"
    }
   ],
   "source": [
    "# Of the validly recovered tags, how many of the original sequences are recovered\n",
    "recovered = []\n",
    "out_of = []\n",
    "for recovered_tag in included\n",
    "    if recovered_tag in keys(generated_tag_counts)\n",
    "        matching = 0\n",
    "        for sequence in tag_dict[recovered_tag]\n",
    "            real_label = split(sequence[2].name, \"_\")[3]\n",
    "            if real_label == recovered_tag\n",
    "                matching += 1\n",
    "            end\n",
    "        end\n",
    "        push!(recovered, matching)\n",
    "        push!(out_of, generated_tag_counts[recovered_tag])\n",
    "    end\n",
    "end\n",
    "scatter(recovered, out_of, alpha=0.5);"
   ]
  },
  {
   "cell_type": "code",
   "execution_count": 31,
   "metadata": {},
   "outputs": [
    {
     "name": "stdout",
     "output_type": "stream",
     "text": [
      "1 out of 2 mismatched tags for CCCTCCCA\n",
      "1 out of 45 mismatched tags for AGAGTTGA\n",
      "1 out of 82 mismatched tags for TAGTGGAC\n",
      "1 out of 4 mismatched tags for GGCTACCA\n",
      "1 out of 20 mismatched tags for TATGGGCT\n",
      "1 out of 71 mismatched tags for CTAACAGA\n",
      "1 out of 164 mismatched tags for AACAGTTC\n",
      "2 out of 3 mismatched tags for GTAAGTGA\n",
      "4 out of 21 mismatched tags for ACTGAAGC\n",
      "3 out of 18 mismatched tags for TTTCTTAA\n",
      "2 out of 9 mismatched tags for AGCTAAGG\n",
      "1 out of 42 mismatched tags for ACGCTACA\n",
      "3 out of 4 mismatched tags for ATTTGGCT\n",
      "1 out of 13 mismatched tags for GAACGAGA\n",
      "1 out of 25 mismatched tags for TAATTAGT\n",
      "1 out of 305 mismatched tags for GGTTTGAA\n",
      "1 out of 8 mismatched tags for TTCGGGGG\n",
      "1 out of 10 mismatched tags for TCGGTCAA\n",
      "1 out of 2 mismatched tags for TAACGGAG\n"
     ]
    }
   ],
   "source": [
    "# Of the validly recovered tags, how many mismatched sequences are included\n",
    "for recovered_tag in included\n",
    "    if recovered_tag in keys(generated_tag_counts)\n",
    "        non_matching = 0\n",
    "        for sequence in tag_dict[recovered_tag]\n",
    "            real_label = split(sequence[2].name, \"_\")[3]\n",
    "            if real_label != recovered_tag\n",
    "                non_matching += 1\n",
    "            end\n",
    "        end\n",
    "        if non_matching > 0\n",
    "            println(\"$(non_matching) out of $(length(tag_dict[recovered_tag])) mismatched tags for $(recovered_tag)\")\n",
    "        end\n",
    "    end\n",
    "end"
   ]
  },
  {
   "cell_type": "markdown",
   "metadata": {},
   "source": [
    "# Getting consensuses"
   ]
  },
  {
   "cell_type": "markdown",
   "metadata": {},
   "source": [
    "edit_distances = []\n",
    "number_of_copies = []\n",
    "consensuses = []\n",
    "for recovered_tag in included\n",
    "    if !(recovered_tag in keys(tag_to_original_sequence))\n",
    "        println(\"$(recovered_tag) not actually an original tag\")\n",
    "        continue\n",
    "    end\n",
    "    sequences = map(x -> x[2][2], tag_dict[recovered_tag])\n",
    "    consensus_seq = consensusSeq(sequences)\n",
    "    push!(consensuses, consensus_seq)\n",
    "    original = tag_to_original_sequence[recovered_tag]\n",
    "    distance = kmerSeededEditDist(consensus_seq, original)\n",
    "    push!(edit_distances, distance)\n",
    "    push!(number_of_copies, generated_tag_counts[recovered_tag])\n",
    "    #println(\"$(recovered_tag) recovered with $((length(original) - distance) / length(original) * 100)% accuracy\")\n",
    "end"
   ]
  },
  {
   "cell_type": "markdown",
   "metadata": {},
   "source": [
    "sum(edit_distances)"
   ]
  },
  {
   "cell_type": "markdown",
   "metadata": {},
   "source": [
    "scatter(log(Array{Float64}(number_of_copies))+randn(length(edit_distances))*0.1, edit_distances+randn(length(edit_distances))*0.1, alpha = 0.1);"
   ]
  },
  {
   "cell_type": "markdown",
   "metadata": {
    "collapsed": true
   },
   "source": []
  }
 ],
 "metadata": {
  "kernelspec": {
   "display_name": "Julia 0.5.2",
   "language": "julia",
   "name": "julia-0.5"
  },
  "language_info": {
   "file_extension": ".jl",
   "mimetype": "application/julia",
   "name": "julia",
   "version": "0.5.2"
  }
 },
 "nbformat": 4,
 "nbformat_minor": 1
}
