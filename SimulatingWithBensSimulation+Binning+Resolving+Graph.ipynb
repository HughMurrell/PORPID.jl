{
 "cells": [
  {
   "cell_type": "code",
   "execution_count": 1,
   "metadata": {},
   "outputs": [
    {
     "name": "stderr",
     "output_type": "stream",
     "text": [
      "WARNING: requiring \"NGSutilsFuncs\" in module \"Main\" did not define a corresponding module.\n"
     ]
    }
   ],
   "source": [
    "# Importing stuff\n",
    "push!(LOAD_PATH, \"/Users/robert/bio/BeNGS\")\n",
    "using Bio.Seq\n",
    "using NGSutilsFuncs\n",
    "using Distributions\n",
    "using HMMIDMethods\n",
    "using HMMIDConfig\n",
    "using States\n",
    "using Observations\n",
    "using NeedlemanWunsch\n",
    "using PyPlot\n",
    "using StatsBase"
   ]
  },
  {
   "cell_type": "code",
   "execution_count": 2,
   "metadata": {},
   "outputs": [
    {
     "name": "stdout",
     "output_type": "stream",
     "text": [
      "Current path: /Users/robert/bio/hmmids"
     ]
    },
    {
     "data": {
      "text/plain": [
       "\"./\""
      ]
     },
     "execution_count": 2,
     "metadata": {},
     "output_type": "execute_result"
    }
   ],
   "source": [
    "# Where is the HMMIDs directory relative to where you're running your julia notebook?\n",
    "print(\"Current path: $(pwd())\")\n",
    "path_to_hmmids = \"./\""
   ]
  },
  {
   "cell_type": "markdown",
   "metadata": {},
   "source": [
    "# Making a simulated dataset"
   ]
  },
  {
   "cell_type": "code",
   "execution_count": 3,
   "metadata": {},
   "outputs": [
    {
     "data": {
      "text/html": [
       "1000"
      ],
      "text/plain": [
       "1000"
      ]
     },
     "execution_count": 3,
     "metadata": {},
     "output_type": "execute_result"
    }
   ],
   "source": [
    "srand(1234)\n",
    "sample_size = 1000"
   ]
  },
  {
   "cell_type": "code",
   "execution_count": 4,
   "metadata": {},
   "outputs": [],
   "source": [
    "sequences_in_fasta = []\n",
    "for sequence in open(FASTAReader, \"$(path_to_hmmids)data/P018_HQCS_short.fasta\")\n",
    "    push!(sequences_in_fasta, (sequence.name, replace(string(sequence.seq), \"-\", \"\")))\n",
    "end"
   ]
  },
  {
   "cell_type": "code",
   "execution_count": 5,
   "metadata": {
    "collapsed": true
   },
   "outputs": [],
   "source": [
    "number_of_reads = 100000\n",
    "original_templates = sample_size\n",
    "pcr_cycles = 45\n",
    "double = log(2)\n",
    "pcr_efficiency = 0.7\n",
    "dist = Binomial(pcr_cycles, pcr_efficiency)\n",
    "molecules = e.^(rand(dist, (original_templates)) * double)\n",
    "template_count = zeros(Int64, original_templates)\n",
    "for molecule in wsample(1:original_templates, molecules, number_of_reads)\n",
    "    template_count[molecule] += 1\n",
    "end;\n",
    "#bar(1:original_templates, template_count);\n",
    "\n",
    "#g = Geometric(1/51)\n",
    "#template_count = rand(g, sample_size)"
   ]
  },
  {
   "cell_type": "code",
   "execution_count": 99,
   "metadata": {},
   "outputs": [
    {
     "name": "stdout",
     "output_type": "stream",
     "text": [
      " 15.060822 seconds (108.22 M allocations: 2.981 GB, 22.57% gc time)\n"
     ]
    }
   ],
   "source": [
    "# Generating our dataset using our samples as seeds\n",
    "primer_before_pid = \"GATTACA\"\n",
    "pid_length = 8\n",
    "primer_after_pid = \"ACGTACGTGGAAGACTTA\"\n",
    "i = 1\n",
    "true_sequences = Array{String,1}()\n",
    "generated_sequences = Array{Bio.Seq.SeqRecord{Bio.Seq.BioSequence{Bio.Seq.DNAAlphabet{4}},Bio.Seq.FASTQMetadata}}(sum(template_count))\n",
    "generated_tag_counts = Dict()\n",
    "tag_to_original_sequence = Dict()\n",
    "generated_index = 1\n",
    "generated_qualities = []\n",
    "@time for k in template_count\n",
    "    sequence = sample(sequences_in_fasta)\n",
    "    pid = join(rand([\"A\", \"C\", \"G\", \"T\"], pid_length))\n",
    "    template = (\"$(primer_before_pid)$(pid)$(primer_after_pid)$(sequence[2])\")\n",
    "    push!(true_sequences, template)\n",
    "    generated = envPBseqSim(template, k, withQVs=true)\n",
    "    for j in 1:length(generated)\n",
    "        label = \"PID_$(i)_$(pid)_$(j)_of_$(k)\"\n",
    "        sequence = Bio.Seq.SeqRecord(label, DNASequence(generated[j][1]), Bio.Seq.FASTQMetadata(\"\", map(prob -> Int8(round(-10*log10(prob))), generated[j][2])))\n",
    "        generated_sequences[generated_index] = sequence\n",
    "        push!(generated_qualities, generated[j][2])\n",
    "        generated_index += 1\n",
    "        if generated_index % 50000 == 0\n",
    "            try\n",
    "                run(`say -r 600 Generated $(generated_index) sequences`)\n",
    "            end\n",
    "        end\n",
    "    end\n",
    "    generated_tag_counts[pid] = k\n",
    "    tag_to_original_sequence[pid] = template\n",
    "    i += 1\n",
    "end\n",
    "#shuffle!(generated_sequences);"
   ]
  },
  {
   "cell_type": "code",
   "execution_count": 100,
   "metadata": {},
   "outputs": [
    {
     "data": {
      "text/plain": [
       "80nt DNA Sequence:\n",
       "GATTACAAAACCATTACGTACGTGGAAGACTTAAGTGCTAATAATACTAGCAATAGTACTATTCCTGGTACTAGCGGGGG"
      ]
     },
     "execution_count": 100,
     "metadata": {},
     "output_type": "execute_result"
    }
   ],
   "source": [
    "generated_sequences[1].seq"
   ]
  },
  {
   "cell_type": "code",
   "execution_count": 101,
   "metadata": {},
   "outputs": [
    {
     "name": "stdout",
     "output_type": "stream",
     "text": [
      "0 duplicates\n"
     ]
    }
   ],
   "source": [
    "println(\"$(length(Set(generated_tag_counts)) - length(generated_tag_counts)) duplicates\")"
   ]
  },
  {
   "cell_type": "code",
   "execution_count": 102,
   "metadata": {},
   "outputs": [
    {
     "data": {
      "image/png": "[encoded data removed]",
      "text/plain": [
       "PyPlot.Figure(PyObject <matplotlib.figure.Figure object at 0x327bdd650>)"
      ]
     },
     "metadata": {},
     "output_type": "display_data"
    }
   ],
   "source": [
    "fig, ax = subplots()\n",
    "ax[:hist](collect(values(generated_tag_counts)), 50);"
   ]
  },
  {
   "cell_type": "markdown",
   "metadata": {},
   "source": [
    "# Running HMMIDS on Simulation Data"
   ]
  },
  {
   "cell_type": "code",
   "execution_count": 103,
   "metadata": {},
   "outputs": [
    {
     "data": {
      "text/plain": [
       "1-element Array{HMMIDConfig.Template,1}:\n",
       " HMMIDConfig.Template(\"Reference\",States.AbstractState[States.StartingState(),States.ObservableState(DNA_G),States.ObservableState(DNA_A),States.ObservableState(DNA_T),States.ObservableState(DNA_T),States.ObservableState(DNA_A),States.ObservableState(DNA_C),States.ObservableState(DNA_A),States.BarcodeState(DNA_N),States.BarcodeState(DNA_N)  …  States.ObservableState(DNA_G),States.ObservableState(DNA_A),States.ObservableState(DNA_A),States.ObservableState(DNA_G),States.ObservableState(DNA_A),States.ObservableState(DNA_C),States.ObservableState(DNA_T),States.ObservableState(DNA_T),States.ObservableState(DNA_A),States.RepeatingAnyState(DNA_N)])"
      ]
     },
     "execution_count": 103,
     "metadata": {},
     "output_type": "execute_result"
    }
   ],
   "source": [
    "cfg = Configuration()\n",
    "cfg.start_inclusive = 1\n",
    "cfg.end_inclusive = length(primer_before_pid) + pid_length + length(primer_after_pid) + 5\n",
    "cfg.try_reverse_complement = false\n",
    "push!(cfg.templates, Template(\"Reference\", \"$(primer_before_pid)$(repeat(\"n\", pid_length))$(primer_after_pid)*\"))"
   ]
  },
  {
   "cell_type": "code",
   "execution_count": 105,
   "metadata": {},
   "outputs": [
    {
     "name": "stdout",
     "output_type": "stream",
     "text": [
      " 34.271325 seconds (510.80 M allocations: 9.264 GB, 10.99% gc time)\n"
     ]
    }
   ],
   "source": [
    "tag_dict = Dict()\n",
    "\n",
    "# This is the slow bit\n",
    "@time for sequence in generated_sequences\n",
    "    seq, quality = slice_sequence(sequence, cfg.start_inclusive, -1, cfg.end_inclusive, -1, false)\n",
    "    \n",
    "    score, tag, errors = NeedlemanWunsch.extract_tag(seq, quality, cfg.templates[1].reference)\n",
    "    \n",
    "    tag = length(tag) > 0 ? string(tag) : \"NO_TAG\"\n",
    "    tag = errors <= cfg.max_allowed_errors ? tag : \"REJECTS\"\n",
    "    if !haskey(tag_dict, tag)\n",
    "        tag_dict[tag] = []\n",
    "    end\n",
    "    push!(tag_dict[tag], (score, sequence))\n",
    "end"
   ]
  },
  {
   "cell_type": "code",
   "execution_count": 106,
   "metadata": {},
   "outputs": [],
   "source": [
    "real_tags = Set()\n",
    "observed_tags = Set()\n",
    "for observed_label in keys(tag_dict)\n",
    "    for (score, sequence) in tag_dict[observed_label]\n",
    "        real_label = split(sequence.name, \"_\")[3]\n",
    "        push!(real_tags, real_label)\n",
    "        push!(observed_tags, observed_label)\n",
    "    end\n",
    "end"
   ]
  },
  {
   "cell_type": "code",
   "execution_count": 107,
   "metadata": {
    "collapsed": true
   },
   "outputs": [],
   "source": [
    "tag_counts = Dict() \n",
    "tags = []\n",
    "index = 1\n",
    "for tag in keys(tag_dict)\n",
    "    push!(tags, tag)\n",
    "    tag_counts[tag] = length(tag_dict[tag])\n",
    "end"
   ]
  },
  {
   "cell_type": "markdown",
   "metadata": {},
   "source": [
    "# Resolving which tags are real"
   ]
  },
  {
   "cell_type": "code",
   "execution_count": 108,
   "metadata": {},
   "outputs": [
    {
     "name": "stdout",
     "output_type": "stream",
     "text": [
      "  9.329150 seconds (75.67 M allocations: 3.374 GB, 27.44% gc time)\n"
     ]
    }
   ],
   "source": [
    "using Resolving\n",
    "recurse = 1\n",
    "pacbio_error_rate = 0.001\n",
    "tag_to_index, index_to_tag = tag_index_mapping(tags)\n",
    "@time probabilities_array = prob_observed_tags_given_reals(tag_to_index, Resolving.PacBioErrorModel(pacbio_error_rate), recurse)\n",
    "indexed_counts = index_counts(tag_counts, tag_to_index);"
   ]
  },
  {
   "cell_type": "code",
   "execution_count": 109,
   "metadata": {},
   "outputs": [],
   "source": [
    "using CustomLDA\n",
    "dirichlet_concentration = 0.5\n",
    "most_likely_real_for_each_obs = CustomLDA.LDA(probabilities_array, indexed_counts, concentration=dirichlet_concentration);"
   ]
  },
  {
   "cell_type": "code",
   "execution_count": 110,
   "metadata": {},
   "outputs": [
    {
     "data": {
      "text/plain": [
       "2570-element Array{Any,1}:\n",
       " (0,\"AAAAAAGTG\") \n",
       " (0,\"AAAAAATG\")  \n",
       " (0,\"AAAAACAA\")  \n",
       " (0,\"AAAAATAA\")  \n",
       " (0,\"AAAACATT\")  \n",
       " (0,\"AAAACCAG\")  \n",
       " (0,\"AAAACCATT\") \n",
       " (0,\"AAAACGTG\")  \n",
       " (0,\"AAAACGTT\")  \n",
       " (0,\"AAAAGAAC\")  \n",
       " (0,\"AAAAGGAC\")  \n",
       " (0,\"AAAAGGGA\")  \n",
       " (0,\"AAAAGGTG\")  \n",
       " ⋮               \n",
       " (1.0,\"CCCCGACT\")\n",
       " (1.0,\"CCGGGACC\")\n",
       " (1.0,\"CTGTCACA\")\n",
       " (1.0,\"GAAAGGAT\")\n",
       " (1.0,\"GAGCTCCA\")\n",
       " (1.0,\"GCGGCGGA\")\n",
       " (1.0,\"GGCTGGTT\")\n",
       " (1.0,\"GGGAAACT\")\n",
       " (1.0,\"TCGCGTGA\")\n",
       " (1.0,\"TGAGCCTC\")\n",
       " (1.0,\"TGCCTTGG\")\n",
       " (1.0,\"TGGCAGTG\")"
      ]
     },
     "execution_count": 110,
     "metadata": {},
     "output_type": "execute_result"
    }
   ],
   "source": [
    "minimum_bin_size = 1\n",
    "likely_real = []\n",
    "tag_to_prob = Dict()\n",
    "for (observed_index, tuple) in enumerate(most_likely_real_for_each_obs)\n",
    "    prob = tuple[2]\n",
    "    if tag_counts[index_to_tag[observed_index]] <= minimum_bin_size\n",
    "        prob = 0\n",
    "    end\n",
    "    if observed_index != tuple[1]\n",
    "        prob = 0\n",
    "    end\n",
    "    tag_to_prob[index_to_tag[observed_index]] = prob\n",
    "    push!(likely_real, (prob, index_to_tag[observed_index]))\n",
    "end\n",
    "sort!(likely_real)"
   ]
  },
  {
   "cell_type": "code",
   "execution_count": 111,
   "metadata": {},
   "outputs": [
    {
     "data": {
      "text/plain": [
       "2570-element Array{Any,1}:\n",
       " (1,\"AAAAAAGTG\")  \n",
       " (1,\"AAAAAATG\")   \n",
       " (1,\"AAAAACAA\")   \n",
       " (1,\"AAAAATAA\")   \n",
       " (1,\"AAAACATT\")   \n",
       " (1,\"AAAACCAG\")   \n",
       " (1,\"AAAACCATT\")  \n",
       " (1,\"AAAACGTG\")   \n",
       " (1,\"AAAACGTT\")   \n",
       " (1,\"AAAAGAAC\")   \n",
       " (1,\"AAAAGGAC\")   \n",
       " (1,\"AAAAGGGA\")   \n",
       " (1,\"AAAAGGTG\")   \n",
       " ⋮                \n",
       " (1202,\"CACATGCA\")\n",
       " (1204,\"GGAGCCAA\")\n",
       " (1208,\"ACTACGCC\")\n",
       " (1238,\"GATTCACG\")\n",
       " (2301,\"GTCGGCTG\")\n",
       " (2309,\"GGTCGCGA\")\n",
       " (2354,\"TATTCTCA\")\n",
       " (2374,\"CGGCGTCT\")\n",
       " (2379,\"CGAACAAG\")\n",
       " (2441,\"GCATAATC\")\n",
       " (4702,\"CAAAATAA\")\n",
       " (4758,\"GCTAGCTG\")"
      ]
     },
     "execution_count": 111,
     "metadata": {},
     "output_type": "execute_result"
    }
   ],
   "source": [
    "count_tag = []\n",
    "for tag in keys(tag_counts)\n",
    "    push!(count_tag, (tag_counts[tag], tag))\n",
    "end\n",
    "sort!(count_tag)"
   ]
  },
  {
   "cell_type": "code",
   "execution_count": 112,
   "metadata": {},
   "outputs": [
    {
     "name": "stderr",
     "output_type": "stream",
     "text": [
      "WARNING: Method definition false_pos_neg_graph(Any, Any) in module Main at In[74]:2 overwritten at In[112]:2.\n"
     ]
    },
    {
     "data": {
      "text/plain": [
       "false_pos_neg_graph (generic function with 1 method)"
      ]
     },
     "execution_count": 112,
     "metadata": {},
     "output_type": "execute_result"
    }
   ],
   "source": [
    "function false_pos_neg_graph(pairs, real_tags)\n",
    "    false_positive_count = 0\n",
    "    true_positive_count = 0\n",
    "    for (value, tag) in pairs\n",
    "        if (tag in real_tags)\n",
    "            true_positive_count += 1\n",
    "        else\n",
    "            false_positive_count += 1\n",
    "        end\n",
    "    end\n",
    "    x_values = [false_positive_count]\n",
    "    y_values = [true_positive_count]\n",
    "    for (value, tag) in pairs\n",
    "        if tag in real_tags\n",
    "            true_positive_count -= 1\n",
    "        else\n",
    "            false_positive_count -= 1\n",
    "        end\n",
    "        push!(x_values, false_positive_count)\n",
    "        push!(y_values, true_positive_count)\n",
    "    end\n",
    "    return x_values, y_values\n",
    "end"
   ]
  },
  {
   "cell_type": "code",
   "execution_count": 113,
   "metadata": {},
   "outputs": [
    {
     "name": "stderr",
     "output_type": "stream",
     "text": [
      "WARNING: Method definition filter_out_same_values(Any, Any) in module Main at In[75]:2 overwritten at In[113]:2.\n"
     ]
    },
    {
     "data": {
      "text/plain": [
       "filter_out_same_values (generic function with 1 method)"
      ]
     },
     "execution_count": 113,
     "metadata": {},
     "output_type": "execute_result"
    }
   ],
   "source": [
    "function filter_out_same_values(sorted_values, dependant_variable)\n",
    "    out = [dependant_variable[1]]\n",
    "    last_value = 0\n",
    "    for i in 1:length(sorted_values)\n",
    "        if sorted_values[i] > last_value\n",
    "            push!(out, dependant_variable[i+1])\n",
    "            last_value = sorted_values[i]\n",
    "        end\n",
    "    end\n",
    "    return out\n",
    "end"
   ]
  },
  {
   "cell_type": "code",
   "execution_count": 114,
   "metadata": {
    "collapsed": true
   },
   "outputs": [],
   "source": [
    "x_us, y_us = false_pos_neg_graph(likely_real, real_tags) \n",
    "x_us = filter_out_same_values([x[1] for x in likely_real], x_us)\n",
    "y_us = filter_out_same_values([x[1] for x in likely_real], y_us)\n",
    "short_likely_real = vcat([0.], [x[1] for x in likely_real])\n",
    "short_likely_real = filter_out_same_values([x[1] for x in likely_real], short_likely_real)\n",
    "\n",
    "x_ron, y_ron = false_pos_neg_graph(count_tag, real_tags)\n",
    "x_ron = filter_out_same_values([x[1] for x in count_tag], x_ron)\n",
    "y_ron = filter_out_same_values([x[1] for x in count_tag], y_ron)\n",
    "short_count_tag = vcat([0], [x[1] for x in count_tag]) \n",
    "short_count_tag = filter_out_same_values([x[1] for x in count_tag], short_count_tag);"
   ]
  },
  {
   "cell_type": "code",
   "execution_count": 115,
   "metadata": {},
   "outputs": [
    {
     "name": "stderr",
     "output_type": "stream",
     "text": [
      "WARNING: Method definition (::Type{Main.GraphVariables})(Any, Any, Any, Any, Any, Any, Any, Any) in module Main at In[77]:2 overwritten at In[115]:2.\n",
      "WARNING: Method definition (::Type{Main.GraphVariables})() in module Main at In[77]:11 overwritten at In[115]:11.\n"
     ]
    },
    {
     "ename": "LoadError",
     "evalue": "syntax: invalid iteration specification",
     "output_type": "error",
     "traceback": [
      "syntax: invalid iteration specification",
      ""
     ]
    }
   ],
   "source": [
    "type GraphVariables \n",
    "    sample_size\n",
    "    number_of_reads\n",
    "    recurse\n",
    "    pacbio_error_rate\n",
    "    dirichlet_concentration\n",
    "    pcr_cycles\n",
    "    pcr_efficiency\n",
    "    minimum_bin_size\n",
    "end\n",
    "GraphVariables() = GraphVariables(1000,100000,1,0.005,0.5,45,0.7,1)\n",
    "function GraphVariables(symbols::Array{Symbol}, values::Array{Any})\n",
    "    gv = GraphVariables()\n",
    "    for symbol, value in zip(symbols, values)\n",
    "        setfield!(gv, symbol, value)\n",
    "    end\n",
    "    return gv\n",
    "end"
   ]
  },
  {
   "cell_type": "code",
   "execution_count": 116,
   "metadata": {},
   "outputs": [
    {
     "name": "stderr",
     "output_type": "stream",
     "text": [
      "\u001b[1m\u001b[34mINFO: Symbol[:sample_size,:number_of_reads,:recurse,:pacbio_error_rate,:dirichlet_concentration,:pcr_cycles,:pcr_efficiency,:minimum_bin_size]\n",
      "\u001b[0m\u001b[1m\u001b[34mINFO: Reading 8 existing plots from file\n",
      "\u001b[0m"
     ]
    }
   ],
   "source": [
    "# Read from file\n",
    "filename = \"BensTempOutput2.csv\"\n",
    "plots = []\n",
    "if isfile(filename)\n",
    "    file = open(filename)\n",
    "    variables = map(Symbol, split(strip(readline(file)), \",\"))\n",
    "    info(variables)\n",
    "    number_of_plots = parse(strip(readline(file)))\n",
    "    info(\"Reading $(number_of_plots) existing plots from file\")\n",
    "    for i in 1:number_of_plots\n",
    "        parameters = map(parse, split(strip(readline(file)),\",\"))\n",
    "        our_threshold = map(parse, split(strip(readline(file)),\",\"))\n",
    "        our_x = map(parse, split(strip(readline(file)),\",\"))\n",
    "        our_y = map(parse, split(strip(readline(file)),\",\"))\n",
    "        rons_threshold = map(parse, split(strip(readline(file)),\",\"))\n",
    "        rons_x = map(parse, split(strip(readline(file)),\",\"))\n",
    "        rons_y = map(parse, split(strip(readline(file)),\",\"))\n",
    "        push!(plots, (parameters, our_threshold, our_x, our_y, rons_threshold, rons_x, rons_y))\n",
    "    end\n",
    "end;"
   ]
  },
  {
   "cell_type": "code",
   "execution_count": 117,
   "metadata": {},
   "outputs": [
    {
     "data": {
      "text/plain": [
       "9-element Array{Any,1}:\n",
       " (Real[1000,100000,1,0.005,0.5,35,0.7,1],[0.0,0.399306,0.512932,0.514673,0.527387,0.53271,0.534657,0.541409,0.545387,0.547871  …  0.999999,0.999999,0.999999,0.999999,0.999999,0.999999,0.999999,1.0,1.0,1.0],[1952,314,313,312,311,310,309,308,307,306  …  0,0,0,0,0,0,0,0,0,0],[931,880,880,880,880,880,880,880,880,880  …  12,11,10,9,7,5,3,2,1,0],[0,1,2,3,4,5,6,7,8,9  …  993,1765,1782,1825,1826,1878,1900,1915,3691,3698],[1952,1951,438,158,86,56,35,22,17,12  …  0,0,0,0,0,0,0,0,0,0],[931,931,879,838,804,762,732,712,688,670  …  10,8,7,6,5,4,3,2,1,0])            \n",
       " (Real[1000,100000,1,0.025,0.5,45,0.7,1],[0.0,0.474757,0.486041,0.491567,0.49326,0.497363,0.49911,0.499696,0.500086,0.500841  …  0.999983,0.999983,0.999984,0.999988,0.99999,0.999991,0.999992,0.999992,0.999993,0.999995],[1730,124,123,122,121,120,119,118,117,116  …  0,0,0,0,0,0,0,0,0,0],[880,814,814,814,814,814,814,814,814,814  …  9,8,7,6,5,4,3,2,1,0],[0,1,2,3,4,5,6,7,8,9  …  1191,1216,1242,2274,2320,2354,2360,2406,4731,4736],[1730,1729,438,192,112,74,57,39,27,18  …  0,0,0,0,0,0,0,0,0,0],[880,880,818,763,715,677,648,620,599,584  …  10,9,8,7,6,5,4,3,1,0])\n",
       " (Real[1000,100000,1,0.005,0.5,45,0.7,1],[0.0,0.517171,0.517269,0.517708,0.518511,0.547245,0.548297,0.551255,0.552753,0.557103  …  0.999999,0.999999,0.999999,0.999999,0.999999,0.999999,0.999999,1.0,1.0,1.0],[1730,308,307,306,305,304,303,302,301,300  …  0,0,0,0,0,0,0,0,0,0],[880,818,818,818,818,818,818,818,818,818  …  21,19,16,14,12,10,7,6,4,0],[0,1,2,3,4,5,6,7,8,9  …  1191,1216,1242,2274,2320,2354,2360,2406,4731,4736],[1730,1729,438,192,112,74,57,39,27,18  …  0,0,0,0,0,0,0,0,0,0],[880,880,818,763,715,677,648,620,599,584  …  10,9,8,7,6,5,4,3,1,0])      \n",
       " (Real[1000,100000,1,0.001,0.5,45,0.7,1],[0.0],[0],[0],[0],[0],[0])                                                                                                                                                                                                                                                                                                                                                                                                                                                                                                           \n",
       " (Real[1000,100000,1,0.001,0.5,45,0.7,1],[0.0],[0],[0],[0],[0],[0])                                                                                                                                                                                                                                                                                                                                                                                                                                                                                                           \n",
       " (Real[1000,100000,1,0.001,0.5,45,0.7,1],[0.0],[0],[0],[0],[0],[0])                                                                                                                                                                                                                                                                                                                                                                                                                                                                                                           \n",
       " (Real[1000,100000,1,0.001,0.5,45,0.7,1],[0.0],[0],[0],[0],[0],[0])                                                                                                                                                                                                                                                                                                                                                                                                                                                                                                           \n",
       " (Real[1000,100000,1,0.001,0.5,45,0.7,1],[0.0,0.512128,0.512767,0.513729,0.514781,0.516281,0.52633,0.531445,0.531745,0.610106  …  0.999999,1.0,1.0,1.0,1.0,1.0,1.0,1.0,1.0,1.0],[1738,391,390,389,388,387,386,385,384,383  …  0,0,0,0,0,0,0,0,0,0],[880,818,818,818,818,818,818,818,818,818  …  120,117,112,106,102,90,80,60,40,13],[0,1,2,3,4,5,6,7,8,9  …  1209,1233,2294,2319,2351,2381,2393,2401,4742,4746],[1738,1737,411,178,84,49,30,18,12,11  …  0,0,0,0,0,0,0,0,0,0],[880,880,818,764,708,671,646,618,597,581  …  9,8,7,6,5,4,3,2,1,0])                              \n",
       " (Real[1000,100000,1,0.001,0.5,45,0.7,1],[0.0,0.517237,0.517436,0.520957,0.528855,0.529743,0.529943,0.530009,0.532911,0.533022  …  0.999999,1.0,1.0,1.0,1.0,1.0,1.0,1.0,1.0,1.0],[1693,388,387,386,385,384,383,382,381,380  …  0,0,0,0,0,0,0,0,0,0],[877,815,815,815,815,815,815,815,815,815  …  126,121,110,100,93,85,78,60,40,14],[0,1,2,3,4,5,6,7,8,9  …  1208,1238,2301,2309,2354,2374,2379,2441,4702,4758],[1693,1692,402,161,80,49,29,19,13,8  …  0,0,0,0,0,0,0,0,0,0],[877,877,815,762,708,673,647,621,598,584  …  9,8,7,6,5,4,3,2,1,0])                               "
      ]
     },
     "execution_count": 117,
     "metadata": {},
     "output_type": "execute_result"
    }
   ],
   "source": [
    "push!(plots, (map(eval, variables), short_likely_real, x_us, y_us, short_count_tag, x_ron, y_ron))"
   ]
  },
  {
   "cell_type": "code",
   "execution_count": 118,
   "metadata": {},
   "outputs": [
    {
     "data": {
      "text/html": [
       "1061"
      ],
      "text/plain": [
       "1061"
      ]
     },
     "execution_count": 118,
     "metadata": {},
     "output_type": "execute_result"
    }
   ],
   "source": [
    "length(plots[3][4])"
   ]
  },
  {
   "cell_type": "code",
   "execution_count": 119,
   "metadata": {
    "collapsed": true
   },
   "outputs": [],
   "source": [
    "# Write to file\n",
    "parameters = \n",
    "file = open(filename, \"w\")\n",
    "write(file, \"$(join(variables, \",\"))\\n\")\n",
    "write(file, \"$(length(plots))\\n\")\n",
    "for plot in plots\n",
    "    write(file, \"$(join(plot[1], \",\"))\\n\") # The values of the parameters for the plot\n",
    "    write(file, \"$(join(plot[2], \",\"))\\n\") # Our threshold values\n",
    "    write(file, \"$(join(plot[3], \",\"))\\n\") # Our x values\n",
    "    write(file, \"$(join(plot[4], \",\"))\\n\") # Our y values\n",
    "    write(file, \"$(join(plot[5], \",\"))\\n\") # Ron's threshold values\n",
    "    write(file, \"$(join(plot[6], \",\"))\\n\") # Ron's x values\n",
    "    write(file, \"$(join(plot[7], \",\"))\\n\") # Ron's y values\n",
    "end\n",
    "close(file)"
   ]
  },
  {
   "cell_type": "code",
   "execution_count": 120,
   "metadata": {},
   "outputs": [
    {
     "name": "stdout",
     "output_type": "stream",
     "text": [
      "0.9 - 268 false positive, 815 true positive (out of 990)\n"
     ]
    },
    {
     "data": {
      "image/png": "[encoded data removed]",
      "text/plain": [
       "PyPlot.Figure(PyObject <matplotlib.figure.Figure object at 0x32290a510>)"
      ]
     },
     "metadata": {},
     "output_type": "display_data"
    },
    {
     "name": "stdout",
     "output_type": "stream",
     "text": [
      "0.95 - 233 false positive, 815 true positive (out of 990)\n",
      "0.99 - 174 false positive, 812 true positive (out of 990)\n",
      "0.995 - 161 false positive, 811 true positive (out of 990)\n"
     ]
    }
   ],
   "source": [
    "fig, ax = subplots()\n",
    "\n",
    "# Printing points for the different special thresholds\n",
    "# Ben's threshold points\n",
    "threshold = [.9, .95, .99, .995, 100]\n",
    "threshold_i = 1\n",
    "for i in 1:length(short_likely_real)\n",
    "    if short_likely_real[i][1] > threshold[threshold_i]\n",
    "        ax[:plot](x_us[i], y_us[i], \".\", color=\"black\", )\n",
    "        println(\"$(threshold[threshold_i]) - $(x_us[i]) false positive, $(y_us[i]) true positive (out of $(length(generated_tag_counts)))\")\n",
    "        threshold_i += 1\n",
    "    end\n",
    "end\n",
    "# Ron's \n",
    "threshold = [1, 2, 3, 4, 5, 10, 15, 20, 10000000]\n",
    "threshold_i = 1\n",
    "for i in 1:length(short_count_tag)\n",
    "    if short_count_tag[i][1] > threshold[threshold_i]\n",
    "        ax[:plot](x_ron[i+1], y_ron[i+1], \".\", color=\"black\")\n",
    "        threshold_i += 1\n",
    "    end\n",
    "end\n",
    "\n",
    "# Plotting the plots from the save file, as well as our new plots\n",
    "for plot in plots\n",
    "    parms = ax[:plot](plot[3], plot[4], linewidth=2, label=\"$(join(plot[1],\",\"))\", alpha=0.4)\n",
    "    chosen_color = parms[1][:get_color]()\n",
    "    ax[:plot](plot[6], plot[7], linestyle=\"--\", linewidth=2, color=chosen_color, alpha=0.4)\n",
    "end\n",
    "\n",
    "ax[:legend](loc=4)\n",
    "xlim([0,300])\n",
    "#ylim([1500,2000])\n",
    "#ylim([700,900])\n",
    "xlabel(\"false positives\")\n",
    "ylabel(\"true positives\");\n"
   ]
  },
  {
   "cell_type": "code",
   "execution_count": 121,
   "metadata": {},
   "outputs": [
    {
     "data": {
      "image/png": "[encoded data removed]",
      "text/plain": [
       "PyPlot.Figure(PyObject <matplotlib.figure.Figure object at 0x328e5e710>)"
      ]
     },
     "metadata": {},
     "output_type": "display_data"
    },
    {
     "name": "stdout",
     "output_type": "stream",
     "text": [
      "0.9 - 268 false positive, 815 true positive (out of 990)\n",
      "0.95 - 233 false positive, 815 true positive (out of 990)\n",
      "0.99 - 174 false positive, 812 true positive (out of 990)\n",
      "0.995 - 161 false positive, 811 true positive (out of 990)\n"
     ]
    }
   ],
   "source": [
    "# Printing for the proposal\n",
    "fig, ax = subplots()\n",
    "\n",
    "# Printing points for the different special thresholds\n",
    "# Ben's threshold points\n",
    "threshold = [.9, .95, .99, .995, 100]\n",
    "threshold_i = 1\n",
    "for i in 1:length(short_likely_real)\n",
    "    if short_likely_real[i][1] > threshold[threshold_i]\n",
    "        #ax[:plot](x_us[i], y_us[i], \".\", color=\"red\")\n",
    "        println(\"$(threshold[threshold_i]) - $(x_us[i]) false positive, $(y_us[i]) true positive (out of $(length(generated_tag_counts)))\")\n",
    "        threshold_i += 1\n",
    "    end\n",
    "end\n",
    "# Ron's \n",
    "threshold = [1, 2, 3, 4, 5, 10, 15, 20, 10000000]\n",
    "threshold_i = 1\n",
    "for i in 1:length(short_count_tag)\n",
    "    if short_count_tag[i][1] > threshold[threshold_i]\n",
    "        #ax[:plot](x_ron[i+1], y_ron[i+1], \".\", color=\"blue\")\n",
    "        threshold_i += 1\n",
    "    end\n",
    "end\n",
    "\n",
    "(map(eval, variables), short_likely_real, x_us, y_us, short_count_tag, x_ron, y_ron)\n",
    "ax[:plot](x_us, y_us, linewidth=2, color=\"red\", label=\"PORPID\", alpha=0.7)\n",
    "ax[:plot](x_ron, y_ron, linewidth=2, color=\"blue\", label=\"SWANSON\", alpha=0.7)\n",
    "\n",
    "ax[:legend](loc=4)\n",
    "xlim([0,800])\n",
    "#ylim([1500,2000])\n",
    "#ylim([700,900])\n",
    "xlabel(\"false positives\")\n",
    "ylabel(\"true positives\");\n"
   ]
  },
  {
   "cell_type": "code",
   "execution_count": 122,
   "metadata": {
    "collapsed": true
   },
   "outputs": [],
   "source": [
    "threshold = 0.95\n",
    "included = Set()\n",
    "excluded = Set()\n",
    "for (prob, tag) in likely_real\n",
    "    if prob >= threshold\n",
    "        push!(included, tag)\n",
    "    else\n",
    "        push!(excluded, tag)\n",
    "    end\n",
    "end"
   ]
  },
  {
   "cell_type": "code",
   "execution_count": 123,
   "metadata": {},
   "outputs": [
    {
     "name": "stdout",
     "output_type": "stream",
     "text": [
      "Of the 990 original tags, 815 were recovered\n"
     ]
    }
   ],
   "source": [
    "# Of the initial number of tags, how many are recovered?\n",
    "recovered_tags = 0\n",
    "for generated_tag in keys(generated_tag_counts)\n",
    "    if generated_tag in included\n",
    "        recovered_tags += 1\n",
    "    end\n",
    "end\n",
    "println(\"Of the $(length(generated_tag_counts)) original tags, $(recovered_tags) were recovered\")"
   ]
  },
  {
   "cell_type": "code",
   "execution_count": 124,
   "metadata": {},
   "outputs": [
    {
     "name": "stdout",
     "output_type": "stream",
     "text": [
      "GTTGGACT - 2 generated copies - 1 seen copies - 0 probability of being real\n"
     ]
    },
    {
     "data": {
      "image/png": "[encoded data removed]",
      "text/plain": [
       "PyPlot.Figure(PyObject <matplotlib.figure.Figure object at 0x328f62b90>)"
      ]
     },
     "metadata": {},
     "output_type": "display_data"
    },
    {
     "name": "stdout",
     "output_type": "stream",
     "text": [
      "\tGTTGGACT - 1 seen copies - 0.99202794 chance of indel\n",
      "\tGTTGTACT - 33 seen copies - 6.6379645f-5 chance of indel\n",
      "\tCTTGGACT - 35 seen copies - 6.6299646f-5 chance of indel\n",
      "\tGTTGGAGT - 1 seen copies - 6.629964f-5 chance of indel\n",
      "\tGTTGTGCT - 8 seen copies - 8.888889f-8 chance of indel\n",
      "\tGTTGGCTG - 1 seen copies - 8.0f-8 chance of indel\n",
      "\tCGTTGGACG - 2 seen copies - 1.33333335f-8 chance of indel\n",
      "\tGTTGGTCTG - 1 seen copies - 1.33333335f-8 chance of indel\n",
      "\tATTGGAAT - 1 seen copies - 8.888889f-9 chance of indel\n",
      "\tATTGGACG - 3 seen copies - 8.888889f-9 chance of indel\n",
      "\tGGTGGACG - 1 seen copies - 8.888889f-9 chance of indel\n"
     ]
    }
   ],
   "source": [
    "# Of the unrecovered tags, how many copies were generated\n",
    "unrecovered_copy_count = []\n",
    "but = \"None\"\n",
    "buts = 0\n",
    "for generated_tag in keys(generated_tag_counts)\n",
    "    if !(generated_tag in included)\n",
    "        push!(unrecovered_copy_count, generated_tag_counts[generated_tag])\n",
    "        if generated_tag_counts[generated_tag] > buts\n",
    "            buts = generated_tag_counts[generated_tag]\n",
    "            but = generated_tag\n",
    "        end\n",
    "    end\n",
    "end\n",
    "fig, ax = subplots()\n",
    "ax[:hist](unrecovered_copy_count, 50);\n",
    "println(\"$(but) - $(buts) generated copies - $(tag_counts[but]) seen copies - $(tag_to_prob[but]) probability of being real\")\n",
    "for (index, prob) in sort!(probabilities_array[tag_to_index[but]], by=x->-x[2])\n",
    "    println(\"\\t$(index_to_tag[index]) - $(tag_counts[index_to_tag[index]]) seen copies - $(prob) chance of indel\")\n",
    "end\n"
   ]
  },
  {
   "cell_type": "code",
   "execution_count": 125,
   "metadata": {},
   "outputs": [
    {
     "name": "stdout",
     "output_type": "stream",
     "text": [
      "Of the 1049 recovered tags, 815 were valid, with a false positive rate of 22.307%\n"
     ]
    }
   ],
   "source": [
    "# Of the recovered tags, how many are valid?\n",
    "valid_tags = 0\n",
    "for recovered_tag in included\n",
    "    if recovered_tag in keys(generated_tag_counts)\n",
    "        valid_tags += 1\n",
    "    end\n",
    "end\n",
    "println(\"Of the $(length(included)) recovered tags, $(valid_tags) were valid, with a false positive rate of $(round((length(included)-valid_tags)/length(included)*100,4))%\")"
   ]
  },
  {
   "cell_type": "code",
   "execution_count": 126,
   "metadata": {},
   "outputs": [
    {
     "ename": "LoadError",
     "evalue": "MethodError: no method matching getindex(::Bio.Seq.SeqRecord{Bio.Seq.BioSequence{Bio.Seq.DNAAlphabet{4}},Bio.Seq.FASTQMetadata}, ::Int64)",
     "output_type": "error",
     "traceback": [
      "MethodError: no method matching getindex(::Bio.Seq.SeqRecord{Bio.Seq.BioSequence{Bio.Seq.DNAAlphabet{4}},Bio.Seq.FASTQMetadata}, ::Int64)",
      "",
      " in macro expansion; at ./In[126]:8 [inlined]",
      " in anonymous at ./<missing>:?"
     ]
    }
   ],
   "source": [
    "# Of the validly recovered tags, how many of the original sequences are recovered\n",
    "recovered = []\n",
    "out_of = []\n",
    "for recovered_tag in included\n",
    "    if recovered_tag in keys(generated_tag_counts)\n",
    "        matching = 0\n",
    "        for sequence in tag_dict[recovered_tag]\n",
    "            real_label = split(sequence[2][1], \"_\")[3]\n",
    "            if real_label == recovered_tag\n",
    "                matching += 1\n",
    "            end\n",
    "        end\n",
    "        push!(recovered, matching)\n",
    "        push!(out_of, generated_tag_counts[recovered_tag])\n",
    "    end\n",
    "end\n",
    "scatter(recovered, out_of, alpha=0.5);"
   ]
  },
  {
   "cell_type": "code",
   "execution_count": 127,
   "metadata": {},
   "outputs": [
    {
     "ename": "LoadError",
     "evalue": "MethodError: no method matching getindex(::Bio.Seq.SeqRecord{Bio.Seq.BioSequence{Bio.Seq.DNAAlphabet{4}},Bio.Seq.FASTQMetadata}, ::Int64)",
     "output_type": "error",
     "traceback": [
      "MethodError: no method matching getindex(::Bio.Seq.SeqRecord{Bio.Seq.BioSequence{Bio.Seq.DNAAlphabet{4}},Bio.Seq.FASTQMetadata}, ::Int64)",
      "",
      " in macro expansion; at ./In[127]:6 [inlined]",
      " in anonymous at ./<missing>:?"
     ]
    }
   ],
   "source": [
    "# Of the validly recovered tags, how many mismatched sequences are included\n",
    "for recovered_tag in included\n",
    "    if recovered_tag in keys(generated_tag_counts)\n",
    "        non_matching = 0\n",
    "        for sequence in tag_dict[recovered_tag]\n",
    "            real_label = split(sequence[2][1], \"_\")[3]\n",
    "            if real_label != recovered_tag\n",
    "                non_matching += 1\n",
    "            end\n",
    "        end\n",
    "        if non_matching > 0\n",
    "            println(\"$(non_matching) out of $(length(tag_dict[recovered_tag])) mismatched tags for $(recovered_tag)\")\n",
    "        end\n",
    "    end\n",
    "end"
   ]
  },
  {
   "cell_type": "markdown",
   "metadata": {},
   "source": [
    "# Getting consensuses"
   ]
  },
  {
   "cell_type": "markdown",
   "metadata": {},
   "source": [
    "edit_distances = []\n",
    "number_of_copies = []\n",
    "consensuses = []\n",
    "for recovered_tag in included\n",
    "    if !(recovered_tag in keys(tag_to_original_sequence))\n",
    "        println(\"$(recovered_tag) not actually an original tag\")\n",
    "        continue\n",
    "    end\n",
    "    sequences = map(x -> x[2][2], tag_dict[recovered_tag])\n",
    "    consensus_seq = consensusSeq(sequences)\n",
    "    push!(consensuses, consensus_seq)\n",
    "    original = tag_to_original_sequence[recovered_tag]\n",
    "    distance = kmerSeededEditDist(consensus_seq, original)\n",
    "    push!(edit_distances, distance)\n",
    "    push!(number_of_copies, generated_tag_counts[recovered_tag])\n",
    "    #println(\"$(recovered_tag) recovered with $((length(original) - distance) / length(original) * 100)% accuracy\")\n",
    "end"
   ]
  },
  {
   "cell_type": "markdown",
   "metadata": {},
   "source": [
    "sum(edit_distances)"
   ]
  },
  {
   "cell_type": "markdown",
   "metadata": {},
   "source": [
    "scatter(log(Array{Float64}(number_of_copies))+randn(length(edit_distances))*0.1, edit_distances+randn(length(edit_distances))*0.1, alpha = 0.1);"
   ]
  },
  {
   "cell_type": "markdown",
   "metadata": {
    "collapsed": true
   },
   "source": []
  }
 ],
 "metadata": {
  "kernelspec": {
   "display_name": "Julia 0.5.2",
   "language": "julia",
   "name": "julia-0.5"
  },
  "language_info": {
   "file_extension": ".jl",
   "mimetype": "application/julia",
   "name": "julia",
   "version": "0.5.2"
  }
 },
 "nbformat": 4,
 "nbformat_minor": 1
}
