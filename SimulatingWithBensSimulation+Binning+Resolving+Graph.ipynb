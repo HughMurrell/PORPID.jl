{
 "cells": [
  {
   "cell_type": "code",
   "execution_count": 1,
   "metadata": {},
   "outputs": [
    {
     "name": "stderr",
     "output_type": "stream",
     "text": [
      "WARNING: requiring \"NGSutilsFuncs\" in module \"Main\" did not define a corresponding module.\n"
     ]
    }
   ],
   "source": [
    "# Importing stuff\n",
    "push!(LOAD_PATH, \"/Users/robert/bio/BeNGS\")\n",
    "using NGSutilsFuncs\n",
    "using Distributions\n",
    "using HMMIDMethods\n",
    "using HMMIDConfig\n",
    "using Nucleotides\n",
    "using States\n",
    "using Observations\n",
    "using NeedlemanWunsch\n",
    "using PyPlot\n",
    "using StatsBase"
   ]
  },
  {
   "cell_type": "code",
   "execution_count": 2,
   "metadata": {},
   "outputs": [
    {
     "data": {
      "text/plain": [
       "\"./\""
      ]
     },
     "execution_count": 2,
     "metadata": {},
     "output_type": "execute_result"
    }
   ],
   "source": [
    "# Where is the HMMIDs directory relative to where you're running your julia notebook?\n",
    "path_to_hmmids = \"./\""
   ]
  },
  {
   "cell_type": "markdown",
   "metadata": {},
   "source": [
    "# Making a simulated dataset"
   ]
  },
  {
   "cell_type": "code",
   "execution_count": 3,
   "metadata": {},
   "outputs": [
    {
     "data": {
      "text/html": [
       "1000"
      ],
      "text/plain": [
       "1000"
      ]
     },
     "execution_count": 3,
     "metadata": {},
     "output_type": "execute_result"
    }
   ],
   "source": [
    "srand(1234)\n",
    "sample_size = 1000"
   ]
  },
  {
   "cell_type": "code",
   "execution_count": 4,
   "metadata": {
    "collapsed": true
   },
   "outputs": [],
   "source": [
    "sequences_in_fasta = []\n",
    "for sequence in Nucleotides.FastaIterator(\"$(path_to_hmmids)data/P018_HQCS_short.fasta\")\n",
    "    push!(sequences_in_fasta, (sequence.label, replace(join(map(string, sequence.seq)), \"-\", \"\")))\n",
    "end"
   ]
  },
  {
   "cell_type": "code",
   "execution_count": 5,
   "metadata": {
    "collapsed": true
   },
   "outputs": [],
   "source": [
    "number_of_reads = 100000\n",
    "original_templates = sample_size\n",
    "pcr_cycles = 45\n",
    "double = log(2)\n",
    "pcr_efficiency = 0.7\n",
    "dist = Binomial(pcr_cycles, pcr_efficiency)\n",
    "molecules = e.^(rand(dist, (original_templates)) * double)\n",
    "template_count = zeros(Int64, original_templates)\n",
    "for molecule in wsample(1:original_templates, molecules, number_of_reads)\n",
    "    template_count[molecule] += 1\n",
    "end;\n",
    "#bar(1:original_templates, template_count);\n",
    "\n",
    "#g = Geometric(1/51)\n",
    "#template_count = rand(g, sample_size)"
   ]
  },
  {
   "cell_type": "code",
   "execution_count": 6,
   "metadata": {},
   "outputs": [
    {
     "name": "stdout",
     "output_type": "stream",
     "text": [
      " 11.266809 seconds (107.10 M allocations: 2.932 GB, 14.43% gc time)\n"
     ]
    }
   ],
   "source": [
    "# Generating our dataset using our samples as seeds\n",
    "primer_before_pid = \"GATTACA\"\n",
    "pid_length = 8\n",
    "primer_after_pid = \"ACGTACGTGGAAGACTTA\"\n",
    "i = 1\n",
    "true_sequences = Array{String,1}()\n",
    "generated_sequences = Array{Tuple{String, String, Array{Float64}}}(sum(template_count))\n",
    "generated_tag_counts = Dict()\n",
    "tag_to_original_sequence = Dict()\n",
    "generated_index = 1\n",
    "@time for k in template_count\n",
    "    sequence = sample(sequences_in_fasta)\n",
    "    pid = join(rand([\"A\", \"C\", \"G\", \"T\"], pid_length))\n",
    "    template = (\"$(primer_before_pid)$(pid)$(primer_after_pid)$(sequence[2])\")\n",
    "    push!(true_sequences, template)\n",
    "    generated = envPBseqSim(template, k, withQVs=true)\n",
    "    for j in 1:length(generated)\n",
    "        label = \"PID_$(i)_$(pid)_$(j)_of_$(k)\"\n",
    "        generated_sequences[generated_index] = (label, generated[j][1], generated[j][2])\n",
    "        generated_index += 1\n",
    "        if generated_index % 50000 == 0\n",
    "            try\n",
    "                run(`say -r 600 Generated $(generated_index) sequences`)\n",
    "            end\n",
    "        end\n",
    "    end\n",
    "    generated_tag_counts[pid] = k\n",
    "    tag_to_original_sequence[pid] = template\n",
    "    i += 1\n",
    "end\n",
    "shuffle!(generated_sequences);"
   ]
  },
  {
   "cell_type": "code",
   "execution_count": 7,
   "metadata": {},
   "outputs": [
    {
     "name": "stdout",
     "output_type": "stream",
     "text": [
      "0 duplicates\n"
     ]
    }
   ],
   "source": [
    "println(\"$(length(Set(generated_tag_counts)) - length(generated_tag_counts)) duplicates\")"
   ]
  },
  {
   "cell_type": "code",
   "execution_count": 8,
   "metadata": {},
   "outputs": [
    {
     "data": {
      "image/png": "[encoded data removed]",
      "text/plain": [
       "PyPlot.Figure(PyObject <matplotlib.figure.Figure object at 0x3133a7cd0>)"
      ]
     },
     "metadata": {},
     "output_type": "display_data"
    }
   ],
   "source": [
    "fig, ax = subplots()\n",
    "ax[:hist](collect(values(generated_tag_counts)), 50);"
   ]
  },
  {
   "cell_type": "markdown",
   "metadata": {},
   "source": [
    "# Running HMMIDS on Simulation Data"
   ]
  },
  {
   "cell_type": "code",
   "execution_count": 9,
   "metadata": {},
   "outputs": [
    {
     "data": {
      "text/plain": [
       "1-element Array{HMMIDConfig.Template,1}:\n",
       " HMMIDConfig.Template(\"Reference\",States.AbstractState[States.StartingState(),States.ObservableState(DNA_G),States.ObservableState(DNA_A),States.ObservableState(DNA_T),States.ObservableState(DNA_T),States.ObservableState(DNA_A),States.ObservableState(DNA_C),States.ObservableState(DNA_A),States.BarcodeState(DNA_N),States.BarcodeState(DNA_N)  …  States.ObservableState(DNA_G),States.ObservableState(DNA_A),States.ObservableState(DNA_A),States.ObservableState(DNA_G),States.ObservableState(DNA_A),States.ObservableState(DNA_C),States.ObservableState(DNA_T),States.ObservableState(DNA_T),States.ObservableState(DNA_A),States.RepeatingAnyState(DNA_N)])"
      ]
     },
     "execution_count": 9,
     "metadata": {},
     "output_type": "execute_result"
    }
   ],
   "source": [
    "cfg = Configuration()\n",
    "cfg.start_inclusive = 0\n",
    "cfg.end_inclusive = length(primer_before_pid) + pid_length + length(primer_after_pid) + 5\n",
    "cfg.try_reverse = false\n",
    "push!(cfg.templates, Template(\"Reference\", \"$(primer_before_pid)$(repeat(\"n\", pid_length))$(primer_after_pid)*\"))"
   ]
  },
  {
   "cell_type": "code",
   "execution_count": 10,
   "metadata": {},
   "outputs": [
    {
     "name": "stdout",
     "output_type": "stream",
     "text": [
      "122.436474 seconds (2.19 G allocations: 35.026 GB, 11.22% gc time)\n"
     ]
    }
   ],
   "source": [
    "tag_dict = Dict()\n",
    "\n",
    "# This is the slow bit\n",
    "@time for sequence in generated_sequences\n",
    "    start_i = HMMIDMethods.py_index_to_julia(cfg.start_inclusive, length(sequence[2]), true)\n",
    "    end_i = HMMIDMethods.py_index_to_julia(cfg.end_inclusive, length(sequence[2]), true)\n",
    "\n",
    "    seq = map(DNASymbol, collect(sequence[2])[start_i:end_i])\n",
    "    prob  = 1 - sequence[3][start_i:end_i]\n",
    "    observations = map(Observations.Observation, seq, prob)\n",
    "    \n",
    "    score, tag, errors = NeedlemanWunsch.extract_tag(observations, cfg.templates[1].reference)\n",
    "    \n",
    "    tag = length(tag) > 0 ? join(map(string, tag), \"\") : \"NO_TAG\"\n",
    "    tag = errors <= cfg.max_allowed_errors ? tag : \"REJECTS\"\n",
    "    if !haskey(tag_dict, tag)\n",
    "        tag_dict[tag] = []\n",
    "    end\n",
    "    push!(tag_dict[tag], (score, sequence))\n",
    "end"
   ]
  },
  {
   "cell_type": "code",
   "execution_count": 11,
   "metadata": {
    "collapsed": true
   },
   "outputs": [],
   "source": [
    "real_tags = Set()\n",
    "observed_tags = Set()\n",
    "for observed_label in keys(tag_dict)\n",
    "    for (score, sequence) in tag_dict[observed_label]\n",
    "        real_label = split(sequence[1], \"_\")[3]\n",
    "        push!(real_tags, real_label)\n",
    "        push!(observed_tags, observed_label)\n",
    "    end\n",
    "end"
   ]
  },
  {
   "cell_type": "code",
   "execution_count": 12,
   "metadata": {
    "collapsed": true
   },
   "outputs": [],
   "source": [
    "tag_counts = Dict() \n",
    "tags = []\n",
    "index = 1\n",
    "for tag in keys(tag_dict)\n",
    "    push!(tags, tag)\n",
    "    tag_counts[tag] = length(tag_dict[tag])\n",
    "end"
   ]
  },
  {
   "cell_type": "markdown",
   "metadata": {},
   "source": [
    "# Resolving which tags are real"
   ]
  },
  {
   "cell_type": "code",
   "execution_count": 34,
   "metadata": {},
   "outputs": [
    {
     "name": "stdout",
     "output_type": "stream",
     "text": [
      " 13.711949 seconds (71.10 M allocations: 3.165 GB, 37.43% gc time)\n"
     ]
    }
   ],
   "source": [
    "using Resolving\n",
    "recurse = 1\n",
    "pacbio_error_rate = 0.005\n",
    "tag_to_index, index_to_tag = tag_index_mapping(tags)\n",
    "@time probabilities_array = prob_observed_tags_given_reals(tag_to_index, Resolving.PacBioErrorModel(pacbio_error_rate), recurse)\n",
    "indexed_counts = index_counts(tag_counts, tag_to_index);"
   ]
  },
  {
   "cell_type": "code",
   "execution_count": 35,
   "metadata": {
    "collapsed": true
   },
   "outputs": [],
   "source": [
    "using CustomLDA\n",
    "dirichlet_concentration = 0.5\n",
    "most_likely_real_for_each_obs = CustomLDA.LDA(probabilities_array, indexed_counts, concentration=dirichlet_concentration);"
   ]
  },
  {
   "cell_type": "code",
   "execution_count": 36,
   "metadata": {},
   "outputs": [
    {
     "data": {
      "text/plain": [
       "2610-element Array{Any,1}:\n",
       " (0,\"AAAAGCTG\")       \n",
       " (0,\"AAAAGCTTG\")      \n",
       " (0,\"AAAAGGAGC\")      \n",
       " (0,\"AAAAGTAAG\")      \n",
       " (0,\"AAAATTGG\")       \n",
       " (0,\"AAACAGGGG\")      \n",
       " (0,\"AAACAGTTC\")      \n",
       " (0,\"AAACCCA\")        \n",
       " (0,\"AAACGTCGG\")      \n",
       " (0,\"AAACTGTCA\")      \n",
       " (0,\"AAAGAAA\")        \n",
       " (0,\"AAAGAAAC\")       \n",
       " (0,\"AAAGAACT\")       \n",
       " ⋮                    \n",
       " (0.999999,\"GTACACAA\")\n",
       " (0.999999,\"ACACATAG\")\n",
       " (0.999999,\"CATCGTAG\")\n",
       " (0.999999,\"TTTTTGAC\")\n",
       " (0.999999,\"ATTAGGTT\")\n",
       " (1.0,\"TACCGCTA\")     \n",
       " (1.0,\"TTGTCCGG\")     \n",
       " (1.0,\"CATGCGCT\")     \n",
       " (1.0,\"CTACACTG\")     \n",
       " (1.0,\"GATATCAA\")     \n",
       " (1.0,\"TTGATGGA\")     \n",
       " (1.0,\"GCATCGGC\")     "
      ]
     },
     "execution_count": 36,
     "metadata": {},
     "output_type": "execute_result"
    }
   ],
   "source": [
    "minimum_bin_size = 1\n",
    "likely_real = []\n",
    "tag_to_prob = Dict()\n",
    "for (observed_index, tuple) in enumerate(most_likely_real_for_each_obs)\n",
    "    prob = tuple[2]\n",
    "    if tag_counts[index_to_tag[observed_index]] <= minimum_bin_size\n",
    "        prob = 0\n",
    "    end\n",
    "    if observed_index != tuple[1]\n",
    "        prob = 0\n",
    "    end\n",
    "    tag_to_prob[index_to_tag[observed_index]] = prob\n",
    "    push!(likely_real, (prob, index_to_tag[observed_index]))\n",
    "end\n",
    "sort!(likely_real)"
   ]
  },
  {
   "cell_type": "code",
   "execution_count": 37,
   "metadata": {},
   "outputs": [
    {
     "data": {
      "text/plain": [
       "2610-element Array{Any,1}:\n",
       " (1,\"AAAAGCTG\")   \n",
       " (1,\"AAAAGGAGC\")  \n",
       " (1,\"AAAAGTAAG\")  \n",
       " (1,\"AAAATTGG\")   \n",
       " (1,\"AAACAGGGG\")  \n",
       " (1,\"AAACAGTTC\")  \n",
       " (1,\"AAACCCA\")    \n",
       " (1,\"AAACGTCGG\")  \n",
       " (1,\"AAACTGTCA\")  \n",
       " (1,\"AAAGAAA\")    \n",
       " (1,\"AAAGAAAC\")   \n",
       " (1,\"AAAGAACT\")   \n",
       " (1,\"AAAGAAG\")    \n",
       " ⋮                \n",
       " (1189,\"CGGATGGT\")\n",
       " (1191,\"AGAAGTGT\")\n",
       " (1216,\"TGTTATGT\")\n",
       " (1242,\"AGATAAGG\")\n",
       " (2274,\"AGATCCCG\")\n",
       " (2320,\"GTCGCGCT\")\n",
       " (2354,\"TCGATCAA\")\n",
       " (2360,\"TTTGCTTA\")\n",
       " (2406,\"GTGGATGT\")\n",
       " (2406,\"GTTTCCGC\")\n",
       " (4731,\"ACTCCTCG\")\n",
       " (4736,\"GTAGTCCT\")"
      ]
     },
     "execution_count": 37,
     "metadata": {},
     "output_type": "execute_result"
    }
   ],
   "source": [
    "count_tag = []\n",
    "for tag in keys(tag_counts)\n",
    "    push!(count_tag, (tag_counts[tag], tag))\n",
    "end\n",
    "sort!(count_tag)"
   ]
  },
  {
   "cell_type": "code",
   "execution_count": 38,
   "metadata": {},
   "outputs": [
    {
     "name": "stderr",
     "output_type": "stream",
     "text": [
      "WARNING: Method definition false_pos_neg_graph(Any, Any) in module Main at In[17]:2 overwritten at In[38]:2.\n"
     ]
    },
    {
     "data": {
      "text/plain": [
       "false_pos_neg_graph (generic function with 1 method)"
      ]
     },
     "execution_count": 38,
     "metadata": {},
     "output_type": "execute_result"
    }
   ],
   "source": [
    "function false_pos_neg_graph(pairs, real_tags)\n",
    "    false_positive_count = 0\n",
    "    true_positive_count = 0\n",
    "    for (value, tag) in pairs\n",
    "        if (tag in real_tags)\n",
    "            true_positive_count += 1\n",
    "        else\n",
    "            false_positive_count += 1\n",
    "        end\n",
    "    end\n",
    "    x_values = [false_positive_count]\n",
    "    y_values = [true_positive_count]\n",
    "    for (value, tag) in pairs\n",
    "        if tag in real_tags\n",
    "            true_positive_count -= 1\n",
    "        else\n",
    "            false_positive_count -= 1\n",
    "        end\n",
    "        push!(x_values, false_positive_count)\n",
    "        push!(y_values, true_positive_count)\n",
    "    end\n",
    "    return x_values, y_values\n",
    "end"
   ]
  },
  {
   "cell_type": "code",
   "execution_count": 39,
   "metadata": {},
   "outputs": [
    {
     "name": "stderr",
     "output_type": "stream",
     "text": [
      "WARNING: Method definition filter_out_same_values(Any, Any) in module Main at In[18]:2 overwritten at In[39]:2.\n"
     ]
    },
    {
     "data": {
      "text/plain": [
       "filter_out_same_values (generic function with 1 method)"
      ]
     },
     "execution_count": 39,
     "metadata": {},
     "output_type": "execute_result"
    }
   ],
   "source": [
    "function filter_out_same_values(sorted_values, dependant_variable)\n",
    "    out = [dependant_variable[1]]\n",
    "    last_value = 0\n",
    "    for i in 1:length(sorted_values)\n",
    "        if sorted_values[i] > last_value\n",
    "            push!(out, dependant_variable[i+1])\n",
    "            last_value = sorted_values[i]\n",
    "        end\n",
    "    end\n",
    "    return out\n",
    "end"
   ]
  },
  {
   "cell_type": "code",
   "execution_count": 40,
   "metadata": {
    "collapsed": true
   },
   "outputs": [],
   "source": [
    "x_us, y_us = false_pos_neg_graph(likely_real, real_tags) \n",
    "x_us = filter_out_same_values([x[1] for x in likely_real], x_us)\n",
    "y_us = filter_out_same_values([x[1] for x in likely_real], y_us)\n",
    "short_likely_real = vcat([0.], [x[1] for x in likely_real])\n",
    "short_likely_real = filter_out_same_values([x[1] for x in likely_real], short_likely_real)\n",
    "\n",
    "x_ron, y_ron = false_pos_neg_graph(count_tag, real_tags)\n",
    "x_ron = filter_out_same_values([x[1] for x in count_tag], x_ron)\n",
    "y_ron = filter_out_same_values([x[1] for x in count_tag], y_ron)\n",
    "short_count_tag = vcat([0], [x[1] for x in count_tag]) \n",
    "short_count_tag = filter_out_same_values([x[1] for x in count_tag], short_count_tag);"
   ]
  },
  {
   "cell_type": "code",
   "execution_count": 41,
   "metadata": {},
   "outputs": [
    {
     "name": "stderr",
     "output_type": "stream",
     "text": [
      "WARNING: Method definition (::Type{Main.GraphVariables})(Any, Any, Any, Any, Any, Any, Any, Any) in module Main at In[20]:2 overwritten at In[41]:2.\n",
      "WARNING: Method definition (::Type{Main.GraphVariables})() in module Main at In[20]:11 overwritten at In[41]:11.\n"
     ]
    },
    {
     "ename": "LoadError",
     "evalue": "syntax: invalid iteration specification",
     "output_type": "error",
     "traceback": [
      "syntax: invalid iteration specification",
      ""
     ]
    }
   ],
   "source": [
    "type GraphVariables \n",
    "    sample_size\n",
    "    number_of_reads\n",
    "    recurse\n",
    "    pacbio_error_rate\n",
    "    dirichlet_concentration\n",
    "    pcr_cycles\n",
    "    pcr_efficiency\n",
    "    minimum_bin_size\n",
    "end\n",
    "GraphVariables() = GraphVariables(1000,100000,1,0.005,0.5,45,0.7,1)\n",
    "function GraphVariables(symbols::Array{Symbol}, values::Array{Any})\n",
    "    gv = GraphVariables()\n",
    "    for symbol, value in zip(symbols, values)\n",
    "        setfield!(gv, symbol, value)\n",
    "    end\n",
    "    return gv\n",
    "end"
   ]
  },
  {
   "cell_type": "code",
   "execution_count": 42,
   "metadata": {},
   "outputs": [
    {
     "name": "stderr",
     "output_type": "stream",
     "text": [
      "\u001b[1m\u001b[34mINFO: Symbol[:sample_size,:number_of_reads,:recurse,:pacbio_error_rate,:dirichlet_concentration,:pcr_cycles,:pcr_efficiency,:minimum_bin_size]\n",
      "\u001b[0m\u001b[1m\u001b[34mINFO: Reading 2 existing plots from file\n",
      "\u001b[0m"
     ]
    }
   ],
   "source": [
    "# Read from file\n",
    "filename = \"BensTempOutput2.csv\"\n",
    "plots = []\n",
    "if isfile(filename)\n",
    "    file = open(filename)\n",
    "    variables = map(Symbol, split(strip(readline(file)), \",\"))\n",
    "    info(variables)\n",
    "    number_of_plots = parse(strip(readline(file)))\n",
    "    info(\"Reading $(number_of_plots) existing plots from file\")\n",
    "    for i in 1:number_of_plots\n",
    "        parameters = map(parse, split(strip(readline(file)),\",\"))\n",
    "        our_threshold = map(parse, split(strip(readline(file)),\",\"))\n",
    "        our_x = map(parse, split(strip(readline(file)),\",\"))\n",
    "        our_y = map(parse, split(strip(readline(file)),\",\"))\n",
    "        rons_threshold = map(parse, split(strip(readline(file)),\",\"))\n",
    "        rons_x = map(parse, split(strip(readline(file)),\",\"))\n",
    "        rons_y = map(parse, split(strip(readline(file)),\",\"))\n",
    "        push!(plots, (parameters, our_threshold, our_x, our_y, rons_threshold, rons_x, rons_y))\n",
    "    end\n",
    "end;"
   ]
  },
  {
   "cell_type": "code",
   "execution_count": 43,
   "metadata": {},
   "outputs": [
    {
     "data": {
      "text/plain": [
       "3-element Array{Any,1}:\n",
       " (Real[1000,100000,1,0.005,0.5,35,0.7,1],[0.0,0.399306,0.512932,0.514673,0.527387,0.53271,0.534657,0.541409,0.545387,0.547871  …  0.999999,0.999999,0.999999,0.999999,0.999999,0.999999,0.999999,1.0,1.0,1.0],[1952,314,313,312,311,310,309,308,307,306  …  0,0,0,0,0,0,0,0,0,0],[931,880,880,880,880,880,880,880,880,880  …  12,11,10,9,7,5,3,2,1,0],[0,1,2,3,4,5,6,7,8,9  …  993,1765,1782,1825,1826,1878,1900,1915,3691,3698],[1952,1951,438,158,86,56,35,22,17,12  …  0,0,0,0,0,0,0,0,0,0],[931,931,879,838,804,762,732,712,688,670  …  10,8,7,6,5,4,3,2,1,0])            \n",
       " (Real[1000,100000,1,0.025,0.5,45,0.7,1],[0.0,0.474757,0.486041,0.491567,0.49326,0.497363,0.49911,0.499696,0.500086,0.500841  …  0.999983,0.999983,0.999984,0.999988,0.99999,0.999991,0.999992,0.999992,0.999993,0.999995],[1730,124,123,122,121,120,119,118,117,116  …  0,0,0,0,0,0,0,0,0,0],[880,814,814,814,814,814,814,814,814,814  …  9,8,7,6,5,4,3,2,1,0],[0,1,2,3,4,5,6,7,8,9  …  1191,1216,1242,2274,2320,2354,2360,2406,4731,4736],[1730,1729,438,192,112,74,57,39,27,18  …  0,0,0,0,0,0,0,0,0,0],[880,880,818,763,715,677,648,620,599,584  …  10,9,8,7,6,5,4,3,1,0])\n",
       " (Real[1000,100000,1,0.005,0.5,45,0.7,1],[0.0,0.517171,0.517269,0.517708,0.518511,0.547245,0.548297,0.551255,0.552753,0.557103  …  0.999999,0.999999,0.999999,0.999999,0.999999,0.999999,0.999999,1.0,1.0,1.0],[1730,308,307,306,305,304,303,302,301,300  …  0,0,0,0,0,0,0,0,0,0],[880,818,818,818,818,818,818,818,818,818  …  21,19,16,14,12,10,7,6,4,0],[0,1,2,3,4,5,6,7,8,9  …  1191,1216,1242,2274,2320,2354,2360,2406,4731,4736],[1730,1729,438,192,112,74,57,39,27,18  …  0,0,0,0,0,0,0,0,0,0],[880,880,818,763,715,677,648,620,599,584  …  10,9,8,7,6,5,4,3,1,0])      "
      ]
     },
     "execution_count": 43,
     "metadata": {},
     "output_type": "execute_result"
    }
   ],
   "source": [
    "push!(plots, (map(eval, variables), short_likely_real, x_us, y_us, short_count_tag, x_ron, y_ron))"
   ]
  },
  {
   "cell_type": "code",
   "execution_count": 44,
   "metadata": {},
   "outputs": [
    {
     "data": {
      "text/html": [
       "1061"
      ],
      "text/plain": [
       "1061"
      ]
     },
     "execution_count": 44,
     "metadata": {},
     "output_type": "execute_result"
    }
   ],
   "source": [
    "length(plots[3][4])"
   ]
  },
  {
   "cell_type": "code",
   "execution_count": 45,
   "metadata": {
    "collapsed": true
   },
   "outputs": [],
   "source": [
    "# Write to file\n",
    "parameters = \n",
    "file = open(filename, \"w\")\n",
    "write(file, \"$(join(variables, \",\"))\\n\")\n",
    "write(file, \"$(length(plots))\\n\")\n",
    "for plot in plots\n",
    "    write(file, \"$(join(plot[1], \",\"))\\n\") # The values of the parameters for the plot\n",
    "    write(file, \"$(join(plot[2], \",\"))\\n\") # Our threshold values\n",
    "    write(file, \"$(join(plot[3], \",\"))\\n\") # Our x values\n",
    "    write(file, \"$(join(plot[4], \",\"))\\n\") # Our y values\n",
    "    write(file, \"$(join(plot[5], \",\"))\\n\") # Ron's threshold values\n",
    "    write(file, \"$(join(plot[6], \",\"))\\n\") # Ron's x values\n",
    "    write(file, \"$(join(plot[7], \",\"))\\n\") # Ron's y values\n",
    "end\n",
    "close(file)"
   ]
  },
  {
   "cell_type": "code",
   "execution_count": 46,
   "metadata": {},
   "outputs": [
    {
     "name": "stdout",
     "output_type": "stream",
     "text": [
      "0.9 - 99 false positive, 814 true positive (out of 993)\n"
     ]
    },
    {
     "data": {
      "image/png": "[encoded data removed]",
      "text/plain": [
       "PyPlot.Figure(PyObject <matplotlib.figure.Figure object at 0x323856990>)"
      ]
     },
     "metadata": {},
     "output_type": "display_data"
    },
    {
     "name": "stdout",
     "output_type": "stream",
     "text": [
      "0.95 - 47 false positive, 813 true positive (out of 993)\n",
      "0.99 - 14 false positive, 798 true positive (out of 993)\n",
      "0.995 - 6 false positive, 784 true positive (out of 993)\n"
     ]
    }
   ],
   "source": [
    "fig, ax = subplots()\n",
    "\n",
    "# Printing points for the different special thresholds\n",
    "# Ben's threshold points\n",
    "threshold = [.9, .95, .99, .995, 100]\n",
    "threshold_i = 1\n",
    "for i in 1:length(short_likely_real)\n",
    "    if short_likely_real[i][1] > threshold[threshold_i]\n",
    "        ax[:plot](x_us[i], y_us[i], \".\", color=\"black\", )\n",
    "        println(\"$(threshold[threshold_i]) - $(x_us[i]) false positive, $(y_us[i]) true positive (out of $(length(generated_tag_counts)))\")\n",
    "        threshold_i += 1\n",
    "    end\n",
    "end\n",
    "# Ron's \n",
    "threshold = [1, 2, 3, 4, 5, 10, 15, 20, 10000000]\n",
    "threshold_i = 1\n",
    "for i in 1:length(short_count_tag)\n",
    "    if short_count_tag[i][1] > threshold[threshold_i]\n",
    "        ax[:plot](x_ron[i+1], y_ron[i+1], \".\", color=\"black\")\n",
    "        threshold_i += 1\n",
    "    end\n",
    "end\n",
    "\n",
    "# Plotting the plots from the save file, as well as our new plots\n",
    "for plot in plots\n",
    "    parms = ax[:plot](plot[3], plot[4], linewidth=2, label=\"$(join(plot[1],\",\"))\", alpha=0.4)\n",
    "    chosen_color = parms[1][:get_color]()\n",
    "    ax[:plot](plot[6], plot[7], linestyle=\"--\", linewidth=2, color=chosen_color, alpha=0.4)\n",
    "end\n",
    "\n",
    "ax[:legend](loc=4)\n",
    "xlim([0,300])\n",
    "#ylim([1500,2000])\n",
    "#ylim([700,900])\n",
    "xlabel(\"false positives\")\n",
    "ylabel(\"true positives\");\n"
   ]
  },
  {
   "cell_type": "code",
   "execution_count": 47,
   "metadata": {},
   "outputs": [
    {
     "data": {
      "image/png": "[encoded data removed]",
      "text/plain": [
       "PyPlot.Figure(PyObject <matplotlib.figure.Figure object at 0x3239c28d0>)"
      ]
     },
     "metadata": {},
     "output_type": "display_data"
    },
    {
     "name": "stdout",
     "output_type": "stream",
     "text": [
      "0.9 - 99 false positive, 814 true positive (out of 993)\n",
      "0.95 - 47 false positive, 813 true positive (out of 993)\n",
      "0.99 - 14 false positive, 798 true positive (out of 993)\n",
      "0.995 - 6 false positive, 784 true positive (out of 993)\n"
     ]
    }
   ],
   "source": [
    "# Printing for the proposal\n",
    "fig, ax = subplots()\n",
    "\n",
    "# Printing points for the different special thresholds\n",
    "# Ben's threshold points\n",
    "threshold = [.9, .95, .99, .995, 100]\n",
    "threshold_i = 1\n",
    "for i in 1:length(short_likely_real)\n",
    "    if short_likely_real[i][1] > threshold[threshold_i]\n",
    "        #ax[:plot](x_us[i], y_us[i], \".\", color=\"red\")\n",
    "        println(\"$(threshold[threshold_i]) - $(x_us[i]) false positive, $(y_us[i]) true positive (out of $(length(generated_tag_counts)))\")\n",
    "        threshold_i += 1\n",
    "    end\n",
    "end\n",
    "# Ron's \n",
    "threshold = [1, 2, 3, 4, 5, 10, 15, 20, 10000000]\n",
    "threshold_i = 1\n",
    "for i in 1:length(short_count_tag)\n",
    "    if short_count_tag[i][1] > threshold[threshold_i]\n",
    "        #ax[:plot](x_ron[i+1], y_ron[i+1], \".\", color=\"blue\")\n",
    "        threshold_i += 1\n",
    "    end\n",
    "end\n",
    "\n",
    "(map(eval, variables), short_likely_real, x_us, y_us, short_count_tag, x_ron, y_ron)\n",
    "ax[:plot](x_us, y_us, linewidth=2, color=\"red\", label=\"PORPID\", alpha=0.7)\n",
    "ax[:plot](x_ron, y_ron, linewidth=2, color=\"blue\", label=\"SWANSON\", alpha=0.7)\n",
    "\n",
    "ax[:legend](loc=4)\n",
    "xlim([0,800])\n",
    "#ylim([1500,2000])\n",
    "#ylim([700,900])\n",
    "xlabel(\"false positives\")\n",
    "ylabel(\"true positives\");\n"
   ]
  },
  {
   "cell_type": "code",
   "execution_count": 48,
   "metadata": {
    "collapsed": true
   },
   "outputs": [],
   "source": [
    "threshold = 0.95\n",
    "included = Set()\n",
    "excluded = Set()\n",
    "for (prob, tag) in likely_real\n",
    "    if prob >= threshold\n",
    "        push!(included, tag)\n",
    "    else\n",
    "        push!(excluded, tag)\n",
    "    end\n",
    "end"
   ]
  },
  {
   "cell_type": "code",
   "execution_count": 49,
   "metadata": {},
   "outputs": [
    {
     "name": "stdout",
     "output_type": "stream",
     "text": [
      "Of the 993 original tags, 813 were recovered\n"
     ]
    }
   ],
   "source": [
    "# Of the initial number of tags, how many are recovered?\n",
    "recovered_tags = 0\n",
    "for generated_tag in keys(generated_tag_counts)\n",
    "    if generated_tag in included\n",
    "        recovered_tags += 1\n",
    "    end\n",
    "end\n",
    "println(\"Of the $(length(generated_tag_counts)) original tags, $(recovered_tags) were recovered\")"
   ]
  },
  {
   "cell_type": "code",
   "execution_count": 50,
   "metadata": {},
   "outputs": [
    {
     "name": "stdout",
     "output_type": "stream",
     "text": [
      "TCGGTCAA - 9 generated copies - 10 seen copies - 0.9232042 probability of being real\n",
      "\tTCGGTCAA - 10 seen copies - 0.96069306 chance of indel\n",
      "\tTCGGATCAA - 1 seen copies - 0.00048077828 chance of indel\n"
     ]
    },
    {
     "data": {
      "image/png": "[encoded data removed]",
      "text/plain": [
       "PyPlot.Figure(PyObject <matplotlib.figure.Figure object at 0x323695250>)"
      ]
     },
     "metadata": {},
     "output_type": "display_data"
    },
    {
     "name": "stdout",
     "output_type": "stream",
     "text": [
      "\tTCGTTCAA - 1 seen copies - 0.00033034215 chance of indel\n",
      "\tTCGATCAA - 2354 seen copies - 0.0003263422 chance of indel\n",
      "\tTGGTCCAA - 2 seen copies - 4.0f-6 chance of indel\n",
      "\tTCGTCAGA - 68 seen copies - 4.0f-6 chance of indel\n",
      "\tTCGACAA - 1 seen copies - 4.0f-6 chance of indel\n",
      "\tTCGGATCA - 1 seen copies - 4.0f-6 chance of indel\n",
      "\tGCGTCAA - 3 seen copies - 2.6666667f-6 chance of indel\n",
      "\tTGGGCAA - 1 seen copies - 2.6666667f-6 chance of indel\n",
      "\tTCATCAA - 3 seen copies - 2.6666667f-6 chance of indel\n",
      "\tTCGTCGA - 1 seen copies - 2.6666667f-6 chance of indel\n",
      "\tTCGATCA - 10 seen copies - 2.6666667f-6 chance of indel\n",
      "\tTCGTCAG - 1 seen copies - 2.6666667f-6 chance of indel\n",
      "\tTGGATCAA - 1 seen copies - 2.2222223f-6 chance of indel\n",
      "\tTGGACAA - 1 seen copies - 1.3333333f-6 chance of indel\n",
      "\tTGATCAA - 1 seen copies - 1.3333333f-6 chance of indel\n",
      "\tTCGATAA - 2 seen copies - 1.3333333f-6 chance of indel\n",
      "\tCGATCAA - 2 seen copies - 1.3333333f-6 chance of indel\n",
      "\tTCGATTCAA - 2 seen copies - 1.0f-6 chance of indel\n",
      "\tTCGATCAAA - 7 seen copies - 1.0f-6 chance of indel\n",
      "\tTCCGATCAA - 2 seen copies - 1.0f-6 chance of indel\n",
      "\tTCGAATCAA - 1 seen copies - 6.6666666f-7 chance of indel\n",
      "\tTCGATCCAA - 2 seen copies - 6.6666666f-7 chance of indel\n",
      "\tTCGTGGCAA - 2 seen copies - 3.3333333f-7 chance of indel\n",
      "\tTCGATTAA - 3 seen copies - 2.2222223f-7 chance of indel\n",
      "\tGCGATCAA - 1 seen copies - 2.2222223f-7 chance of indel\n",
      "\tTCTATCAA - 1 seen copies - 2.2222223f-7 chance of indel\n",
      "\tTCAATCAA - 3 seen copies - 2.2222223f-7 chance of indel\n",
      "\tACTGTCAA - 1 seen copies - 2.2222223f-7 chance of indel\n",
      "\tTAGGACAA - 2 seen copies - 2.2222223f-7 chance of indel\n",
      "\tTCGATCAC - 2 seen copies - 2.2222223f-7 chance of indel\n",
      "\tTCGCTCGA - 13 seen copies - 2.2222223f-7 chance of indel\n",
      "\tTCGAACAA - 1 seen copies - 2.2222223f-7 chance of indel\n",
      "\tTTGATCAA - 1 seen copies - 2.2222223f-7 chance of indel\n",
      "\tTCGATAAA - 1 seen copies - 2.2222223f-7 chance of indel\n",
      "\tTCGGTCTT - 1 seen copies - 2.2222223f-7 chance of indel\n",
      "\tTCGATCCA - 1 seen copies - 2.2222223f-7 chance of indel\n",
      "\tTCGATGAA - 1 seen copies - 2.2222223f-7 chance of indel\n",
      "\tTCGATCTA - 1 seen copies - 2.2222223f-7 chance of indel\n",
      "\tTCGATCGA - 1 seen copies - 2.2222223f-7 chance of indel\n"
     ]
    }
   ],
   "source": [
    "# Of the unrecovered tags, how many copies were generated\n",
    "unrecovered_copy_count = []\n",
    "but = \"None\"\n",
    "buts = 0\n",
    "for generated_tag in keys(generated_tag_counts)\n",
    "    if !(generated_tag in included)\n",
    "        push!(unrecovered_copy_count, generated_tag_counts[generated_tag])\n",
    "        if generated_tag_counts[generated_tag] > buts\n",
    "            buts = generated_tag_counts[generated_tag]\n",
    "            but = generated_tag\n",
    "        end\n",
    "    end\n",
    "end\n",
    "fig, ax = subplots()\n",
    "ax[:hist](unrecovered_copy_count, 50);\n",
    "println(\"$(but) - $(buts) generated copies - $(tag_counts[but]) seen copies - $(tag_to_prob[but]) probability of being real\")\n",
    "for (index, prob) in sort!(probabilities_array[tag_to_index[but]], by=x->-x[2])\n",
    "    println(\"\\t$(index_to_tag[index]) - $(tag_counts[index_to_tag[index]]) seen copies - $(prob) chance of indel\")\n",
    "end\n"
   ]
  },
  {
   "cell_type": "code",
   "execution_count": 51,
   "metadata": {},
   "outputs": [
    {
     "name": "stdout",
     "output_type": "stream",
     "text": [
      "Of the 861 recovered tags, 813 were valid, with a false positive rate of 5.5749%\n"
     ]
    }
   ],
   "source": [
    "# Of the recovered tags, how many are valid?\n",
    "valid_tags = 0\n",
    "for recovered_tag in included\n",
    "    if recovered_tag in keys(generated_tag_counts)\n",
    "        valid_tags += 1\n",
    "    end\n",
    "end\n",
    "println(\"Of the $(length(included)) recovered tags, $(valid_tags) were valid, with a false positive rate of $(round((length(included)-valid_tags)/length(included)*100,4))%\")"
   ]
  },
  {
   "cell_type": "code",
   "execution_count": 52,
   "metadata": {},
   "outputs": [
    {
     "data": {
      "image/png": "[encoded data removed]",
      "text/plain": [
       "PyPlot.Figure(PyObject <matplotlib.figure.Figure object at 0x323680310>)"
      ]
     },
     "metadata": {},
     "output_type": "display_data"
    }
   ],
   "source": [
    "# Of the validly recovered tags, how many of the original sequences are recovered\n",
    "recovered = []\n",
    "out_of = []\n",
    "for recovered_tag in included\n",
    "    if recovered_tag in keys(generated_tag_counts)\n",
    "        matching = 0\n",
    "        for sequence in tag_dict[recovered_tag]\n",
    "            real_label = split(sequence[2][1], \"_\")[3]\n",
    "            if real_label == recovered_tag\n",
    "                matching += 1\n",
    "            end\n",
    "        end\n",
    "        push!(recovered, matching)\n",
    "        push!(out_of, generated_tag_counts[recovered_tag])\n",
    "    end\n",
    "end\n",
    "scatter(recovered, out_of, alpha=0.5);"
   ]
  },
  {
   "cell_type": "code",
   "execution_count": 53,
   "metadata": {},
   "outputs": [
    {
     "name": "stdout",
     "output_type": "stream",
     "text": [
      "1 out of 45 mismatched tags for AGAGTTGA\n",
      "1 out of 82 mismatched tags for TAGTGGAC\n",
      "1 out of 20 mismatched tags for TATGGGCT\n",
      "1 out of 2 mismatched tags for GTAAGTGA\n",
      "2 out of 9 mismatched tags for AGCTAAGG\n",
      "1 out of 42 mismatched tags for ACGCTACA\n",
      "1 out of 11 mismatched tags for TAATCTTC\n",
      "1 out of 25 mismatched tags for TAATTAGT\n",
      "1 out of 4 mismatched tags for CAATGACC\n",
      "1 out of 8 mismatched tags for TTCGGGGG\n",
      "1 out of 2 mismatched tags for TAACGGAG\n"
     ]
    }
   ],
   "source": [
    "# Of the validly recovered tags, how many mismatched sequences are included\n",
    "for recovered_tag in included\n",
    "    if recovered_tag in keys(generated_tag_counts)\n",
    "        non_matching = 0\n",
    "        for sequence in tag_dict[recovered_tag]\n",
    "            real_label = split(sequence[2][1], \"_\")[3]\n",
    "            if real_label != recovered_tag\n",
    "                non_matching += 1\n",
    "            end\n",
    "        end\n",
    "        if non_matching > 0\n",
    "            println(\"$(non_matching) out of $(length(tag_dict[recovered_tag])) mismatched tags for $(recovered_tag)\")\n",
    "        end\n",
    "    end\n",
    "end"
   ]
  },
  {
   "cell_type": "markdown",
   "metadata": {},
   "source": [
    "# Getting consensuses"
   ]
  },
  {
   "cell_type": "markdown",
   "metadata": {},
   "source": [
    "edit_distances = []\n",
    "number_of_copies = []\n",
    "consensuses = []\n",
    "for recovered_tag in included\n",
    "    if !(recovered_tag in keys(tag_to_original_sequence))\n",
    "        println(\"$(recovered_tag) not actually an original tag\")\n",
    "        continue\n",
    "    end\n",
    "    sequences = map(x -> x[2][2], tag_dict[recovered_tag])\n",
    "    consensus_seq = consensusSeq(sequences)\n",
    "    push!(consensuses, consensus_seq)\n",
    "    original = tag_to_original_sequence[recovered_tag]\n",
    "    distance = kmerSeededEditDist(consensus_seq, original)\n",
    "    push!(edit_distances, distance)\n",
    "    push!(number_of_copies, generated_tag_counts[recovered_tag])\n",
    "    #println(\"$(recovered_tag) recovered with $((length(original) - distance) / length(original) * 100)% accuracy\")\n",
    "end"
   ]
  },
  {
   "cell_type": "markdown",
   "metadata": {},
   "source": [
    "sum(edit_distances)"
   ]
  },
  {
   "cell_type": "markdown",
   "metadata": {},
   "source": [
    "scatter(log(Array{Float64}(number_of_copies))+randn(length(edit_distances))*0.1, edit_distances+randn(length(edit_distances))*0.1, alpha = 0.1);"
   ]
  },
  {
   "cell_type": "markdown",
   "metadata": {
    "collapsed": true
   },
   "source": []
  }
 ],
 "metadata": {
  "kernelspec": {
   "display_name": "Julia 0.5.2",
   "language": "julia",
   "name": "julia-0.5"
  },
  "language_info": {
   "file_extension": ".jl",
   "mimetype": "application/julia",
   "name": "julia",
   "version": "0.5.2"
  }
 },
 "nbformat": 4,
 "nbformat_minor": 1
}
